{
 "cells": [
  {
   "cell_type": "markdown",
   "id": "49394797",
   "metadata": {},
   "source": [
    "# Categorical Modeling Procedures"
   ]
  },
  {
   "cell_type": "code",
   "execution_count": null,
   "id": "bf1fe1c3",
   "metadata": {},
   "outputs": [],
   "source": [
    "# MLP Regressor\n",
    "\n",
    "from sklearn.neural_network import MLPRegressor\n",
    "from sklearn.datasets import make_regression\n",
    "x,y = make_regression(n_samples = 21596,random_state=1)\n",
    "x_train,x_test,y_train,y_test = train_test_split(x,target,random_state=1)\n",
    "regr=MLPRegressor(random_state=1,max_iter=1200).fit(x_train,y_train)\n",
    "regr.predict(x_test[:2])\n",
    "regr.score(x_test,y_test)"
   ]
  },
  {
   "cell_type": "code",
   "execution_count": null,
   "id": "29469ce6",
   "metadata": {},
   "outputs": [],
   "source": [
    "# Logistic Regression\n",
    "\n",
    "transformer = Normalizer().fit(mcon)\n",
    "x_normalized = transformer.transform(mcon)\n",
    "x = pd.DataFrame(x_normalized)\n",
    "categorical = pd.get_dummies(mdis, columns=['waterfront', 'view', 'condition', 'new reno'])\n",
    "X = np.concatenate((x, categorical), axis=1)\n",
    "X_train, X_test, y_train, y_test = train_test_split(X, target, test_size=0.2, random_state=100)"
   ]
  },
  {
   "cell_type": "code",
   "execution_count": null,
   "id": "38104662",
   "metadata": {},
   "outputs": [],
   "source": [
    "from sklearn.linear_model import LogisticRegression\n",
    "classification = LogisticRegression(random_state=0, solver='lbfgs', max_iter= 1000,\n",
    "                  multi_class='multinomial').fit(X_train, y_train)\n",
    "classification.score(X_test, y_test)"
   ]
  }
 ],
 "metadata": {
  "kernelspec": {
   "display_name": "Python 3 (ipykernel)",
   "language": "python",
   "name": "python3"
  },
  "language_info": {
   "codemirror_mode": {
    "name": "ipython",
    "version": 3
   },
   "file_extension": ".py",
   "mimetype": "text/x-python",
   "name": "python",
   "nbconvert_exporter": "python",
   "pygments_lexer": "ipython3",
   "version": "3.9.7"
  }
 },
 "nbformat": 4,
 "nbformat_minor": 5
}
