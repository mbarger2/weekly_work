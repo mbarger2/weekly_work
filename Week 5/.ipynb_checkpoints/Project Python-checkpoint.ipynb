{
 "cells": [
  {
   "cell_type": "code",
   "execution_count": 1,
   "id": "95d0f35b",
   "metadata": {},
   "outputs": [],
   "source": [
    "import pandas as pd\n",
    "import seaborn as sns\n",
    "import matplotlib.pyplot as plt\n",
    "import numpy as np"
   ]
  },
  {
   "cell_type": "markdown",
   "id": "aed89258",
   "metadata": {},
   "source": [
    "# 1. Importing and Exploring Dataset"
   ]
  },
  {
   "cell_type": "code",
   "execution_count": 2,
   "id": "2b0d7229",
   "metadata": {},
   "outputs": [],
   "source": [
    "rawdata = pd.read_excel('c://Users//Owner//DA//Weekly Projects//weekly_work//Week 5//regression_data.xls')"
   ]
  },
  {
   "cell_type": "code",
   "execution_count": 104,
   "id": "d33543d7",
   "metadata": {
    "scrolled": true
   },
   "outputs": [
    {
     "data": {
      "text/html": [
       "<div>\n",
       "<style scoped>\n",
       "    .dataframe tbody tr th:only-of-type {\n",
       "        vertical-align: middle;\n",
       "    }\n",
       "\n",
       "    .dataframe tbody tr th {\n",
       "        vertical-align: top;\n",
       "    }\n",
       "\n",
       "    .dataframe thead th {\n",
       "        text-align: right;\n",
       "    }\n",
       "</style>\n",
       "<table border=\"1\" class=\"dataframe\">\n",
       "  <thead>\n",
       "    <tr style=\"text-align: right;\">\n",
       "      <th></th>\n",
       "      <th>id</th>\n",
       "      <th>date</th>\n",
       "      <th>bedrooms</th>\n",
       "      <th>bathrooms</th>\n",
       "      <th>sqft_living</th>\n",
       "      <th>sqft_lot</th>\n",
       "      <th>floors</th>\n",
       "      <th>waterfront</th>\n",
       "      <th>view</th>\n",
       "      <th>condition</th>\n",
       "      <th>grade</th>\n",
       "      <th>sqft_above</th>\n",
       "      <th>sqft_basement</th>\n",
       "      <th>yr_built</th>\n",
       "      <th>yr_renovated</th>\n",
       "      <th>zipcode</th>\n",
       "      <th>lat</th>\n",
       "      <th>long</th>\n",
       "      <th>sqft_living15</th>\n",
       "      <th>sqft_lot15</th>\n",
       "      <th>price</th>\n",
       "    </tr>\n",
       "  </thead>\n",
       "  <tbody>\n",
       "    <tr>\n",
       "      <th>0</th>\n",
       "      <td>7129300520</td>\n",
       "      <td>2014-10-13</td>\n",
       "      <td>3</td>\n",
       "      <td>1.00</td>\n",
       "      <td>1180</td>\n",
       "      <td>5650</td>\n",
       "      <td>1.0</td>\n",
       "      <td>0</td>\n",
       "      <td>0</td>\n",
       "      <td>3</td>\n",
       "      <td>7</td>\n",
       "      <td>1180</td>\n",
       "      <td>0</td>\n",
       "      <td>1955</td>\n",
       "      <td>0</td>\n",
       "      <td>98178</td>\n",
       "      <td>47.5112</td>\n",
       "      <td>-122.257</td>\n",
       "      <td>1340</td>\n",
       "      <td>5650</td>\n",
       "      <td>221900</td>\n",
       "    </tr>\n",
       "    <tr>\n",
       "      <th>1</th>\n",
       "      <td>6414100192</td>\n",
       "      <td>2014-12-09</td>\n",
       "      <td>3</td>\n",
       "      <td>2.25</td>\n",
       "      <td>2570</td>\n",
       "      <td>7242</td>\n",
       "      <td>2.0</td>\n",
       "      <td>0</td>\n",
       "      <td>0</td>\n",
       "      <td>3</td>\n",
       "      <td>7</td>\n",
       "      <td>2170</td>\n",
       "      <td>400</td>\n",
       "      <td>1951</td>\n",
       "      <td>1991</td>\n",
       "      <td>98125</td>\n",
       "      <td>47.7210</td>\n",
       "      <td>-122.319</td>\n",
       "      <td>1690</td>\n",
       "      <td>7639</td>\n",
       "      <td>538000</td>\n",
       "    </tr>\n",
       "    <tr>\n",
       "      <th>2</th>\n",
       "      <td>5631500400</td>\n",
       "      <td>2015-02-25</td>\n",
       "      <td>2</td>\n",
       "      <td>1.00</td>\n",
       "      <td>770</td>\n",
       "      <td>10000</td>\n",
       "      <td>1.0</td>\n",
       "      <td>0</td>\n",
       "      <td>0</td>\n",
       "      <td>3</td>\n",
       "      <td>6</td>\n",
       "      <td>770</td>\n",
       "      <td>0</td>\n",
       "      <td>1933</td>\n",
       "      <td>0</td>\n",
       "      <td>98028</td>\n",
       "      <td>47.7379</td>\n",
       "      <td>-122.233</td>\n",
       "      <td>2720</td>\n",
       "      <td>8062</td>\n",
       "      <td>180000</td>\n",
       "    </tr>\n",
       "    <tr>\n",
       "      <th>3</th>\n",
       "      <td>2487200875</td>\n",
       "      <td>2014-12-09</td>\n",
       "      <td>4</td>\n",
       "      <td>3.00</td>\n",
       "      <td>1960</td>\n",
       "      <td>5000</td>\n",
       "      <td>1.0</td>\n",
       "      <td>0</td>\n",
       "      <td>0</td>\n",
       "      <td>5</td>\n",
       "      <td>7</td>\n",
       "      <td>1050</td>\n",
       "      <td>910</td>\n",
       "      <td>1965</td>\n",
       "      <td>0</td>\n",
       "      <td>98136</td>\n",
       "      <td>47.5208</td>\n",
       "      <td>-122.393</td>\n",
       "      <td>1360</td>\n",
       "      <td>5000</td>\n",
       "      <td>604000</td>\n",
       "    </tr>\n",
       "    <tr>\n",
       "      <th>4</th>\n",
       "      <td>1954400510</td>\n",
       "      <td>2015-02-18</td>\n",
       "      <td>3</td>\n",
       "      <td>2.00</td>\n",
       "      <td>1680</td>\n",
       "      <td>8080</td>\n",
       "      <td>1.0</td>\n",
       "      <td>0</td>\n",
       "      <td>0</td>\n",
       "      <td>3</td>\n",
       "      <td>8</td>\n",
       "      <td>1680</td>\n",
       "      <td>0</td>\n",
       "      <td>1987</td>\n",
       "      <td>0</td>\n",
       "      <td>98074</td>\n",
       "      <td>47.6168</td>\n",
       "      <td>-122.045</td>\n",
       "      <td>1800</td>\n",
       "      <td>7503</td>\n",
       "      <td>510000</td>\n",
       "    </tr>\n",
       "  </tbody>\n",
       "</table>\n",
       "</div>"
      ],
      "text/plain": [
       "           id       date  bedrooms  bathrooms  sqft_living  sqft_lot  floors  \\\n",
       "0  7129300520 2014-10-13         3       1.00         1180      5650     1.0   \n",
       "1  6414100192 2014-12-09         3       2.25         2570      7242     2.0   \n",
       "2  5631500400 2015-02-25         2       1.00          770     10000     1.0   \n",
       "3  2487200875 2014-12-09         4       3.00         1960      5000     1.0   \n",
       "4  1954400510 2015-02-18         3       2.00         1680      8080     1.0   \n",
       "\n",
       "   waterfront  view  condition  grade  sqft_above  sqft_basement  yr_built  \\\n",
       "0           0     0          3      7        1180              0      1955   \n",
       "1           0     0          3      7        2170            400      1951   \n",
       "2           0     0          3      6         770              0      1933   \n",
       "3           0     0          5      7        1050            910      1965   \n",
       "4           0     0          3      8        1680              0      1987   \n",
       "\n",
       "   yr_renovated  zipcode      lat     long  sqft_living15  sqft_lot15   price  \n",
       "0             0    98178  47.5112 -122.257           1340        5650  221900  \n",
       "1          1991    98125  47.7210 -122.319           1690        7639  538000  \n",
       "2             0    98028  47.7379 -122.233           2720        8062  180000  \n",
       "3             0    98136  47.5208 -122.393           1360        5000  604000  \n",
       "4             0    98074  47.6168 -122.045           1800        7503  510000  "
      ]
     },
     "execution_count": 104,
     "metadata": {},
     "output_type": "execute_result"
    }
   ],
   "source": [
    "pd.set_option('display.max_columns',None)\n",
    "rawdata.head()"
   ]
  },
  {
   "cell_type": "code",
   "execution_count": 105,
   "id": "7d4f6ff2",
   "metadata": {},
   "outputs": [
    {
     "data": {
      "text/plain": [
       "(21597, 21)"
      ]
     },
     "execution_count": 105,
     "metadata": {},
     "output_type": "execute_result"
    }
   ],
   "source": [
    "rawdata.shape"
   ]
  },
  {
   "cell_type": "code",
   "execution_count": 106,
   "id": "e4660028",
   "metadata": {},
   "outputs": [
    {
     "data": {
      "text/plain": [
       "Index(['id', 'date', 'bedrooms', 'bathrooms', 'sqft_living', 'sqft_lot',\n",
       "       'floors', 'waterfront', 'view', 'condition', 'grade', 'sqft_above',\n",
       "       'sqft_basement', 'yr_built', 'yr_renovated', 'zipcode', 'lat', 'long',\n",
       "       'sqft_living15', 'sqft_lot15', 'price'],\n",
       "      dtype='object')"
      ]
     },
     "execution_count": 106,
     "metadata": {},
     "output_type": "execute_result"
    }
   ],
   "source": [
    "rawdata.columns"
   ]
  },
  {
   "cell_type": "code",
   "execution_count": 107,
   "id": "ff221626",
   "metadata": {
    "scrolled": false
   },
   "outputs": [
    {
     "data": {
      "text/plain": [
       "id                        int64\n",
       "date             datetime64[ns]\n",
       "bedrooms                  int64\n",
       "bathrooms               float64\n",
       "sqft_living               int64\n",
       "sqft_lot                  int64\n",
       "floors                  float64\n",
       "waterfront                int64\n",
       "view                      int64\n",
       "condition                 int64\n",
       "grade                     int64\n",
       "sqft_above                int64\n",
       "sqft_basement             int64\n",
       "yr_built                  int64\n",
       "yr_renovated              int64\n",
       "zipcode                   int64\n",
       "lat                     float64\n",
       "long                    float64\n",
       "sqft_living15             int64\n",
       "sqft_lot15                int64\n",
       "price                     int64\n",
       "dtype: object"
      ]
     },
     "execution_count": 107,
     "metadata": {},
     "output_type": "execute_result"
    }
   ],
   "source": [
    "rawdata.dtypes"
   ]
  },
  {
   "cell_type": "code",
   "execution_count": 108,
   "id": "24aef80b",
   "metadata": {
    "scrolled": true
   },
   "outputs": [
    {
     "data": {
      "text/html": [
       "<div>\n",
       "<style scoped>\n",
       "    .dataframe tbody tr th:only-of-type {\n",
       "        vertical-align: middle;\n",
       "    }\n",
       "\n",
       "    .dataframe tbody tr th {\n",
       "        vertical-align: top;\n",
       "    }\n",
       "\n",
       "    .dataframe thead th {\n",
       "        text-align: right;\n",
       "    }\n",
       "</style>\n",
       "<table border=\"1\" class=\"dataframe\">\n",
       "  <thead>\n",
       "    <tr style=\"text-align: right;\">\n",
       "      <th></th>\n",
       "      <th>id</th>\n",
       "      <th>date</th>\n",
       "      <th>bedrooms</th>\n",
       "      <th>bathrooms</th>\n",
       "      <th>sqft_living</th>\n",
       "      <th>sqft_lot</th>\n",
       "      <th>floors</th>\n",
       "      <th>waterfront</th>\n",
       "      <th>view</th>\n",
       "      <th>condition</th>\n",
       "      <th>grade</th>\n",
       "      <th>sqft_above</th>\n",
       "      <th>sqft_basement</th>\n",
       "      <th>yr_built</th>\n",
       "      <th>yr_renovated</th>\n",
       "      <th>zipcode</th>\n",
       "      <th>lat</th>\n",
       "      <th>long</th>\n",
       "      <th>sqft_living15</th>\n",
       "      <th>sqft_lot15</th>\n",
       "      <th>price</th>\n",
       "    </tr>\n",
       "  </thead>\n",
       "  <tbody>\n",
       "    <tr>\n",
       "      <th>0</th>\n",
       "      <td>7129300520</td>\n",
       "      <td>2014-10-13</td>\n",
       "      <td>3</td>\n",
       "      <td>1.00</td>\n",
       "      <td>1180</td>\n",
       "      <td>5650</td>\n",
       "      <td>1.0</td>\n",
       "      <td>0</td>\n",
       "      <td>0</td>\n",
       "      <td>3</td>\n",
       "      <td>7</td>\n",
       "      <td>1180</td>\n",
       "      <td>0</td>\n",
       "      <td>1955</td>\n",
       "      <td>0</td>\n",
       "      <td>98178</td>\n",
       "      <td>47.5112</td>\n",
       "      <td>-122.257</td>\n",
       "      <td>1340</td>\n",
       "      <td>5650</td>\n",
       "      <td>221900</td>\n",
       "    </tr>\n",
       "    <tr>\n",
       "      <th>1</th>\n",
       "      <td>6414100192</td>\n",
       "      <td>2014-12-09</td>\n",
       "      <td>3</td>\n",
       "      <td>2.25</td>\n",
       "      <td>2570</td>\n",
       "      <td>7242</td>\n",
       "      <td>2.0</td>\n",
       "      <td>0</td>\n",
       "      <td>0</td>\n",
       "      <td>3</td>\n",
       "      <td>7</td>\n",
       "      <td>2170</td>\n",
       "      <td>400</td>\n",
       "      <td>1951</td>\n",
       "      <td>1991</td>\n",
       "      <td>98125</td>\n",
       "      <td>47.7210</td>\n",
       "      <td>-122.319</td>\n",
       "      <td>1690</td>\n",
       "      <td>7639</td>\n",
       "      <td>538000</td>\n",
       "    </tr>\n",
       "    <tr>\n",
       "      <th>2</th>\n",
       "      <td>5631500400</td>\n",
       "      <td>2015-02-25</td>\n",
       "      <td>2</td>\n",
       "      <td>1.00</td>\n",
       "      <td>770</td>\n",
       "      <td>10000</td>\n",
       "      <td>1.0</td>\n",
       "      <td>0</td>\n",
       "      <td>0</td>\n",
       "      <td>3</td>\n",
       "      <td>6</td>\n",
       "      <td>770</td>\n",
       "      <td>0</td>\n",
       "      <td>1933</td>\n",
       "      <td>0</td>\n",
       "      <td>98028</td>\n",
       "      <td>47.7379</td>\n",
       "      <td>-122.233</td>\n",
       "      <td>2720</td>\n",
       "      <td>8062</td>\n",
       "      <td>180000</td>\n",
       "    </tr>\n",
       "    <tr>\n",
       "      <th>3</th>\n",
       "      <td>2487200875</td>\n",
       "      <td>2014-12-09</td>\n",
       "      <td>4</td>\n",
       "      <td>3.00</td>\n",
       "      <td>1960</td>\n",
       "      <td>5000</td>\n",
       "      <td>1.0</td>\n",
       "      <td>0</td>\n",
       "      <td>0</td>\n",
       "      <td>5</td>\n",
       "      <td>7</td>\n",
       "      <td>1050</td>\n",
       "      <td>910</td>\n",
       "      <td>1965</td>\n",
       "      <td>0</td>\n",
       "      <td>98136</td>\n",
       "      <td>47.5208</td>\n",
       "      <td>-122.393</td>\n",
       "      <td>1360</td>\n",
       "      <td>5000</td>\n",
       "      <td>604000</td>\n",
       "    </tr>\n",
       "    <tr>\n",
       "      <th>4</th>\n",
       "      <td>1954400510</td>\n",
       "      <td>2015-02-18</td>\n",
       "      <td>3</td>\n",
       "      <td>2.00</td>\n",
       "      <td>1680</td>\n",
       "      <td>8080</td>\n",
       "      <td>1.0</td>\n",
       "      <td>0</td>\n",
       "      <td>0</td>\n",
       "      <td>3</td>\n",
       "      <td>8</td>\n",
       "      <td>1680</td>\n",
       "      <td>0</td>\n",
       "      <td>1987</td>\n",
       "      <td>0</td>\n",
       "      <td>98074</td>\n",
       "      <td>47.6168</td>\n",
       "      <td>-122.045</td>\n",
       "      <td>1800</td>\n",
       "      <td>7503</td>\n",
       "      <td>510000</td>\n",
       "    </tr>\n",
       "  </tbody>\n",
       "</table>\n",
       "</div>"
      ],
      "text/plain": [
       "           id       date  bedrooms  bathrooms  sqft_living  sqft_lot  floors  \\\n",
       "0  7129300520 2014-10-13         3       1.00         1180      5650     1.0   \n",
       "1  6414100192 2014-12-09         3       2.25         2570      7242     2.0   \n",
       "2  5631500400 2015-02-25         2       1.00          770     10000     1.0   \n",
       "3  2487200875 2014-12-09         4       3.00         1960      5000     1.0   \n",
       "4  1954400510 2015-02-18         3       2.00         1680      8080     1.0   \n",
       "\n",
       "   waterfront  view  condition  grade  sqft_above  sqft_basement  yr_built  \\\n",
       "0           0     0          3      7        1180              0      1955   \n",
       "1           0     0          3      7        2170            400      1951   \n",
       "2           0     0          3      6         770              0      1933   \n",
       "3           0     0          5      7        1050            910      1965   \n",
       "4           0     0          3      8        1680              0      1987   \n",
       "\n",
       "   yr_renovated  zipcode      lat     long  sqft_living15  sqft_lot15   price  \n",
       "0             0    98178  47.5112 -122.257           1340        5650  221900  \n",
       "1          1991    98125  47.7210 -122.319           1690        7639  538000  \n",
       "2             0    98028  47.7379 -122.233           2720        8062  180000  \n",
       "3             0    98136  47.5208 -122.393           1360        5000  604000  \n",
       "4             0    98074  47.6168 -122.045           1800        7503  510000  "
      ]
     },
     "execution_count": 108,
     "metadata": {},
     "output_type": "execute_result"
    }
   ],
   "source": [
    "cleandata = rawdata\n",
    "cleandata.head()"
   ]
  },
  {
   "cell_type": "code",
   "execution_count": 109,
   "id": "ad229785",
   "metadata": {},
   "outputs": [
    {
     "data": {
      "text/plain": [
       "(21597, 21)"
      ]
     },
     "execution_count": 109,
     "metadata": {},
     "output_type": "execute_result"
    }
   ],
   "source": [
    "rawdata.shape"
   ]
  },
  {
   "cell_type": "code",
   "execution_count": 110,
   "id": "cc6fb378",
   "metadata": {},
   "outputs": [
    {
     "data": {
      "text/plain": [
       "(21597, 21)"
      ]
     },
     "execution_count": 110,
     "metadata": {},
     "output_type": "execute_result"
    }
   ],
   "source": [
    "# making sure there are no duplicate rows\n",
    "cleandata=cleandata.drop_duplicates()\n",
    "cleandata.shape"
   ]
  },
  {
   "cell_type": "code",
   "execution_count": 111,
   "id": "feefae68",
   "metadata": {},
   "outputs": [
    {
     "name": "stdout",
     "output_type": "stream",
     "text": [
      "For column  id ,the counts are: 795000620     3\n",
      "8910500150    2\n",
      "7409700215    2\n",
      "1995200200    2\n",
      "9211500620    2\n",
      "             ..\n",
      "3649100387    1\n",
      "2767603649    1\n",
      "1446403617    1\n",
      "5602000275    1\n",
      "1523300157    1\n",
      "Name: id, Length: 21420, dtype: int64\n",
      "For column  date ,the counts are: 2014-06-23    142\n",
      "2014-06-25    131\n",
      "2014-06-26    131\n",
      "2014-07-08    127\n",
      "2015-04-27    126\n",
      "             ... \n",
      "2014-11-02      1\n",
      "2015-01-31      1\n",
      "2015-05-24      1\n",
      "2014-05-17      1\n",
      "2014-07-27      1\n",
      "Name: date, Length: 372, dtype: int64\n",
      "For column  bedrooms ,the counts are: 3     9824\n",
      "4     6882\n",
      "2     2760\n",
      "5     1601\n",
      "6      272\n",
      "1      196\n",
      "7       38\n",
      "8       13\n",
      "9        6\n",
      "10       3\n",
      "11       1\n",
      "33       1\n",
      "Name: bedrooms, dtype: int64\n",
      "For column  bathrooms ,the counts are: 2.50    5377\n",
      "1.00    3851\n",
      "1.75    3048\n",
      "2.25    2047\n",
      "2.00    1930\n",
      "1.50    1445\n",
      "2.75    1185\n",
      "3.00     753\n",
      "3.50     731\n",
      "3.25     589\n",
      "3.75     155\n",
      "4.00     136\n",
      "4.50     100\n",
      "4.25      79\n",
      "0.75      71\n",
      "4.75      23\n",
      "5.00      21\n",
      "5.25      13\n",
      "5.50      10\n",
      "1.25       9\n",
      "6.00       6\n",
      "0.50       4\n",
      "5.75       4\n",
      "6.75       2\n",
      "8.00       2\n",
      "6.25       2\n",
      "6.50       2\n",
      "7.50       1\n",
      "7.75       1\n",
      "Name: bathrooms, dtype: int64\n",
      "For column  sqft_living ,the counts are: 1300    138\n",
      "1400    135\n",
      "1440    133\n",
      "1800    129\n",
      "1660    129\n",
      "       ... \n",
      "2507      1\n",
      "9890      1\n",
      "5584      1\n",
      "1961      1\n",
      "1425      1\n",
      "Name: sqft_living, Length: 1034, dtype: int64\n",
      "For column  sqft_lot ,the counts are: 5000     358\n",
      "6000     290\n",
      "4000     251\n",
      "7200     220\n",
      "4800     119\n",
      "        ... \n",
      "22605      1\n",
      "25248      1\n",
      "9934       1\n",
      "9142       1\n",
      "1076       1\n",
      "Name: sqft_lot, Length: 9776, dtype: int64\n",
      "For column  floors ,the counts are: 1.0    10673\n",
      "2.0     8235\n",
      "1.5     1910\n",
      "3.0      611\n",
      "2.5      161\n",
      "3.5        7\n",
      "Name: floors, dtype: int64\n",
      "For column  waterfront ,the counts are: 0    21434\n",
      "1      163\n",
      "Name: waterfront, dtype: int64\n",
      "For column  view ,the counts are: 0    19475\n",
      "2      961\n",
      "3      510\n",
      "1      332\n",
      "4      319\n",
      "Name: view, dtype: int64\n",
      "For column  condition ,the counts are: 3    14020\n",
      "4     5677\n",
      "5     1701\n",
      "2      170\n",
      "1       29\n",
      "Name: condition, dtype: int64\n",
      "For column  grade ,the counts are: 7     8974\n",
      "8     6065\n",
      "9     2615\n",
      "6     2038\n",
      "10    1134\n",
      "11     399\n",
      "5      242\n",
      "12      89\n",
      "4       27\n",
      "13      13\n",
      "3        1\n",
      "Name: grade, dtype: int64\n",
      "For column  sqft_above ,the counts are: 1300    212\n",
      "1010    210\n",
      "1200    206\n",
      "1220    192\n",
      "1140    184\n",
      "       ... \n",
      "3674      1\n",
      "2979      1\n",
      "2382      1\n",
      "6290      1\n",
      "1425      1\n",
      "Name: sqft_above, Length: 942, dtype: int64\n",
      "For column  sqft_basement ,the counts are: 0      13110\n",
      "600      221\n",
      "700      218\n",
      "500      214\n",
      "800      206\n",
      "       ...  \n",
      "518        1\n",
      "374        1\n",
      "784        1\n",
      "906        1\n",
      "248        1\n",
      "Name: sqft_basement, Length: 306, dtype: int64\n",
      "For column  yr_built ,the counts are: 2014    559\n",
      "2006    453\n",
      "2005    450\n",
      "2004    433\n",
      "2003    420\n",
      "       ... \n",
      "1933     30\n",
      "1901     29\n",
      "1902     27\n",
      "1935     24\n",
      "1934     21\n",
      "Name: yr_built, Length: 116, dtype: int64\n",
      "For column  yr_renovated ,the counts are: 0       20683\n",
      "2014       91\n",
      "2013       37\n",
      "2003       36\n",
      "2005       35\n",
      "        ...  \n",
      "1951        1\n",
      "1959        1\n",
      "1948        1\n",
      "1954        1\n",
      "1944        1\n",
      "Name: yr_renovated, Length: 70, dtype: int64\n",
      "For column  zipcode ,the counts are: 98103    602\n",
      "98038    589\n",
      "98115    583\n",
      "98052    574\n",
      "98117    553\n",
      "        ... \n",
      "98102    104\n",
      "98010    100\n",
      "98024     80\n",
      "98148     57\n",
      "98039     50\n",
      "Name: zipcode, Length: 70, dtype: int64\n",
      "For column  lat ,the counts are: 47.5491    17\n",
      "47.6846    17\n",
      "47.5322    17\n",
      "47.6624    17\n",
      "47.6711    16\n",
      "           ..\n",
      "47.1976     1\n",
      "47.3013     1\n",
      "47.6139     1\n",
      "47.4184     1\n",
      "47.6502     1\n",
      "Name: lat, Length: 5033, dtype: int64\n",
      "For column  long ,the counts are: -122.290    115\n",
      "-122.300    111\n",
      "-122.362    104\n",
      "-122.291    100\n",
      "-122.372     99\n",
      "           ... \n",
      "-122.459      1\n",
      "-121.726      1\n",
      "-121.819      1\n",
      "-122.440      1\n",
      "-121.403      1\n",
      "Name: long, Length: 751, dtype: int64\n",
      "For column  sqft_living15 ,the counts are: 1540    197\n",
      "1440    195\n",
      "1560    192\n",
      "1500    180\n",
      "1460    169\n",
      "       ... \n",
      "3736      1\n",
      "4950      1\n",
      "2728      1\n",
      "4740      1\n",
      "2927      1\n",
      "Name: sqft_living15, Length: 777, dtype: int64\n",
      "For column  sqft_lot15 ,the counts are: 5000     427\n",
      "4000     356\n",
      "6000     288\n",
      "7200     210\n",
      "4800     145\n",
      "        ... \n",
      "10170      1\n",
      "10573      1\n",
      "11477      1\n",
      "1449       1\n",
      "2007       1\n",
      "Name: sqft_lot15, Length: 8682, dtype: int64\n",
      "For column  price ,the counts are: 450000    172\n",
      "350000    172\n",
      "550000    159\n",
      "500000    152\n",
      "425000    150\n",
      "         ... \n",
      "278800      1\n",
      "439888      1\n",
      "354901      1\n",
      "942000      1\n",
      "402101      1\n",
      "Name: price, Length: 3622, dtype: int64\n"
     ]
    }
   ],
   "source": [
    "# looking at general stats of each column\n",
    "i=2\n",
    "for col in cleandata.columns:\n",
    "    print('For column ',col,',the counts are:',cleandata[col].value_counts())\n",
    "    i+=1"
   ]
  },
  {
   "cell_type": "code",
   "execution_count": 112,
   "id": "b3b08e02",
   "metadata": {},
   "outputs": [
    {
     "data": {
      "text/html": [
       "<div>\n",
       "<style scoped>\n",
       "    .dataframe tbody tr th:only-of-type {\n",
       "        vertical-align: middle;\n",
       "    }\n",
       "\n",
       "    .dataframe tbody tr th {\n",
       "        vertical-align: top;\n",
       "    }\n",
       "\n",
       "    .dataframe thead th {\n",
       "        text-align: right;\n",
       "    }\n",
       "</style>\n",
       "<table border=\"1\" class=\"dataframe\">\n",
       "  <thead>\n",
       "    <tr style=\"text-align: right;\">\n",
       "      <th></th>\n",
       "      <th>id</th>\n",
       "      <th>date</th>\n",
       "      <th>bedrooms</th>\n",
       "      <th>bathrooms</th>\n",
       "      <th>sqft_living</th>\n",
       "      <th>sqft_lot</th>\n",
       "      <th>floors</th>\n",
       "      <th>waterfront</th>\n",
       "      <th>view</th>\n",
       "      <th>condition</th>\n",
       "      <th>grade</th>\n",
       "      <th>sqft_above</th>\n",
       "      <th>sqft_basement</th>\n",
       "      <th>yr_built</th>\n",
       "      <th>yr_renovated</th>\n",
       "      <th>zipcode</th>\n",
       "      <th>lat</th>\n",
       "      <th>long</th>\n",
       "      <th>sqft_living15</th>\n",
       "      <th>sqft_lot15</th>\n",
       "      <th>price</th>\n",
       "    </tr>\n",
       "  </thead>\n",
       "  <tbody>\n",
       "    <tr>\n",
       "      <th>17588</th>\n",
       "      <td>795000620</td>\n",
       "      <td>2014-09-24</td>\n",
       "      <td>3</td>\n",
       "      <td>1.0</td>\n",
       "      <td>1080</td>\n",
       "      <td>6250</td>\n",
       "      <td>1.0</td>\n",
       "      <td>0</td>\n",
       "      <td>0</td>\n",
       "      <td>2</td>\n",
       "      <td>5</td>\n",
       "      <td>1080</td>\n",
       "      <td>0</td>\n",
       "      <td>1950</td>\n",
       "      <td>0</td>\n",
       "      <td>98168</td>\n",
       "      <td>47.5045</td>\n",
       "      <td>-122.33</td>\n",
       "      <td>1070</td>\n",
       "      <td>6250</td>\n",
       "      <td>115000</td>\n",
       "    </tr>\n",
       "    <tr>\n",
       "      <th>17589</th>\n",
       "      <td>795000620</td>\n",
       "      <td>2014-12-15</td>\n",
       "      <td>3</td>\n",
       "      <td>1.0</td>\n",
       "      <td>1080</td>\n",
       "      <td>6250</td>\n",
       "      <td>1.0</td>\n",
       "      <td>0</td>\n",
       "      <td>0</td>\n",
       "      <td>2</td>\n",
       "      <td>5</td>\n",
       "      <td>1080</td>\n",
       "      <td>0</td>\n",
       "      <td>1950</td>\n",
       "      <td>0</td>\n",
       "      <td>98168</td>\n",
       "      <td>47.5045</td>\n",
       "      <td>-122.33</td>\n",
       "      <td>1070</td>\n",
       "      <td>6250</td>\n",
       "      <td>124000</td>\n",
       "    </tr>\n",
       "    <tr>\n",
       "      <th>17590</th>\n",
       "      <td>795000620</td>\n",
       "      <td>2015-03-11</td>\n",
       "      <td>3</td>\n",
       "      <td>1.0</td>\n",
       "      <td>1080</td>\n",
       "      <td>6250</td>\n",
       "      <td>1.0</td>\n",
       "      <td>0</td>\n",
       "      <td>0</td>\n",
       "      <td>2</td>\n",
       "      <td>5</td>\n",
       "      <td>1080</td>\n",
       "      <td>0</td>\n",
       "      <td>1950</td>\n",
       "      <td>0</td>\n",
       "      <td>98168</td>\n",
       "      <td>47.5045</td>\n",
       "      <td>-122.33</td>\n",
       "      <td>1070</td>\n",
       "      <td>6250</td>\n",
       "      <td>157000</td>\n",
       "    </tr>\n",
       "  </tbody>\n",
       "</table>\n",
       "</div>"
      ],
      "text/plain": [
       "              id       date  bedrooms  bathrooms  sqft_living  sqft_lot  \\\n",
       "17588  795000620 2014-09-24         3        1.0         1080      6250   \n",
       "17589  795000620 2014-12-15         3        1.0         1080      6250   \n",
       "17590  795000620 2015-03-11         3        1.0         1080      6250   \n",
       "\n",
       "       floors  waterfront  view  condition  grade  sqft_above  sqft_basement  \\\n",
       "17588     1.0           0     0          2      5        1080              0   \n",
       "17589     1.0           0     0          2      5        1080              0   \n",
       "17590     1.0           0     0          2      5        1080              0   \n",
       "\n",
       "       yr_built  yr_renovated  zipcode      lat    long  sqft_living15  \\\n",
       "17588      1950             0    98168  47.5045 -122.33           1070   \n",
       "17589      1950             0    98168  47.5045 -122.33           1070   \n",
       "17590      1950             0    98168  47.5045 -122.33           1070   \n",
       "\n",
       "       sqft_lot15   price  \n",
       "17588        6250  115000  \n",
       "17589        6250  124000  \n",
       "17590        6250  157000  "
      ]
     },
     "execution_count": 112,
     "metadata": {},
     "output_type": "execute_result"
    }
   ],
   "source": [
    "# general stats show multiple instances for unique ids\n",
    "# looking at an example of this \n",
    "cleandata[cleandata['id']==795000620]\n",
    "# appears to be multiple transactions of same property"
   ]
  },
  {
   "cell_type": "markdown",
   "id": "10b1f820",
   "metadata": {},
   "source": [
    "# 2. Outliers, Adding Necessary Columns, Dropping Unneccessary Columns"
   ]
  },
  {
   "cell_type": "code",
   "execution_count": 113,
   "id": "b0d9401e",
   "metadata": {},
   "outputs": [
    {
     "data": {
      "text/plain": [
       "(21596, 21)"
      ]
     },
     "execution_count": 113,
     "metadata": {},
     "output_type": "execute_result"
    }
   ],
   "source": [
    "cleandata=cleandata[~cleandata['bedrooms'].isin([33])]\n",
    "cleandata.shape"
   ]
  },
  {
   "cell_type": "code",
   "execution_count": 114,
   "id": "fc2952bc",
   "metadata": {},
   "outputs": [
    {
     "data": {
      "text/html": [
       "<div>\n",
       "<style scoped>\n",
       "    .dataframe tbody tr th:only-of-type {\n",
       "        vertical-align: middle;\n",
       "    }\n",
       "\n",
       "    .dataframe tbody tr th {\n",
       "        vertical-align: top;\n",
       "    }\n",
       "\n",
       "    .dataframe thead th {\n",
       "        text-align: right;\n",
       "    }\n",
       "</style>\n",
       "<table border=\"1\" class=\"dataframe\">\n",
       "  <thead>\n",
       "    <tr style=\"text-align: right;\">\n",
       "      <th></th>\n",
       "      <th>id</th>\n",
       "      <th>date</th>\n",
       "      <th>bedrooms</th>\n",
       "      <th>bathrooms</th>\n",
       "      <th>sqft_living</th>\n",
       "      <th>sqft_lot</th>\n",
       "      <th>floors</th>\n",
       "      <th>waterfront</th>\n",
       "      <th>view</th>\n",
       "      <th>condition</th>\n",
       "      <th>grade</th>\n",
       "      <th>sqft_above</th>\n",
       "      <th>sqft_basement</th>\n",
       "      <th>yr_built</th>\n",
       "      <th>yr_renovated</th>\n",
       "      <th>zipcode</th>\n",
       "      <th>lat</th>\n",
       "      <th>long</th>\n",
       "      <th>sqft_living15</th>\n",
       "      <th>sqft_lot15</th>\n",
       "      <th>price</th>\n",
       "    </tr>\n",
       "  </thead>\n",
       "  <tbody>\n",
       "  </tbody>\n",
       "</table>\n",
       "</div>"
      ],
      "text/plain": [
       "Empty DataFrame\n",
       "Columns: [id, date, bedrooms, bathrooms, sqft_living, sqft_lot, floors, waterfront, view, condition, grade, sqft_above, sqft_basement, yr_built, yr_renovated, zipcode, lat, long, sqft_living15, sqft_lot15, price]\n",
       "Index: []"
      ]
     },
     "execution_count": 114,
     "metadata": {},
     "output_type": "execute_result"
    }
   ],
   "source": [
    "#confirming outlier is removed\n",
    "cleandata[ (cleandata['bedrooms']== 33) ]"
   ]
  },
  {
   "cell_type": "code",
   "execution_count": 115,
   "id": "6cf61572",
   "metadata": {},
   "outputs": [],
   "source": [
    "#removing id column as each individual sale of a property can stand on its own\n",
    "cleandata=cleandata.drop(['id'],axis=1)"
   ]
  },
  {
   "cell_type": "code",
   "execution_count": 116,
   "id": "7883fc55",
   "metadata": {},
   "outputs": [
    {
     "data": {
      "text/html": [
       "<div>\n",
       "<style scoped>\n",
       "    .dataframe tbody tr th:only-of-type {\n",
       "        vertical-align: middle;\n",
       "    }\n",
       "\n",
       "    .dataframe tbody tr th {\n",
       "        vertical-align: top;\n",
       "    }\n",
       "\n",
       "    .dataframe thead th {\n",
       "        text-align: right;\n",
       "    }\n",
       "</style>\n",
       "<table border=\"1\" class=\"dataframe\">\n",
       "  <thead>\n",
       "    <tr style=\"text-align: right;\">\n",
       "      <th></th>\n",
       "      <th>date</th>\n",
       "      <th>bedrooms</th>\n",
       "      <th>bathrooms</th>\n",
       "      <th>sqft_living</th>\n",
       "      <th>sqft_lot</th>\n",
       "      <th>floors</th>\n",
       "      <th>waterfront</th>\n",
       "      <th>view</th>\n",
       "      <th>condition</th>\n",
       "      <th>grade</th>\n",
       "      <th>sqft_above</th>\n",
       "      <th>sqft_basement</th>\n",
       "      <th>yr_built</th>\n",
       "      <th>yr_renovated</th>\n",
       "      <th>zipcode</th>\n",
       "      <th>lat</th>\n",
       "      <th>long</th>\n",
       "      <th>sqft_living15</th>\n",
       "      <th>sqft_lot15</th>\n",
       "      <th>price</th>\n",
       "    </tr>\n",
       "  </thead>\n",
       "  <tbody>\n",
       "    <tr>\n",
       "      <th>15113</th>\n",
       "      <td>2014-05-02</td>\n",
       "      <td>2</td>\n",
       "      <td>1.00</td>\n",
       "      <td>850</td>\n",
       "      <td>6174</td>\n",
       "      <td>1.0</td>\n",
       "      <td>0</td>\n",
       "      <td>0</td>\n",
       "      <td>4</td>\n",
       "      <td>7</td>\n",
       "      <td>850</td>\n",
       "      <td>0</td>\n",
       "      <td>1950</td>\n",
       "      <td>0</td>\n",
       "      <td>98155</td>\n",
       "      <td>47.7352</td>\n",
       "      <td>-122.328</td>\n",
       "      <td>1100</td>\n",
       "      <td>6174</td>\n",
       "      <td>308500</td>\n",
       "    </tr>\n",
       "    <tr>\n",
       "      <th>2485</th>\n",
       "      <td>2014-05-02</td>\n",
       "      <td>2</td>\n",
       "      <td>2.00</td>\n",
       "      <td>1350</td>\n",
       "      <td>2560</td>\n",
       "      <td>1.0</td>\n",
       "      <td>0</td>\n",
       "      <td>0</td>\n",
       "      <td>3</td>\n",
       "      <td>8</td>\n",
       "      <td>1350</td>\n",
       "      <td>0</td>\n",
       "      <td>1976</td>\n",
       "      <td>0</td>\n",
       "      <td>98052</td>\n",
       "      <td>47.6344</td>\n",
       "      <td>-122.107</td>\n",
       "      <td>1790</td>\n",
       "      <td>2560</td>\n",
       "      <td>335000</td>\n",
       "    </tr>\n",
       "    <tr>\n",
       "      <th>12484</th>\n",
       "      <td>2014-05-02</td>\n",
       "      <td>2</td>\n",
       "      <td>1.00</td>\n",
       "      <td>800</td>\n",
       "      <td>4850</td>\n",
       "      <td>1.0</td>\n",
       "      <td>0</td>\n",
       "      <td>0</td>\n",
       "      <td>4</td>\n",
       "      <td>7</td>\n",
       "      <td>800</td>\n",
       "      <td>0</td>\n",
       "      <td>1944</td>\n",
       "      <td>0</td>\n",
       "      <td>98107</td>\n",
       "      <td>47.6639</td>\n",
       "      <td>-122.364</td>\n",
       "      <td>1150</td>\n",
       "      <td>4365</td>\n",
       "      <td>440000</td>\n",
       "    </tr>\n",
       "    <tr>\n",
       "      <th>4959</th>\n",
       "      <td>2014-05-02</td>\n",
       "      <td>3</td>\n",
       "      <td>1.75</td>\n",
       "      <td>2330</td>\n",
       "      <td>14892</td>\n",
       "      <td>1.0</td>\n",
       "      <td>0</td>\n",
       "      <td>0</td>\n",
       "      <td>3</td>\n",
       "      <td>8</td>\n",
       "      <td>1970</td>\n",
       "      <td>360</td>\n",
       "      <td>1980</td>\n",
       "      <td>0</td>\n",
       "      <td>98074</td>\n",
       "      <td>47.6267</td>\n",
       "      <td>-122.046</td>\n",
       "      <td>2570</td>\n",
       "      <td>14217</td>\n",
       "      <td>588500</td>\n",
       "    </tr>\n",
       "    <tr>\n",
       "      <th>18675</th>\n",
       "      <td>2014-05-02</td>\n",
       "      <td>5</td>\n",
       "      <td>2.50</td>\n",
       "      <td>2210</td>\n",
       "      <td>9655</td>\n",
       "      <td>1.0</td>\n",
       "      <td>0</td>\n",
       "      <td>0</td>\n",
       "      <td>3</td>\n",
       "      <td>8</td>\n",
       "      <td>1460</td>\n",
       "      <td>750</td>\n",
       "      <td>1976</td>\n",
       "      <td>0</td>\n",
       "      <td>98011</td>\n",
       "      <td>47.7698</td>\n",
       "      <td>-122.222</td>\n",
       "      <td>2080</td>\n",
       "      <td>8633</td>\n",
       "      <td>470000</td>\n",
       "    </tr>\n",
       "    <tr>\n",
       "      <th>...</th>\n",
       "      <td>...</td>\n",
       "      <td>...</td>\n",
       "      <td>...</td>\n",
       "      <td>...</td>\n",
       "      <td>...</td>\n",
       "      <td>...</td>\n",
       "      <td>...</td>\n",
       "      <td>...</td>\n",
       "      <td>...</td>\n",
       "      <td>...</td>\n",
       "      <td>...</td>\n",
       "      <td>...</td>\n",
       "      <td>...</td>\n",
       "      <td>...</td>\n",
       "      <td>...</td>\n",
       "      <td>...</td>\n",
       "      <td>...</td>\n",
       "      <td>...</td>\n",
       "      <td>...</td>\n",
       "      <td>...</td>\n",
       "    </tr>\n",
       "    <tr>\n",
       "      <th>20456</th>\n",
       "      <td>2015-05-14</td>\n",
       "      <td>5</td>\n",
       "      <td>3.00</td>\n",
       "      <td>3223</td>\n",
       "      <td>6371</td>\n",
       "      <td>2.0</td>\n",
       "      <td>0</td>\n",
       "      <td>0</td>\n",
       "      <td>3</td>\n",
       "      <td>9</td>\n",
       "      <td>3223</td>\n",
       "      <td>0</td>\n",
       "      <td>2014</td>\n",
       "      <td>0</td>\n",
       "      <td>98042</td>\n",
       "      <td>47.3584</td>\n",
       "      <td>-122.163</td>\n",
       "      <td>1979</td>\n",
       "      <td>9008</td>\n",
       "      <td>479349</td>\n",
       "    </tr>\n",
       "    <tr>\n",
       "      <th>927</th>\n",
       "      <td>2015-05-14</td>\n",
       "      <td>2</td>\n",
       "      <td>2.75</td>\n",
       "      <td>1370</td>\n",
       "      <td>1140</td>\n",
       "      <td>2.0</td>\n",
       "      <td>0</td>\n",
       "      <td>0</td>\n",
       "      <td>3</td>\n",
       "      <td>8</td>\n",
       "      <td>1080</td>\n",
       "      <td>290</td>\n",
       "      <td>2009</td>\n",
       "      <td>0</td>\n",
       "      <td>98133</td>\n",
       "      <td>47.7052</td>\n",
       "      <td>-122.343</td>\n",
       "      <td>1370</td>\n",
       "      <td>1090</td>\n",
       "      <td>359000</td>\n",
       "    </tr>\n",
       "    <tr>\n",
       "      <th>5632</th>\n",
       "      <td>2015-05-15</td>\n",
       "      <td>5</td>\n",
       "      <td>2.00</td>\n",
       "      <td>1870</td>\n",
       "      <td>7344</td>\n",
       "      <td>1.5</td>\n",
       "      <td>0</td>\n",
       "      <td>0</td>\n",
       "      <td>3</td>\n",
       "      <td>7</td>\n",
       "      <td>1870</td>\n",
       "      <td>0</td>\n",
       "      <td>1960</td>\n",
       "      <td>0</td>\n",
       "      <td>98007</td>\n",
       "      <td>47.5951</td>\n",
       "      <td>-122.144</td>\n",
       "      <td>1870</td>\n",
       "      <td>7650</td>\n",
       "      <td>450000</td>\n",
       "    </tr>\n",
       "    <tr>\n",
       "      <th>13040</th>\n",
       "      <td>2015-05-24</td>\n",
       "      <td>2</td>\n",
       "      <td>1.75</td>\n",
       "      <td>1390</td>\n",
       "      <td>6670</td>\n",
       "      <td>1.0</td>\n",
       "      <td>0</td>\n",
       "      <td>0</td>\n",
       "      <td>3</td>\n",
       "      <td>6</td>\n",
       "      <td>720</td>\n",
       "      <td>670</td>\n",
       "      <td>1941</td>\n",
       "      <td>0</td>\n",
       "      <td>98115</td>\n",
       "      <td>47.6914</td>\n",
       "      <td>-122.308</td>\n",
       "      <td>920</td>\n",
       "      <td>6380</td>\n",
       "      <td>445500</td>\n",
       "    </tr>\n",
       "    <tr>\n",
       "      <th>16580</th>\n",
       "      <td>2015-05-27</td>\n",
       "      <td>4</td>\n",
       "      <td>2.25</td>\n",
       "      <td>3750</td>\n",
       "      <td>5000</td>\n",
       "      <td>2.0</td>\n",
       "      <td>0</td>\n",
       "      <td>0</td>\n",
       "      <td>5</td>\n",
       "      <td>8</td>\n",
       "      <td>2440</td>\n",
       "      <td>1310</td>\n",
       "      <td>1924</td>\n",
       "      <td>0</td>\n",
       "      <td>98115</td>\n",
       "      <td>47.6747</td>\n",
       "      <td>-122.303</td>\n",
       "      <td>2170</td>\n",
       "      <td>4590</td>\n",
       "      <td>1310000</td>\n",
       "    </tr>\n",
       "  </tbody>\n",
       "</table>\n",
       "<p>21596 rows × 20 columns</p>\n",
       "</div>"
      ],
      "text/plain": [
       "            date  bedrooms  bathrooms  sqft_living  sqft_lot  floors  \\\n",
       "15113 2014-05-02         2       1.00          850      6174     1.0   \n",
       "2485  2014-05-02         2       2.00         1350      2560     1.0   \n",
       "12484 2014-05-02         2       1.00          800      4850     1.0   \n",
       "4959  2014-05-02         3       1.75         2330     14892     1.0   \n",
       "18675 2014-05-02         5       2.50         2210      9655     1.0   \n",
       "...          ...       ...        ...          ...       ...     ...   \n",
       "20456 2015-05-14         5       3.00         3223      6371     2.0   \n",
       "927   2015-05-14         2       2.75         1370      1140     2.0   \n",
       "5632  2015-05-15         5       2.00         1870      7344     1.5   \n",
       "13040 2015-05-24         2       1.75         1390      6670     1.0   \n",
       "16580 2015-05-27         4       2.25         3750      5000     2.0   \n",
       "\n",
       "       waterfront  view  condition  grade  sqft_above  sqft_basement  \\\n",
       "15113           0     0          4      7         850              0   \n",
       "2485            0     0          3      8        1350              0   \n",
       "12484           0     0          4      7         800              0   \n",
       "4959            0     0          3      8        1970            360   \n",
       "18675           0     0          3      8        1460            750   \n",
       "...           ...   ...        ...    ...         ...            ...   \n",
       "20456           0     0          3      9        3223              0   \n",
       "927             0     0          3      8        1080            290   \n",
       "5632            0     0          3      7        1870              0   \n",
       "13040           0     0          3      6         720            670   \n",
       "16580           0     0          5      8        2440           1310   \n",
       "\n",
       "       yr_built  yr_renovated  zipcode      lat     long  sqft_living15  \\\n",
       "15113      1950             0    98155  47.7352 -122.328           1100   \n",
       "2485       1976             0    98052  47.6344 -122.107           1790   \n",
       "12484      1944             0    98107  47.6639 -122.364           1150   \n",
       "4959       1980             0    98074  47.6267 -122.046           2570   \n",
       "18675      1976             0    98011  47.7698 -122.222           2080   \n",
       "...         ...           ...      ...      ...      ...            ...   \n",
       "20456      2014             0    98042  47.3584 -122.163           1979   \n",
       "927        2009             0    98133  47.7052 -122.343           1370   \n",
       "5632       1960             0    98007  47.5951 -122.144           1870   \n",
       "13040      1941             0    98115  47.6914 -122.308            920   \n",
       "16580      1924             0    98115  47.6747 -122.303           2170   \n",
       "\n",
       "       sqft_lot15    price  \n",
       "15113        6174   308500  \n",
       "2485         2560   335000  \n",
       "12484        4365   440000  \n",
       "4959        14217   588500  \n",
       "18675        8633   470000  \n",
       "...           ...      ...  \n",
       "20456        9008   479349  \n",
       "927          1090   359000  \n",
       "5632         7650   450000  \n",
       "13040        6380   445500  \n",
       "16580        4590  1310000  \n",
       "\n",
       "[21596 rows x 20 columns]"
      ]
     },
     "execution_count": 116,
     "metadata": {},
     "output_type": "execute_result"
    }
   ],
   "source": [
    "cleandata.sort_values(by=['date'])"
   ]
  },
  {
   "cell_type": "code",
   "execution_count": 117,
   "id": "981e82f1",
   "metadata": {},
   "outputs": [],
   "source": [
    "def daycount(x):\n",
    "    period = pd.Period(x,freq='D')\n",
    "    if period.year == 2014:\n",
    "        return period.day_of_year - 122\n",
    "    elif period.year == 2015:\n",
    "        return period.day_of_year+243"
   ]
  },
  {
   "cell_type": "code",
   "execution_count": 118,
   "id": "13b32d49",
   "metadata": {},
   "outputs": [],
   "source": [
    "#creating new column 'day' to more easily interpret sale dates along a time frame\n",
    "cleandata['day']=list(map(daycount,cleandata['date']))"
   ]
  },
  {
   "cell_type": "code",
   "execution_count": 119,
   "id": "5dddf607",
   "metadata": {},
   "outputs": [
    {
     "data": {
      "text/html": [
       "<div>\n",
       "<style scoped>\n",
       "    .dataframe tbody tr th:only-of-type {\n",
       "        vertical-align: middle;\n",
       "    }\n",
       "\n",
       "    .dataframe tbody tr th {\n",
       "        vertical-align: top;\n",
       "    }\n",
       "\n",
       "    .dataframe thead th {\n",
       "        text-align: right;\n",
       "    }\n",
       "</style>\n",
       "<table border=\"1\" class=\"dataframe\">\n",
       "  <thead>\n",
       "    <tr style=\"text-align: right;\">\n",
       "      <th></th>\n",
       "      <th>date</th>\n",
       "      <th>bedrooms</th>\n",
       "      <th>bathrooms</th>\n",
       "      <th>sqft_living</th>\n",
       "      <th>sqft_lot</th>\n",
       "      <th>floors</th>\n",
       "      <th>waterfront</th>\n",
       "      <th>view</th>\n",
       "      <th>condition</th>\n",
       "      <th>grade</th>\n",
       "      <th>sqft_above</th>\n",
       "      <th>sqft_basement</th>\n",
       "      <th>yr_built</th>\n",
       "      <th>yr_renovated</th>\n",
       "      <th>zipcode</th>\n",
       "      <th>lat</th>\n",
       "      <th>long</th>\n",
       "      <th>sqft_living15</th>\n",
       "      <th>sqft_lot15</th>\n",
       "      <th>price</th>\n",
       "      <th>day</th>\n",
       "    </tr>\n",
       "  </thead>\n",
       "  <tbody>\n",
       "    <tr>\n",
       "      <th>15113</th>\n",
       "      <td>2014-05-02</td>\n",
       "      <td>2</td>\n",
       "      <td>1.00</td>\n",
       "      <td>850</td>\n",
       "      <td>6174</td>\n",
       "      <td>1.0</td>\n",
       "      <td>0</td>\n",
       "      <td>0</td>\n",
       "      <td>4</td>\n",
       "      <td>7</td>\n",
       "      <td>850</td>\n",
       "      <td>0</td>\n",
       "      <td>1950</td>\n",
       "      <td>0</td>\n",
       "      <td>98155</td>\n",
       "      <td>47.7352</td>\n",
       "      <td>-122.328</td>\n",
       "      <td>1100</td>\n",
       "      <td>6174</td>\n",
       "      <td>308500</td>\n",
       "      <td>0</td>\n",
       "    </tr>\n",
       "    <tr>\n",
       "      <th>2485</th>\n",
       "      <td>2014-05-02</td>\n",
       "      <td>2</td>\n",
       "      <td>2.00</td>\n",
       "      <td>1350</td>\n",
       "      <td>2560</td>\n",
       "      <td>1.0</td>\n",
       "      <td>0</td>\n",
       "      <td>0</td>\n",
       "      <td>3</td>\n",
       "      <td>8</td>\n",
       "      <td>1350</td>\n",
       "      <td>0</td>\n",
       "      <td>1976</td>\n",
       "      <td>0</td>\n",
       "      <td>98052</td>\n",
       "      <td>47.6344</td>\n",
       "      <td>-122.107</td>\n",
       "      <td>1790</td>\n",
       "      <td>2560</td>\n",
       "      <td>335000</td>\n",
       "      <td>0</td>\n",
       "    </tr>\n",
       "    <tr>\n",
       "      <th>12484</th>\n",
       "      <td>2014-05-02</td>\n",
       "      <td>2</td>\n",
       "      <td>1.00</td>\n",
       "      <td>800</td>\n",
       "      <td>4850</td>\n",
       "      <td>1.0</td>\n",
       "      <td>0</td>\n",
       "      <td>0</td>\n",
       "      <td>4</td>\n",
       "      <td>7</td>\n",
       "      <td>800</td>\n",
       "      <td>0</td>\n",
       "      <td>1944</td>\n",
       "      <td>0</td>\n",
       "      <td>98107</td>\n",
       "      <td>47.6639</td>\n",
       "      <td>-122.364</td>\n",
       "      <td>1150</td>\n",
       "      <td>4365</td>\n",
       "      <td>440000</td>\n",
       "      <td>0</td>\n",
       "    </tr>\n",
       "    <tr>\n",
       "      <th>4959</th>\n",
       "      <td>2014-05-02</td>\n",
       "      <td>3</td>\n",
       "      <td>1.75</td>\n",
       "      <td>2330</td>\n",
       "      <td>14892</td>\n",
       "      <td>1.0</td>\n",
       "      <td>0</td>\n",
       "      <td>0</td>\n",
       "      <td>3</td>\n",
       "      <td>8</td>\n",
       "      <td>1970</td>\n",
       "      <td>360</td>\n",
       "      <td>1980</td>\n",
       "      <td>0</td>\n",
       "      <td>98074</td>\n",
       "      <td>47.6267</td>\n",
       "      <td>-122.046</td>\n",
       "      <td>2570</td>\n",
       "      <td>14217</td>\n",
       "      <td>588500</td>\n",
       "      <td>0</td>\n",
       "    </tr>\n",
       "    <tr>\n",
       "      <th>18675</th>\n",
       "      <td>2014-05-02</td>\n",
       "      <td>5</td>\n",
       "      <td>2.50</td>\n",
       "      <td>2210</td>\n",
       "      <td>9655</td>\n",
       "      <td>1.0</td>\n",
       "      <td>0</td>\n",
       "      <td>0</td>\n",
       "      <td>3</td>\n",
       "      <td>8</td>\n",
       "      <td>1460</td>\n",
       "      <td>750</td>\n",
       "      <td>1976</td>\n",
       "      <td>0</td>\n",
       "      <td>98011</td>\n",
       "      <td>47.7698</td>\n",
       "      <td>-122.222</td>\n",
       "      <td>2080</td>\n",
       "      <td>8633</td>\n",
       "      <td>470000</td>\n",
       "      <td>0</td>\n",
       "    </tr>\n",
       "    <tr>\n",
       "      <th>...</th>\n",
       "      <td>...</td>\n",
       "      <td>...</td>\n",
       "      <td>...</td>\n",
       "      <td>...</td>\n",
       "      <td>...</td>\n",
       "      <td>...</td>\n",
       "      <td>...</td>\n",
       "      <td>...</td>\n",
       "      <td>...</td>\n",
       "      <td>...</td>\n",
       "      <td>...</td>\n",
       "      <td>...</td>\n",
       "      <td>...</td>\n",
       "      <td>...</td>\n",
       "      <td>...</td>\n",
       "      <td>...</td>\n",
       "      <td>...</td>\n",
       "      <td>...</td>\n",
       "      <td>...</td>\n",
       "      <td>...</td>\n",
       "      <td>...</td>\n",
       "    </tr>\n",
       "    <tr>\n",
       "      <th>20456</th>\n",
       "      <td>2015-05-14</td>\n",
       "      <td>5</td>\n",
       "      <td>3.00</td>\n",
       "      <td>3223</td>\n",
       "      <td>6371</td>\n",
       "      <td>2.0</td>\n",
       "      <td>0</td>\n",
       "      <td>0</td>\n",
       "      <td>3</td>\n",
       "      <td>9</td>\n",
       "      <td>3223</td>\n",
       "      <td>0</td>\n",
       "      <td>2014</td>\n",
       "      <td>0</td>\n",
       "      <td>98042</td>\n",
       "      <td>47.3584</td>\n",
       "      <td>-122.163</td>\n",
       "      <td>1979</td>\n",
       "      <td>9008</td>\n",
       "      <td>479349</td>\n",
       "      <td>377</td>\n",
       "    </tr>\n",
       "    <tr>\n",
       "      <th>927</th>\n",
       "      <td>2015-05-14</td>\n",
       "      <td>2</td>\n",
       "      <td>2.75</td>\n",
       "      <td>1370</td>\n",
       "      <td>1140</td>\n",
       "      <td>2.0</td>\n",
       "      <td>0</td>\n",
       "      <td>0</td>\n",
       "      <td>3</td>\n",
       "      <td>8</td>\n",
       "      <td>1080</td>\n",
       "      <td>290</td>\n",
       "      <td>2009</td>\n",
       "      <td>0</td>\n",
       "      <td>98133</td>\n",
       "      <td>47.7052</td>\n",
       "      <td>-122.343</td>\n",
       "      <td>1370</td>\n",
       "      <td>1090</td>\n",
       "      <td>359000</td>\n",
       "      <td>377</td>\n",
       "    </tr>\n",
       "    <tr>\n",
       "      <th>5632</th>\n",
       "      <td>2015-05-15</td>\n",
       "      <td>5</td>\n",
       "      <td>2.00</td>\n",
       "      <td>1870</td>\n",
       "      <td>7344</td>\n",
       "      <td>1.5</td>\n",
       "      <td>0</td>\n",
       "      <td>0</td>\n",
       "      <td>3</td>\n",
       "      <td>7</td>\n",
       "      <td>1870</td>\n",
       "      <td>0</td>\n",
       "      <td>1960</td>\n",
       "      <td>0</td>\n",
       "      <td>98007</td>\n",
       "      <td>47.5951</td>\n",
       "      <td>-122.144</td>\n",
       "      <td>1870</td>\n",
       "      <td>7650</td>\n",
       "      <td>450000</td>\n",
       "      <td>378</td>\n",
       "    </tr>\n",
       "    <tr>\n",
       "      <th>13040</th>\n",
       "      <td>2015-05-24</td>\n",
       "      <td>2</td>\n",
       "      <td>1.75</td>\n",
       "      <td>1390</td>\n",
       "      <td>6670</td>\n",
       "      <td>1.0</td>\n",
       "      <td>0</td>\n",
       "      <td>0</td>\n",
       "      <td>3</td>\n",
       "      <td>6</td>\n",
       "      <td>720</td>\n",
       "      <td>670</td>\n",
       "      <td>1941</td>\n",
       "      <td>0</td>\n",
       "      <td>98115</td>\n",
       "      <td>47.6914</td>\n",
       "      <td>-122.308</td>\n",
       "      <td>920</td>\n",
       "      <td>6380</td>\n",
       "      <td>445500</td>\n",
       "      <td>387</td>\n",
       "    </tr>\n",
       "    <tr>\n",
       "      <th>16580</th>\n",
       "      <td>2015-05-27</td>\n",
       "      <td>4</td>\n",
       "      <td>2.25</td>\n",
       "      <td>3750</td>\n",
       "      <td>5000</td>\n",
       "      <td>2.0</td>\n",
       "      <td>0</td>\n",
       "      <td>0</td>\n",
       "      <td>5</td>\n",
       "      <td>8</td>\n",
       "      <td>2440</td>\n",
       "      <td>1310</td>\n",
       "      <td>1924</td>\n",
       "      <td>0</td>\n",
       "      <td>98115</td>\n",
       "      <td>47.6747</td>\n",
       "      <td>-122.303</td>\n",
       "      <td>2170</td>\n",
       "      <td>4590</td>\n",
       "      <td>1310000</td>\n",
       "      <td>390</td>\n",
       "    </tr>\n",
       "  </tbody>\n",
       "</table>\n",
       "<p>21596 rows × 21 columns</p>\n",
       "</div>"
      ],
      "text/plain": [
       "            date  bedrooms  bathrooms  sqft_living  sqft_lot  floors  \\\n",
       "15113 2014-05-02         2       1.00          850      6174     1.0   \n",
       "2485  2014-05-02         2       2.00         1350      2560     1.0   \n",
       "12484 2014-05-02         2       1.00          800      4850     1.0   \n",
       "4959  2014-05-02         3       1.75         2330     14892     1.0   \n",
       "18675 2014-05-02         5       2.50         2210      9655     1.0   \n",
       "...          ...       ...        ...          ...       ...     ...   \n",
       "20456 2015-05-14         5       3.00         3223      6371     2.0   \n",
       "927   2015-05-14         2       2.75         1370      1140     2.0   \n",
       "5632  2015-05-15         5       2.00         1870      7344     1.5   \n",
       "13040 2015-05-24         2       1.75         1390      6670     1.0   \n",
       "16580 2015-05-27         4       2.25         3750      5000     2.0   \n",
       "\n",
       "       waterfront  view  condition  grade  sqft_above  sqft_basement  \\\n",
       "15113           0     0          4      7         850              0   \n",
       "2485            0     0          3      8        1350              0   \n",
       "12484           0     0          4      7         800              0   \n",
       "4959            0     0          3      8        1970            360   \n",
       "18675           0     0          3      8        1460            750   \n",
       "...           ...   ...        ...    ...         ...            ...   \n",
       "20456           0     0          3      9        3223              0   \n",
       "927             0     0          3      8        1080            290   \n",
       "5632            0     0          3      7        1870              0   \n",
       "13040           0     0          3      6         720            670   \n",
       "16580           0     0          5      8        2440           1310   \n",
       "\n",
       "       yr_built  yr_renovated  zipcode      lat     long  sqft_living15  \\\n",
       "15113      1950             0    98155  47.7352 -122.328           1100   \n",
       "2485       1976             0    98052  47.6344 -122.107           1790   \n",
       "12484      1944             0    98107  47.6639 -122.364           1150   \n",
       "4959       1980             0    98074  47.6267 -122.046           2570   \n",
       "18675      1976             0    98011  47.7698 -122.222           2080   \n",
       "...         ...           ...      ...      ...      ...            ...   \n",
       "20456      2014             0    98042  47.3584 -122.163           1979   \n",
       "927        2009             0    98133  47.7052 -122.343           1370   \n",
       "5632       1960             0    98007  47.5951 -122.144           1870   \n",
       "13040      1941             0    98115  47.6914 -122.308            920   \n",
       "16580      1924             0    98115  47.6747 -122.303           2170   \n",
       "\n",
       "       sqft_lot15    price  day  \n",
       "15113        6174   308500    0  \n",
       "2485         2560   335000    0  \n",
       "12484        4365   440000    0  \n",
       "4959        14217   588500    0  \n",
       "18675        8633   470000    0  \n",
       "...           ...      ...  ...  \n",
       "20456        9008   479349  377  \n",
       "927          1090   359000  377  \n",
       "5632         7650   450000  378  \n",
       "13040        6380   445500  387  \n",
       "16580        4590  1310000  390  \n",
       "\n",
       "[21596 rows x 21 columns]"
      ]
     },
     "execution_count": 119,
     "metadata": {},
     "output_type": "execute_result"
    }
   ],
   "source": [
    "#checking that day column correctly follows order of date column (it does)\n",
    "cleandata.sort_values(by=['date'])"
   ]
  },
  {
   "cell_type": "code",
   "execution_count": 120,
   "id": "977f62c8",
   "metadata": {},
   "outputs": [],
   "source": [
    "moddata = cleandata"
   ]
  },
  {
   "cell_type": "code",
   "execution_count": 121,
   "id": "cbf1d438",
   "metadata": {},
   "outputs": [],
   "source": [
    "#converting bath count from quarter counts to half counts to  \n",
    "# follow standard housing market trends (per Fannie Mae procedure)\n",
    "\n",
    "def bathnum(x):\n",
    "    x=str(x)\n",
    "    if x[-2:] == '25':\n",
    "        x=float(x)\n",
    "        x=x+.25\n",
    "        return x\n",
    "    elif x[-2:] == '75':\n",
    "        x=float(x)\n",
    "        x=x+.25\n",
    "        return x\n",
    "    else:\n",
    "        x=float(x)\n",
    "        return x"
   ]
  },
  {
   "cell_type": "code",
   "execution_count": 122,
   "id": "0063d796",
   "metadata": {},
   "outputs": [],
   "source": [
    "moddata['new bath count']=list(map(bathnum,moddata['bathrooms']))"
   ]
  },
  {
   "cell_type": "code",
   "execution_count": 123,
   "id": "cdd721b7",
   "metadata": {},
   "outputs": [
    {
     "data": {
      "text/html": [
       "<div>\n",
       "<style scoped>\n",
       "    .dataframe tbody tr th:only-of-type {\n",
       "        vertical-align: middle;\n",
       "    }\n",
       "\n",
       "    .dataframe tbody tr th {\n",
       "        vertical-align: top;\n",
       "    }\n",
       "\n",
       "    .dataframe thead th {\n",
       "        text-align: right;\n",
       "    }\n",
       "</style>\n",
       "<table border=\"1\" class=\"dataframe\">\n",
       "  <thead>\n",
       "    <tr style=\"text-align: right;\">\n",
       "      <th></th>\n",
       "      <th>date</th>\n",
       "      <th>bedrooms</th>\n",
       "      <th>bathrooms</th>\n",
       "      <th>sqft_living</th>\n",
       "      <th>sqft_lot</th>\n",
       "      <th>floors</th>\n",
       "      <th>waterfront</th>\n",
       "      <th>view</th>\n",
       "      <th>condition</th>\n",
       "      <th>grade</th>\n",
       "      <th>sqft_above</th>\n",
       "      <th>sqft_basement</th>\n",
       "      <th>yr_built</th>\n",
       "      <th>yr_renovated</th>\n",
       "      <th>zipcode</th>\n",
       "      <th>lat</th>\n",
       "      <th>long</th>\n",
       "      <th>sqft_living15</th>\n",
       "      <th>sqft_lot15</th>\n",
       "      <th>price</th>\n",
       "      <th>day</th>\n",
       "      <th>new bath count</th>\n",
       "    </tr>\n",
       "  </thead>\n",
       "  <tbody>\n",
       "    <tr>\n",
       "      <th>0</th>\n",
       "      <td>2014-10-13</td>\n",
       "      <td>3</td>\n",
       "      <td>1.00</td>\n",
       "      <td>1180</td>\n",
       "      <td>5650</td>\n",
       "      <td>1.0</td>\n",
       "      <td>0</td>\n",
       "      <td>0</td>\n",
       "      <td>3</td>\n",
       "      <td>7</td>\n",
       "      <td>1180</td>\n",
       "      <td>0</td>\n",
       "      <td>1955</td>\n",
       "      <td>0</td>\n",
       "      <td>98178</td>\n",
       "      <td>47.5112</td>\n",
       "      <td>-122.257</td>\n",
       "      <td>1340</td>\n",
       "      <td>5650</td>\n",
       "      <td>221900</td>\n",
       "      <td>164</td>\n",
       "      <td>1.0</td>\n",
       "    </tr>\n",
       "    <tr>\n",
       "      <th>1</th>\n",
       "      <td>2014-12-09</td>\n",
       "      <td>3</td>\n",
       "      <td>2.25</td>\n",
       "      <td>2570</td>\n",
       "      <td>7242</td>\n",
       "      <td>2.0</td>\n",
       "      <td>0</td>\n",
       "      <td>0</td>\n",
       "      <td>3</td>\n",
       "      <td>7</td>\n",
       "      <td>2170</td>\n",
       "      <td>400</td>\n",
       "      <td>1951</td>\n",
       "      <td>1991</td>\n",
       "      <td>98125</td>\n",
       "      <td>47.7210</td>\n",
       "      <td>-122.319</td>\n",
       "      <td>1690</td>\n",
       "      <td>7639</td>\n",
       "      <td>538000</td>\n",
       "      <td>221</td>\n",
       "      <td>2.5</td>\n",
       "    </tr>\n",
       "    <tr>\n",
       "      <th>2</th>\n",
       "      <td>2015-02-25</td>\n",
       "      <td>2</td>\n",
       "      <td>1.00</td>\n",
       "      <td>770</td>\n",
       "      <td>10000</td>\n",
       "      <td>1.0</td>\n",
       "      <td>0</td>\n",
       "      <td>0</td>\n",
       "      <td>3</td>\n",
       "      <td>6</td>\n",
       "      <td>770</td>\n",
       "      <td>0</td>\n",
       "      <td>1933</td>\n",
       "      <td>0</td>\n",
       "      <td>98028</td>\n",
       "      <td>47.7379</td>\n",
       "      <td>-122.233</td>\n",
       "      <td>2720</td>\n",
       "      <td>8062</td>\n",
       "      <td>180000</td>\n",
       "      <td>299</td>\n",
       "      <td>1.0</td>\n",
       "    </tr>\n",
       "    <tr>\n",
       "      <th>3</th>\n",
       "      <td>2014-12-09</td>\n",
       "      <td>4</td>\n",
       "      <td>3.00</td>\n",
       "      <td>1960</td>\n",
       "      <td>5000</td>\n",
       "      <td>1.0</td>\n",
       "      <td>0</td>\n",
       "      <td>0</td>\n",
       "      <td>5</td>\n",
       "      <td>7</td>\n",
       "      <td>1050</td>\n",
       "      <td>910</td>\n",
       "      <td>1965</td>\n",
       "      <td>0</td>\n",
       "      <td>98136</td>\n",
       "      <td>47.5208</td>\n",
       "      <td>-122.393</td>\n",
       "      <td>1360</td>\n",
       "      <td>5000</td>\n",
       "      <td>604000</td>\n",
       "      <td>221</td>\n",
       "      <td>3.0</td>\n",
       "    </tr>\n",
       "    <tr>\n",
       "      <th>4</th>\n",
       "      <td>2015-02-18</td>\n",
       "      <td>3</td>\n",
       "      <td>2.00</td>\n",
       "      <td>1680</td>\n",
       "      <td>8080</td>\n",
       "      <td>1.0</td>\n",
       "      <td>0</td>\n",
       "      <td>0</td>\n",
       "      <td>3</td>\n",
       "      <td>8</td>\n",
       "      <td>1680</td>\n",
       "      <td>0</td>\n",
       "      <td>1987</td>\n",
       "      <td>0</td>\n",
       "      <td>98074</td>\n",
       "      <td>47.6168</td>\n",
       "      <td>-122.045</td>\n",
       "      <td>1800</td>\n",
       "      <td>7503</td>\n",
       "      <td>510000</td>\n",
       "      <td>292</td>\n",
       "      <td>2.0</td>\n",
       "    </tr>\n",
       "    <tr>\n",
       "      <th>...</th>\n",
       "      <td>...</td>\n",
       "      <td>...</td>\n",
       "      <td>...</td>\n",
       "      <td>...</td>\n",
       "      <td>...</td>\n",
       "      <td>...</td>\n",
       "      <td>...</td>\n",
       "      <td>...</td>\n",
       "      <td>...</td>\n",
       "      <td>...</td>\n",
       "      <td>...</td>\n",
       "      <td>...</td>\n",
       "      <td>...</td>\n",
       "      <td>...</td>\n",
       "      <td>...</td>\n",
       "      <td>...</td>\n",
       "      <td>...</td>\n",
       "      <td>...</td>\n",
       "      <td>...</td>\n",
       "      <td>...</td>\n",
       "      <td>...</td>\n",
       "      <td>...</td>\n",
       "    </tr>\n",
       "    <tr>\n",
       "      <th>21592</th>\n",
       "      <td>2014-05-21</td>\n",
       "      <td>3</td>\n",
       "      <td>2.50</td>\n",
       "      <td>1530</td>\n",
       "      <td>1131</td>\n",
       "      <td>3.0</td>\n",
       "      <td>0</td>\n",
       "      <td>0</td>\n",
       "      <td>3</td>\n",
       "      <td>8</td>\n",
       "      <td>1530</td>\n",
       "      <td>0</td>\n",
       "      <td>2009</td>\n",
       "      <td>0</td>\n",
       "      <td>98103</td>\n",
       "      <td>47.6993</td>\n",
       "      <td>-122.346</td>\n",
       "      <td>1530</td>\n",
       "      <td>1509</td>\n",
       "      <td>360000</td>\n",
       "      <td>19</td>\n",
       "      <td>2.5</td>\n",
       "    </tr>\n",
       "    <tr>\n",
       "      <th>21593</th>\n",
       "      <td>2015-02-23</td>\n",
       "      <td>4</td>\n",
       "      <td>2.50</td>\n",
       "      <td>2310</td>\n",
       "      <td>5813</td>\n",
       "      <td>2.0</td>\n",
       "      <td>0</td>\n",
       "      <td>0</td>\n",
       "      <td>3</td>\n",
       "      <td>8</td>\n",
       "      <td>2310</td>\n",
       "      <td>0</td>\n",
       "      <td>2014</td>\n",
       "      <td>0</td>\n",
       "      <td>98146</td>\n",
       "      <td>47.5107</td>\n",
       "      <td>-122.362</td>\n",
       "      <td>1830</td>\n",
       "      <td>7200</td>\n",
       "      <td>400000</td>\n",
       "      <td>297</td>\n",
       "      <td>2.5</td>\n",
       "    </tr>\n",
       "    <tr>\n",
       "      <th>21594</th>\n",
       "      <td>2014-06-23</td>\n",
       "      <td>2</td>\n",
       "      <td>0.75</td>\n",
       "      <td>1020</td>\n",
       "      <td>1350</td>\n",
       "      <td>2.0</td>\n",
       "      <td>0</td>\n",
       "      <td>0</td>\n",
       "      <td>3</td>\n",
       "      <td>7</td>\n",
       "      <td>1020</td>\n",
       "      <td>0</td>\n",
       "      <td>2009</td>\n",
       "      <td>0</td>\n",
       "      <td>98144</td>\n",
       "      <td>47.5944</td>\n",
       "      <td>-122.299</td>\n",
       "      <td>1020</td>\n",
       "      <td>2007</td>\n",
       "      <td>402101</td>\n",
       "      <td>52</td>\n",
       "      <td>1.0</td>\n",
       "    </tr>\n",
       "    <tr>\n",
       "      <th>21595</th>\n",
       "      <td>2015-01-16</td>\n",
       "      <td>3</td>\n",
       "      <td>2.50</td>\n",
       "      <td>1600</td>\n",
       "      <td>2388</td>\n",
       "      <td>2.0</td>\n",
       "      <td>0</td>\n",
       "      <td>0</td>\n",
       "      <td>3</td>\n",
       "      <td>8</td>\n",
       "      <td>1600</td>\n",
       "      <td>0</td>\n",
       "      <td>2004</td>\n",
       "      <td>0</td>\n",
       "      <td>98027</td>\n",
       "      <td>47.5345</td>\n",
       "      <td>-122.069</td>\n",
       "      <td>1410</td>\n",
       "      <td>1287</td>\n",
       "      <td>400000</td>\n",
       "      <td>259</td>\n",
       "      <td>2.5</td>\n",
       "    </tr>\n",
       "    <tr>\n",
       "      <th>21596</th>\n",
       "      <td>2014-10-15</td>\n",
       "      <td>2</td>\n",
       "      <td>0.75</td>\n",
       "      <td>1020</td>\n",
       "      <td>1076</td>\n",
       "      <td>2.0</td>\n",
       "      <td>0</td>\n",
       "      <td>0</td>\n",
       "      <td>3</td>\n",
       "      <td>7</td>\n",
       "      <td>1020</td>\n",
       "      <td>0</td>\n",
       "      <td>2008</td>\n",
       "      <td>0</td>\n",
       "      <td>98144</td>\n",
       "      <td>47.5941</td>\n",
       "      <td>-122.299</td>\n",
       "      <td>1020</td>\n",
       "      <td>1357</td>\n",
       "      <td>325000</td>\n",
       "      <td>166</td>\n",
       "      <td>1.0</td>\n",
       "    </tr>\n",
       "  </tbody>\n",
       "</table>\n",
       "<p>21596 rows × 22 columns</p>\n",
       "</div>"
      ],
      "text/plain": [
       "            date  bedrooms  bathrooms  sqft_living  sqft_lot  floors  \\\n",
       "0     2014-10-13         3       1.00         1180      5650     1.0   \n",
       "1     2014-12-09         3       2.25         2570      7242     2.0   \n",
       "2     2015-02-25         2       1.00          770     10000     1.0   \n",
       "3     2014-12-09         4       3.00         1960      5000     1.0   \n",
       "4     2015-02-18         3       2.00         1680      8080     1.0   \n",
       "...          ...       ...        ...          ...       ...     ...   \n",
       "21592 2014-05-21         3       2.50         1530      1131     3.0   \n",
       "21593 2015-02-23         4       2.50         2310      5813     2.0   \n",
       "21594 2014-06-23         2       0.75         1020      1350     2.0   \n",
       "21595 2015-01-16         3       2.50         1600      2388     2.0   \n",
       "21596 2014-10-15         2       0.75         1020      1076     2.0   \n",
       "\n",
       "       waterfront  view  condition  grade  sqft_above  sqft_basement  \\\n",
       "0               0     0          3      7        1180              0   \n",
       "1               0     0          3      7        2170            400   \n",
       "2               0     0          3      6         770              0   \n",
       "3               0     0          5      7        1050            910   \n",
       "4               0     0          3      8        1680              0   \n",
       "...           ...   ...        ...    ...         ...            ...   \n",
       "21592           0     0          3      8        1530              0   \n",
       "21593           0     0          3      8        2310              0   \n",
       "21594           0     0          3      7        1020              0   \n",
       "21595           0     0          3      8        1600              0   \n",
       "21596           0     0          3      7        1020              0   \n",
       "\n",
       "       yr_built  yr_renovated  zipcode      lat     long  sqft_living15  \\\n",
       "0          1955             0    98178  47.5112 -122.257           1340   \n",
       "1          1951          1991    98125  47.7210 -122.319           1690   \n",
       "2          1933             0    98028  47.7379 -122.233           2720   \n",
       "3          1965             0    98136  47.5208 -122.393           1360   \n",
       "4          1987             0    98074  47.6168 -122.045           1800   \n",
       "...         ...           ...      ...      ...      ...            ...   \n",
       "21592      2009             0    98103  47.6993 -122.346           1530   \n",
       "21593      2014             0    98146  47.5107 -122.362           1830   \n",
       "21594      2009             0    98144  47.5944 -122.299           1020   \n",
       "21595      2004             0    98027  47.5345 -122.069           1410   \n",
       "21596      2008             0    98144  47.5941 -122.299           1020   \n",
       "\n",
       "       sqft_lot15   price  day  new bath count  \n",
       "0            5650  221900  164             1.0  \n",
       "1            7639  538000  221             2.5  \n",
       "2            8062  180000  299             1.0  \n",
       "3            5000  604000  221             3.0  \n",
       "4            7503  510000  292             2.0  \n",
       "...           ...     ...  ...             ...  \n",
       "21592        1509  360000   19             2.5  \n",
       "21593        7200  400000  297             2.5  \n",
       "21594        2007  402101   52             1.0  \n",
       "21595        1287  400000  259             2.5  \n",
       "21596        1357  325000  166             1.0  \n",
       "\n",
       "[21596 rows x 22 columns]"
      ]
     },
     "execution_count": 123,
     "metadata": {},
     "output_type": "execute_result"
    }
   ],
   "source": [
    "moddata"
   ]
  },
  {
   "cell_type": "code",
   "execution_count": 124,
   "id": "77a12438",
   "metadata": {},
   "outputs": [],
   "source": [
    "moddata = moddata.drop(['date'],axis=1)\n",
    "moddata= moddata.drop(['bathrooms'],axis=1)"
   ]
  },
  {
   "cell_type": "code",
   "execution_count": 125,
   "id": "237acc77",
   "metadata": {},
   "outputs": [
    {
     "data": {
      "text/plain": [
       "0       20682\n",
       "2014       91\n",
       "2013       37\n",
       "2003       36\n",
       "2005       35\n",
       "2007       35\n",
       "2000       35\n",
       "2004       26\n",
       "1990       25\n",
       "2006       24\n",
       "2002       22\n",
       "2009       22\n",
       "1989       22\n",
       "1991       20\n",
       "1998       19\n",
       "2001       19\n",
       "1994       19\n",
       "1993       19\n",
       "1987       18\n",
       "2010       18\n",
       "2008       18\n",
       "1983       18\n",
       "1984       18\n",
       "1985       17\n",
       "1999       17\n",
       "1992       17\n",
       "1986       17\n",
       "2015       16\n",
       "1995       16\n",
       "1988       15\n",
       "1996       15\n",
       "1997       15\n",
       "2011       13\n",
       "2012       11\n",
       "1980       11\n",
       "1982       11\n",
       "1979       10\n",
       "1970        9\n",
       "1977        8\n",
       "1968        8\n",
       "1978        6\n",
       "1975        6\n",
       "1973        5\n",
       "1965        5\n",
       "1981        5\n",
       "1964        5\n",
       "1958        5\n",
       "1960        4\n",
       "1972        4\n",
       "1963        4\n",
       "1969        4\n",
       "1976        3\n",
       "1974        3\n",
       "1953        3\n",
       "1955        3\n",
       "1956        3\n",
       "1945        3\n",
       "1957        3\n",
       "1950        2\n",
       "1962        2\n",
       "1940        2\n",
       "1946        2\n",
       "1971        2\n",
       "1967        2\n",
       "1934        1\n",
       "1951        1\n",
       "1959        1\n",
       "1948        1\n",
       "1954        1\n",
       "1944        1\n",
       "Name: yr_renovated, dtype: int64"
      ]
     },
     "execution_count": 125,
     "metadata": {},
     "output_type": "execute_result"
    }
   ],
   "source": [
    "#yr_renovated value counts shows clear surge of renovations in the 2 years before a house is sold\n",
    "pd.set_option(\"display.max_rows\",None)\n",
    "moddata['yr_renovated'].value_counts()"
   ]
  },
  {
   "cell_type": "code",
   "execution_count": 126,
   "id": "af7ca411",
   "metadata": {},
   "outputs": [
    {
     "data": {
      "text/plain": [
       "(21596, 18)"
      ]
     },
     "execution_count": 126,
     "metadata": {},
     "output_type": "execute_result"
    }
   ],
   "source": [
    "moddata = moddata.drop(['sqft_living','sqft_lot'],axis=1)\n",
    "moddata.shape"
   ]
  },
  {
   "cell_type": "code",
   "execution_count": 127,
   "id": "efb8e67a",
   "metadata": {},
   "outputs": [
    {
     "data": {
      "text/plain": [
       "Index(['bedrooms', 'floors', 'waterfront', 'view', 'condition', 'grade',\n",
       "       'sqft_above', 'sqft_basement', 'yr_built', 'yr_renovated', 'zipcode',\n",
       "       'lat', 'long', 'sqft_living15', 'sqft_lot15', 'price', 'day',\n",
       "       'new bath count'],\n",
       "      dtype='object')"
      ]
     },
     "execution_count": 127,
     "metadata": {},
     "output_type": "execute_result"
    }
   ],
   "source": [
    "moddata.columns"
   ]
  },
  {
   "cell_type": "code",
   "execution_count": 128,
   "id": "974de6a5",
   "metadata": {},
   "outputs": [
    {
     "data": {
      "text/plain": [
       "7     8973\n",
       "8     6065\n",
       "9     2615\n",
       "6     2038\n",
       "10    1134\n",
       "11     399\n",
       "5      242\n",
       "12      89\n",
       "4       27\n",
       "13      13\n",
       "3        1\n",
       "Name: grade, dtype: int64"
      ]
     },
     "execution_count": 128,
     "metadata": {},
     "output_type": "execute_result"
    }
   ],
   "source": [
    "cleandata['grade'].value_counts()"
   ]
  },
  {
   "cell_type": "code",
   "execution_count": 129,
   "id": "f8976919",
   "metadata": {},
   "outputs": [],
   "source": [
    "#idea: make a category for <3 yr reno to replace yr_reno (reduces variables in model)\n",
    "def newreno(x):\n",
    "    if ((x == 2014) | (x==2013) | (x==2015)):\n",
    "        return 'yes'\n",
    "    else:\n",
    "        return 'no'"
   ]
  },
  {
   "cell_type": "code",
   "execution_count": 130,
   "id": "469ec6e3",
   "metadata": {},
   "outputs": [],
   "source": [
    "moddata['new reno']=list(map(newreno,moddata['yr_renovated']))"
   ]
  },
  {
   "cell_type": "code",
   "execution_count": 131,
   "id": "af8f1cfa",
   "metadata": {
    "scrolled": true
   },
   "outputs": [
    {
     "data": {
      "text/html": [
       "<div>\n",
       "<style scoped>\n",
       "    .dataframe tbody tr th:only-of-type {\n",
       "        vertical-align: middle;\n",
       "    }\n",
       "\n",
       "    .dataframe tbody tr th {\n",
       "        vertical-align: top;\n",
       "    }\n",
       "\n",
       "    .dataframe thead th {\n",
       "        text-align: right;\n",
       "    }\n",
       "</style>\n",
       "<table border=\"1\" class=\"dataframe\">\n",
       "  <thead>\n",
       "    <tr style=\"text-align: right;\">\n",
       "      <th></th>\n",
       "      <th>bedrooms</th>\n",
       "      <th>floors</th>\n",
       "      <th>waterfront</th>\n",
       "      <th>view</th>\n",
       "      <th>condition</th>\n",
       "      <th>grade</th>\n",
       "      <th>sqft_above</th>\n",
       "      <th>sqft_basement</th>\n",
       "      <th>yr_built</th>\n",
       "      <th>yr_renovated</th>\n",
       "      <th>zipcode</th>\n",
       "      <th>lat</th>\n",
       "      <th>long</th>\n",
       "      <th>sqft_living15</th>\n",
       "      <th>sqft_lot15</th>\n",
       "      <th>price</th>\n",
       "      <th>day</th>\n",
       "      <th>new bath count</th>\n",
       "      <th>new reno</th>\n",
       "    </tr>\n",
       "  </thead>\n",
       "  <tbody>\n",
       "    <tr>\n",
       "      <th>0</th>\n",
       "      <td>3</td>\n",
       "      <td>1.0</td>\n",
       "      <td>0</td>\n",
       "      <td>0</td>\n",
       "      <td>3</td>\n",
       "      <td>7</td>\n",
       "      <td>1180</td>\n",
       "      <td>0</td>\n",
       "      <td>1955</td>\n",
       "      <td>0</td>\n",
       "      <td>98178</td>\n",
       "      <td>47.5112</td>\n",
       "      <td>-122.257</td>\n",
       "      <td>1340</td>\n",
       "      <td>5650</td>\n",
       "      <td>221900</td>\n",
       "      <td>164</td>\n",
       "      <td>1.0</td>\n",
       "      <td>no</td>\n",
       "    </tr>\n",
       "    <tr>\n",
       "      <th>14274</th>\n",
       "      <td>3</td>\n",
       "      <td>1.5</td>\n",
       "      <td>0</td>\n",
       "      <td>0</td>\n",
       "      <td>5</td>\n",
       "      <td>7</td>\n",
       "      <td>1490</td>\n",
       "      <td>440</td>\n",
       "      <td>1929</td>\n",
       "      <td>0</td>\n",
       "      <td>98105</td>\n",
       "      <td>47.6659</td>\n",
       "      <td>-122.287</td>\n",
       "      <td>2080</td>\n",
       "      <td>3760</td>\n",
       "      <td>665000</td>\n",
       "      <td>152</td>\n",
       "      <td>3.0</td>\n",
       "      <td>no</td>\n",
       "    </tr>\n",
       "    <tr>\n",
       "      <th>14273</th>\n",
       "      <td>6</td>\n",
       "      <td>1.0</td>\n",
       "      <td>0</td>\n",
       "      <td>0</td>\n",
       "      <td>5</td>\n",
       "      <td>9</td>\n",
       "      <td>2270</td>\n",
       "      <td>1150</td>\n",
       "      <td>1948</td>\n",
       "      <td>0</td>\n",
       "      <td>98006</td>\n",
       "      <td>47.5508</td>\n",
       "      <td>-122.189</td>\n",
       "      <td>2430</td>\n",
       "      <td>15560</td>\n",
       "      <td>975000</td>\n",
       "      <td>104</td>\n",
       "      <td>3.0</td>\n",
       "      <td>no</td>\n",
       "    </tr>\n",
       "    <tr>\n",
       "      <th>14272</th>\n",
       "      <td>3</td>\n",
       "      <td>1.0</td>\n",
       "      <td>0</td>\n",
       "      <td>0</td>\n",
       "      <td>4</td>\n",
       "      <td>7</td>\n",
       "      <td>1360</td>\n",
       "      <td>0</td>\n",
       "      <td>1955</td>\n",
       "      <td>0</td>\n",
       "      <td>98006</td>\n",
       "      <td>47.5697</td>\n",
       "      <td>-122.177</td>\n",
       "      <td>1440</td>\n",
       "      <td>11250</td>\n",
       "      <td>499950</td>\n",
       "      <td>124</td>\n",
       "      <td>1.5</td>\n",
       "      <td>no</td>\n",
       "    </tr>\n",
       "    <tr>\n",
       "      <th>14271</th>\n",
       "      <td>2</td>\n",
       "      <td>1.0</td>\n",
       "      <td>0</td>\n",
       "      <td>0</td>\n",
       "      <td>5</td>\n",
       "      <td>7</td>\n",
       "      <td>1400</td>\n",
       "      <td>700</td>\n",
       "      <td>1908</td>\n",
       "      <td>0</td>\n",
       "      <td>98126</td>\n",
       "      <td>47.5740</td>\n",
       "      <td>-122.372</td>\n",
       "      <td>1570</td>\n",
       "      <td>4400</td>\n",
       "      <td>420000</td>\n",
       "      <td>214</td>\n",
       "      <td>1.0</td>\n",
       "      <td>no</td>\n",
       "    </tr>\n",
       "    <tr>\n",
       "      <th>...</th>\n",
       "      <td>...</td>\n",
       "      <td>...</td>\n",
       "      <td>...</td>\n",
       "      <td>...</td>\n",
       "      <td>...</td>\n",
       "      <td>...</td>\n",
       "      <td>...</td>\n",
       "      <td>...</td>\n",
       "      <td>...</td>\n",
       "      <td>...</td>\n",
       "      <td>...</td>\n",
       "      <td>...</td>\n",
       "      <td>...</td>\n",
       "      <td>...</td>\n",
       "      <td>...</td>\n",
       "      <td>...</td>\n",
       "      <td>...</td>\n",
       "      <td>...</td>\n",
       "      <td>...</td>\n",
       "    </tr>\n",
       "    <tr>\n",
       "      <th>16669</th>\n",
       "      <td>4</td>\n",
       "      <td>1.0</td>\n",
       "      <td>0</td>\n",
       "      <td>0</td>\n",
       "      <td>3</td>\n",
       "      <td>8</td>\n",
       "      <td>1170</td>\n",
       "      <td>1230</td>\n",
       "      <td>1961</td>\n",
       "      <td>2015</td>\n",
       "      <td>98058</td>\n",
       "      <td>47.4556</td>\n",
       "      <td>-122.087</td>\n",
       "      <td>1690</td>\n",
       "      <td>20000</td>\n",
       "      <td>420000</td>\n",
       "      <td>322</td>\n",
       "      <td>3.0</td>\n",
       "      <td>yes</td>\n",
       "    </tr>\n",
       "    <tr>\n",
       "      <th>7951</th>\n",
       "      <td>3</td>\n",
       "      <td>1.0</td>\n",
       "      <td>0</td>\n",
       "      <td>0</td>\n",
       "      <td>3</td>\n",
       "      <td>7</td>\n",
       "      <td>1190</td>\n",
       "      <td>0</td>\n",
       "      <td>1952</td>\n",
       "      <td>2015</td>\n",
       "      <td>98178</td>\n",
       "      <td>47.5026</td>\n",
       "      <td>-122.236</td>\n",
       "      <td>1200</td>\n",
       "      <td>6000</td>\n",
       "      <td>203000</td>\n",
       "      <td>331</td>\n",
       "      <td>2.0</td>\n",
       "      <td>yes</td>\n",
       "    </tr>\n",
       "    <tr>\n",
       "      <th>18560</th>\n",
       "      <td>4</td>\n",
       "      <td>1.0</td>\n",
       "      <td>0</td>\n",
       "      <td>0</td>\n",
       "      <td>3</td>\n",
       "      <td>7</td>\n",
       "      <td>1590</td>\n",
       "      <td>1300</td>\n",
       "      <td>1945</td>\n",
       "      <td>2015</td>\n",
       "      <td>98115</td>\n",
       "      <td>47.6763</td>\n",
       "      <td>-122.282</td>\n",
       "      <td>2180</td>\n",
       "      <td>6885</td>\n",
       "      <td>476000</td>\n",
       "      <td>60</td>\n",
       "      <td>3.0</td>\n",
       "      <td>yes</td>\n",
       "    </tr>\n",
       "    <tr>\n",
       "      <th>7410</th>\n",
       "      <td>4</td>\n",
       "      <td>2.0</td>\n",
       "      <td>0</td>\n",
       "      <td>0</td>\n",
       "      <td>3</td>\n",
       "      <td>7</td>\n",
       "      <td>1900</td>\n",
       "      <td>0</td>\n",
       "      <td>1954</td>\n",
       "      <td>2015</td>\n",
       "      <td>98155</td>\n",
       "      <td>47.7684</td>\n",
       "      <td>-122.304</td>\n",
       "      <td>1900</td>\n",
       "      <td>12868</td>\n",
       "      <td>459000</td>\n",
       "      <td>266</td>\n",
       "      <td>3.0</td>\n",
       "      <td>yes</td>\n",
       "    </tr>\n",
       "    <tr>\n",
       "      <th>2293</th>\n",
       "      <td>5</td>\n",
       "      <td>1.5</td>\n",
       "      <td>0</td>\n",
       "      <td>0</td>\n",
       "      <td>3</td>\n",
       "      <td>8</td>\n",
       "      <td>1520</td>\n",
       "      <td>830</td>\n",
       "      <td>1922</td>\n",
       "      <td>2015</td>\n",
       "      <td>98112</td>\n",
       "      <td>47.6388</td>\n",
       "      <td>-122.300</td>\n",
       "      <td>1920</td>\n",
       "      <td>4178</td>\n",
       "      <td>585000</td>\n",
       "      <td>87</td>\n",
       "      <td>3.0</td>\n",
       "      <td>yes</td>\n",
       "    </tr>\n",
       "  </tbody>\n",
       "</table>\n",
       "<p>21596 rows × 19 columns</p>\n",
       "</div>"
      ],
      "text/plain": [
       "       bedrooms  floors  waterfront  view  condition  grade  sqft_above  \\\n",
       "0             3     1.0           0     0          3      7        1180   \n",
       "14274         3     1.5           0     0          5      7        1490   \n",
       "14273         6     1.0           0     0          5      9        2270   \n",
       "14272         3     1.0           0     0          4      7        1360   \n",
       "14271         2     1.0           0     0          5      7        1400   \n",
       "...         ...     ...         ...   ...        ...    ...         ...   \n",
       "16669         4     1.0           0     0          3      8        1170   \n",
       "7951          3     1.0           0     0          3      7        1190   \n",
       "18560         4     1.0           0     0          3      7        1590   \n",
       "7410          4     2.0           0     0          3      7        1900   \n",
       "2293          5     1.5           0     0          3      8        1520   \n",
       "\n",
       "       sqft_basement  yr_built  yr_renovated  zipcode      lat     long  \\\n",
       "0                  0      1955             0    98178  47.5112 -122.257   \n",
       "14274            440      1929             0    98105  47.6659 -122.287   \n",
       "14273           1150      1948             0    98006  47.5508 -122.189   \n",
       "14272              0      1955             0    98006  47.5697 -122.177   \n",
       "14271            700      1908             0    98126  47.5740 -122.372   \n",
       "...              ...       ...           ...      ...      ...      ...   \n",
       "16669           1230      1961          2015    98058  47.4556 -122.087   \n",
       "7951               0      1952          2015    98178  47.5026 -122.236   \n",
       "18560           1300      1945          2015    98115  47.6763 -122.282   \n",
       "7410               0      1954          2015    98155  47.7684 -122.304   \n",
       "2293             830      1922          2015    98112  47.6388 -122.300   \n",
       "\n",
       "       sqft_living15  sqft_lot15   price  day  new bath count new reno  \n",
       "0               1340        5650  221900  164             1.0       no  \n",
       "14274           2080        3760  665000  152             3.0       no  \n",
       "14273           2430       15560  975000  104             3.0       no  \n",
       "14272           1440       11250  499950  124             1.5       no  \n",
       "14271           1570        4400  420000  214             1.0       no  \n",
       "...              ...         ...     ...  ...             ...      ...  \n",
       "16669           1690       20000  420000  322             3.0      yes  \n",
       "7951            1200        6000  203000  331             2.0      yes  \n",
       "18560           2180        6885  476000   60             3.0      yes  \n",
       "7410            1900       12868  459000  266             3.0      yes  \n",
       "2293            1920        4178  585000   87             3.0      yes  \n",
       "\n",
       "[21596 rows x 19 columns]"
      ]
     },
     "execution_count": 131,
     "metadata": {},
     "output_type": "execute_result"
    }
   ],
   "source": [
    "pd.reset_option('display.max_rows')\n",
    "moddata.sort_values(by=['yr_renovated'])"
   ]
  },
  {
   "cell_type": "code",
   "execution_count": 132,
   "id": "8829cd42",
   "metadata": {},
   "outputs": [],
   "source": [
    "moddata = moddata.drop(['yr_renovated'],axis=1)"
   ]
  },
  {
   "cell_type": "code",
   "execution_count": 133,
   "id": "600209be",
   "metadata": {},
   "outputs": [
    {
     "data": {
      "text/plain": [
       "Index(['bedrooms', 'floors', 'waterfront', 'view', 'condition', 'grade',\n",
       "       'sqft_above', 'sqft_basement', 'yr_built', 'zipcode', 'lat', 'long',\n",
       "       'sqft_living15', 'sqft_lot15', 'price', 'day', 'new bath count',\n",
       "       'new reno'],\n",
       "      dtype='object')"
      ]
     },
     "execution_count": 133,
     "metadata": {},
     "output_type": "execute_result"
    }
   ],
   "source": [
    "moddata.columns"
   ]
  },
  {
   "cell_type": "code",
   "execution_count": 134,
   "id": "7e6a764f",
   "metadata": {},
   "outputs": [],
   "source": [
    "nmoddata=moddata"
   ]
  },
  {
   "cell_type": "code",
   "execution_count": 135,
   "id": "bf177807",
   "metadata": {},
   "outputs": [
    {
     "data": {
      "text/plain": [
       "(21596, 17)"
      ]
     },
     "execution_count": 135,
     "metadata": {},
     "output_type": "execute_result"
    }
   ],
   "source": [
    "moddata = moddata.drop(['price'],axis=1)\n",
    "moddata.shape"
   ]
  },
  {
   "cell_type": "markdown",
   "id": "9d40ed3e",
   "metadata": {},
   "source": [
    "# 3. Preparing Dataset for Modeling"
   ]
  },
  {
   "cell_type": "code",
   "execution_count": 136,
   "id": "74bacefb",
   "metadata": {},
   "outputs": [
    {
     "name": "stdout",
     "output_type": "stream",
     "text": [
      "(21596, 17) (21596, 22)\n"
     ]
    }
   ],
   "source": [
    "print(moddata.shape, cleandata.shape)"
   ]
  },
  {
   "cell_type": "code",
   "execution_count": 137,
   "id": "71ddbb5c",
   "metadata": {},
   "outputs": [
    {
     "data": {
      "text/html": [
       "<div>\n",
       "<style scoped>\n",
       "    .dataframe tbody tr th:only-of-type {\n",
       "        vertical-align: middle;\n",
       "    }\n",
       "\n",
       "    .dataframe tbody tr th {\n",
       "        vertical-align: top;\n",
       "    }\n",
       "\n",
       "    .dataframe thead th {\n",
       "        text-align: right;\n",
       "    }\n",
       "</style>\n",
       "<table border=\"1\" class=\"dataframe\">\n",
       "  <thead>\n",
       "    <tr style=\"text-align: right;\">\n",
       "      <th></th>\n",
       "      <th>bedrooms</th>\n",
       "      <th>floors</th>\n",
       "      <th>waterfront</th>\n",
       "      <th>view</th>\n",
       "      <th>condition</th>\n",
       "      <th>grade</th>\n",
       "      <th>sqft_above</th>\n",
       "      <th>sqft_basement</th>\n",
       "      <th>yr_built</th>\n",
       "      <th>zipcode</th>\n",
       "      <th>lat</th>\n",
       "      <th>long</th>\n",
       "      <th>sqft_living15</th>\n",
       "      <th>sqft_lot15</th>\n",
       "      <th>day</th>\n",
       "      <th>new bath count</th>\n",
       "      <th>new reno</th>\n",
       "    </tr>\n",
       "  </thead>\n",
       "  <tbody>\n",
       "    <tr>\n",
       "      <th>0</th>\n",
       "      <td>3</td>\n",
       "      <td>1.0</td>\n",
       "      <td>0</td>\n",
       "      <td>0</td>\n",
       "      <td>3</td>\n",
       "      <td>7</td>\n",
       "      <td>1180</td>\n",
       "      <td>0</td>\n",
       "      <td>1955</td>\n",
       "      <td>98178</td>\n",
       "      <td>47.5112</td>\n",
       "      <td>-122.257</td>\n",
       "      <td>1340</td>\n",
       "      <td>5650</td>\n",
       "      <td>164</td>\n",
       "      <td>1.0</td>\n",
       "      <td>no</td>\n",
       "    </tr>\n",
       "    <tr>\n",
       "      <th>1</th>\n",
       "      <td>3</td>\n",
       "      <td>2.0</td>\n",
       "      <td>0</td>\n",
       "      <td>0</td>\n",
       "      <td>3</td>\n",
       "      <td>7</td>\n",
       "      <td>2170</td>\n",
       "      <td>400</td>\n",
       "      <td>1951</td>\n",
       "      <td>98125</td>\n",
       "      <td>47.7210</td>\n",
       "      <td>-122.319</td>\n",
       "      <td>1690</td>\n",
       "      <td>7639</td>\n",
       "      <td>221</td>\n",
       "      <td>2.5</td>\n",
       "      <td>no</td>\n",
       "    </tr>\n",
       "    <tr>\n",
       "      <th>2</th>\n",
       "      <td>2</td>\n",
       "      <td>1.0</td>\n",
       "      <td>0</td>\n",
       "      <td>0</td>\n",
       "      <td>3</td>\n",
       "      <td>6</td>\n",
       "      <td>770</td>\n",
       "      <td>0</td>\n",
       "      <td>1933</td>\n",
       "      <td>98028</td>\n",
       "      <td>47.7379</td>\n",
       "      <td>-122.233</td>\n",
       "      <td>2720</td>\n",
       "      <td>8062</td>\n",
       "      <td>299</td>\n",
       "      <td>1.0</td>\n",
       "      <td>no</td>\n",
       "    </tr>\n",
       "    <tr>\n",
       "      <th>3</th>\n",
       "      <td>4</td>\n",
       "      <td>1.0</td>\n",
       "      <td>0</td>\n",
       "      <td>0</td>\n",
       "      <td>5</td>\n",
       "      <td>7</td>\n",
       "      <td>1050</td>\n",
       "      <td>910</td>\n",
       "      <td>1965</td>\n",
       "      <td>98136</td>\n",
       "      <td>47.5208</td>\n",
       "      <td>-122.393</td>\n",
       "      <td>1360</td>\n",
       "      <td>5000</td>\n",
       "      <td>221</td>\n",
       "      <td>3.0</td>\n",
       "      <td>no</td>\n",
       "    </tr>\n",
       "    <tr>\n",
       "      <th>4</th>\n",
       "      <td>3</td>\n",
       "      <td>1.0</td>\n",
       "      <td>0</td>\n",
       "      <td>0</td>\n",
       "      <td>3</td>\n",
       "      <td>8</td>\n",
       "      <td>1680</td>\n",
       "      <td>0</td>\n",
       "      <td>1987</td>\n",
       "      <td>98074</td>\n",
       "      <td>47.6168</td>\n",
       "      <td>-122.045</td>\n",
       "      <td>1800</td>\n",
       "      <td>7503</td>\n",
       "      <td>292</td>\n",
       "      <td>2.0</td>\n",
       "      <td>no</td>\n",
       "    </tr>\n",
       "  </tbody>\n",
       "</table>\n",
       "</div>"
      ],
      "text/plain": [
       "   bedrooms  floors  waterfront  view  condition  grade  sqft_above  \\\n",
       "0         3     1.0           0     0          3      7        1180   \n",
       "1         3     2.0           0     0          3      7        2170   \n",
       "2         2     1.0           0     0          3      6         770   \n",
       "3         4     1.0           0     0          5      7        1050   \n",
       "4         3     1.0           0     0          3      8        1680   \n",
       "\n",
       "   sqft_basement  yr_built  zipcode      lat     long  sqft_living15  \\\n",
       "0              0      1955    98178  47.5112 -122.257           1340   \n",
       "1            400      1951    98125  47.7210 -122.319           1690   \n",
       "2              0      1933    98028  47.7379 -122.233           2720   \n",
       "3            910      1965    98136  47.5208 -122.393           1360   \n",
       "4              0      1987    98074  47.6168 -122.045           1800   \n",
       "\n",
       "   sqft_lot15  day  new bath count new reno  \n",
       "0        5650  164             1.0       no  \n",
       "1        7639  221             2.5       no  \n",
       "2        8062  299             1.0       no  \n",
       "3        5000  221             3.0       no  \n",
       "4        7503  292             2.0       no  "
      ]
     },
     "execution_count": 137,
     "metadata": {},
     "output_type": "execute_result"
    }
   ],
   "source": [
    "moddata.head()"
   ]
  },
  {
   "cell_type": "code",
   "execution_count": 138,
   "id": "bc17a828",
   "metadata": {},
   "outputs": [
    {
     "data": {
      "text/html": [
       "<div>\n",
       "<style scoped>\n",
       "    .dataframe tbody tr th:only-of-type {\n",
       "        vertical-align: middle;\n",
       "    }\n",
       "\n",
       "    .dataframe tbody tr th {\n",
       "        vertical-align: top;\n",
       "    }\n",
       "\n",
       "    .dataframe thead th {\n",
       "        text-align: right;\n",
       "    }\n",
       "</style>\n",
       "<table border=\"1\" class=\"dataframe\">\n",
       "  <thead>\n",
       "    <tr style=\"text-align: right;\">\n",
       "      <th></th>\n",
       "      <th>date</th>\n",
       "      <th>bedrooms</th>\n",
       "      <th>bathrooms</th>\n",
       "      <th>sqft_living</th>\n",
       "      <th>sqft_lot</th>\n",
       "      <th>floors</th>\n",
       "      <th>waterfront</th>\n",
       "      <th>view</th>\n",
       "      <th>condition</th>\n",
       "      <th>grade</th>\n",
       "      <th>sqft_above</th>\n",
       "      <th>sqft_basement</th>\n",
       "      <th>yr_built</th>\n",
       "      <th>yr_renovated</th>\n",
       "      <th>zipcode</th>\n",
       "      <th>lat</th>\n",
       "      <th>long</th>\n",
       "      <th>sqft_living15</th>\n",
       "      <th>sqft_lot15</th>\n",
       "      <th>price</th>\n",
       "      <th>day</th>\n",
       "      <th>new bath count</th>\n",
       "    </tr>\n",
       "  </thead>\n",
       "  <tbody>\n",
       "    <tr>\n",
       "      <th>0</th>\n",
       "      <td>2014-10-13</td>\n",
       "      <td>3</td>\n",
       "      <td>1.00</td>\n",
       "      <td>1180</td>\n",
       "      <td>5650</td>\n",
       "      <td>1.0</td>\n",
       "      <td>0</td>\n",
       "      <td>0</td>\n",
       "      <td>3</td>\n",
       "      <td>7</td>\n",
       "      <td>1180</td>\n",
       "      <td>0</td>\n",
       "      <td>1955</td>\n",
       "      <td>0</td>\n",
       "      <td>98178</td>\n",
       "      <td>47.5112</td>\n",
       "      <td>-122.257</td>\n",
       "      <td>1340</td>\n",
       "      <td>5650</td>\n",
       "      <td>221900</td>\n",
       "      <td>164</td>\n",
       "      <td>1.0</td>\n",
       "    </tr>\n",
       "    <tr>\n",
       "      <th>1</th>\n",
       "      <td>2014-12-09</td>\n",
       "      <td>3</td>\n",
       "      <td>2.25</td>\n",
       "      <td>2570</td>\n",
       "      <td>7242</td>\n",
       "      <td>2.0</td>\n",
       "      <td>0</td>\n",
       "      <td>0</td>\n",
       "      <td>3</td>\n",
       "      <td>7</td>\n",
       "      <td>2170</td>\n",
       "      <td>400</td>\n",
       "      <td>1951</td>\n",
       "      <td>1991</td>\n",
       "      <td>98125</td>\n",
       "      <td>47.7210</td>\n",
       "      <td>-122.319</td>\n",
       "      <td>1690</td>\n",
       "      <td>7639</td>\n",
       "      <td>538000</td>\n",
       "      <td>221</td>\n",
       "      <td>2.5</td>\n",
       "    </tr>\n",
       "    <tr>\n",
       "      <th>2</th>\n",
       "      <td>2015-02-25</td>\n",
       "      <td>2</td>\n",
       "      <td>1.00</td>\n",
       "      <td>770</td>\n",
       "      <td>10000</td>\n",
       "      <td>1.0</td>\n",
       "      <td>0</td>\n",
       "      <td>0</td>\n",
       "      <td>3</td>\n",
       "      <td>6</td>\n",
       "      <td>770</td>\n",
       "      <td>0</td>\n",
       "      <td>1933</td>\n",
       "      <td>0</td>\n",
       "      <td>98028</td>\n",
       "      <td>47.7379</td>\n",
       "      <td>-122.233</td>\n",
       "      <td>2720</td>\n",
       "      <td>8062</td>\n",
       "      <td>180000</td>\n",
       "      <td>299</td>\n",
       "      <td>1.0</td>\n",
       "    </tr>\n",
       "    <tr>\n",
       "      <th>3</th>\n",
       "      <td>2014-12-09</td>\n",
       "      <td>4</td>\n",
       "      <td>3.00</td>\n",
       "      <td>1960</td>\n",
       "      <td>5000</td>\n",
       "      <td>1.0</td>\n",
       "      <td>0</td>\n",
       "      <td>0</td>\n",
       "      <td>5</td>\n",
       "      <td>7</td>\n",
       "      <td>1050</td>\n",
       "      <td>910</td>\n",
       "      <td>1965</td>\n",
       "      <td>0</td>\n",
       "      <td>98136</td>\n",
       "      <td>47.5208</td>\n",
       "      <td>-122.393</td>\n",
       "      <td>1360</td>\n",
       "      <td>5000</td>\n",
       "      <td>604000</td>\n",
       "      <td>221</td>\n",
       "      <td>3.0</td>\n",
       "    </tr>\n",
       "    <tr>\n",
       "      <th>4</th>\n",
       "      <td>2015-02-18</td>\n",
       "      <td>3</td>\n",
       "      <td>2.00</td>\n",
       "      <td>1680</td>\n",
       "      <td>8080</td>\n",
       "      <td>1.0</td>\n",
       "      <td>0</td>\n",
       "      <td>0</td>\n",
       "      <td>3</td>\n",
       "      <td>8</td>\n",
       "      <td>1680</td>\n",
       "      <td>0</td>\n",
       "      <td>1987</td>\n",
       "      <td>0</td>\n",
       "      <td>98074</td>\n",
       "      <td>47.6168</td>\n",
       "      <td>-122.045</td>\n",
       "      <td>1800</td>\n",
       "      <td>7503</td>\n",
       "      <td>510000</td>\n",
       "      <td>292</td>\n",
       "      <td>2.0</td>\n",
       "    </tr>\n",
       "  </tbody>\n",
       "</table>\n",
       "</div>"
      ],
      "text/plain": [
       "        date  bedrooms  bathrooms  sqft_living  sqft_lot  floors  waterfront  \\\n",
       "0 2014-10-13         3       1.00         1180      5650     1.0           0   \n",
       "1 2014-12-09         3       2.25         2570      7242     2.0           0   \n",
       "2 2015-02-25         2       1.00          770     10000     1.0           0   \n",
       "3 2014-12-09         4       3.00         1960      5000     1.0           0   \n",
       "4 2015-02-18         3       2.00         1680      8080     1.0           0   \n",
       "\n",
       "   view  condition  grade  sqft_above  sqft_basement  yr_built  yr_renovated  \\\n",
       "0     0          3      7        1180              0      1955             0   \n",
       "1     0          3      7        2170            400      1951          1991   \n",
       "2     0          3      6         770              0      1933             0   \n",
       "3     0          5      7        1050            910      1965             0   \n",
       "4     0          3      8        1680              0      1987             0   \n",
       "\n",
       "   zipcode      lat     long  sqft_living15  sqft_lot15   price  day  \\\n",
       "0    98178  47.5112 -122.257           1340        5650  221900  164   \n",
       "1    98125  47.7210 -122.319           1690        7639  538000  221   \n",
       "2    98028  47.7379 -122.233           2720        8062  180000  299   \n",
       "3    98136  47.5208 -122.393           1360        5000  604000  221   \n",
       "4    98074  47.6168 -122.045           1800        7503  510000  292   \n",
       "\n",
       "   new bath count  \n",
       "0             1.0  \n",
       "1             2.5  \n",
       "2             1.0  \n",
       "3             3.0  \n",
       "4             2.0  "
      ]
     },
     "execution_count": 138,
     "metadata": {},
     "output_type": "execute_result"
    }
   ],
   "source": [
    "cleandata.head()"
   ]
  },
  {
   "cell_type": "code",
   "execution_count": 139,
   "id": "36c6fb88",
   "metadata": {},
   "outputs": [],
   "source": [
    "target = cleandata['price']"
   ]
  },
  {
   "cell_type": "code",
   "execution_count": 183,
   "id": "a61e8b3e",
   "metadata": {
    "scrolled": true
   },
   "outputs": [
    {
     "name": "stdout",
     "output_type": "stream",
     "text": [
      "bedrooms has 11\n",
      "floors has 6\n",
      "waterfront has 2\n",
      "view has 5\n",
      "condition has 5\n",
      "grade has 11\n",
      "sqft_above has 942\n",
      "sqft_basement has 306\n",
      "yr_built has 116\n",
      "zipcode has 70\n",
      "lat has 5033\n",
      "long has 751\n",
      "sqft_living15 has 777\n",
      "sqft_lot15 has 8682\n",
      "day has 372\n",
      "new bath count has 16\n",
      "new reno has 2\n"
     ]
    }
   ],
   "source": [
    "for col in moddata.columns:\n",
    "    print(col, 'has',moddata[col].nunique())"
   ]
  },
  {
   "cell_type": "code",
   "execution_count": 184,
   "id": "542d5ec1",
   "metadata": {},
   "outputs": [],
   "source": [
    "#defining continuous and discrete columns by number of unique values (6, in this case)\n",
    "def separate(moddata,columns):\n",
    "    mdata_dis = []\n",
    "    mdata_cont = []\n",
    "    for col in columns:\n",
    "        if len(moddata[col].value_counts())<6:\n",
    "            print('Col: ',col,' is discrete')\n",
    "            mdata_dis.append(col)\n",
    "        else:\n",
    "            print('Col: ',col,' is continuous')\n",
    "            mdata_cont.append(col)\n",
    "    return mdata_dis, mdata_cont"
   ]
  },
  {
   "cell_type": "code",
   "execution_count": 185,
   "id": "a9faa15b",
   "metadata": {
    "scrolled": true
   },
   "outputs": [
    {
     "name": "stdout",
     "output_type": "stream",
     "text": [
      "Col:  bedrooms  is continuous\n",
      "Col:  floors  is continuous\n",
      "Col:  waterfront  is discrete\n",
      "Col:  view  is discrete\n",
      "Col:  condition  is discrete\n",
      "Col:  grade  is continuous\n",
      "Col:  sqft_above  is continuous\n",
      "Col:  sqft_basement  is continuous\n",
      "Col:  yr_built  is continuous\n",
      "Col:  zipcode  is continuous\n",
      "Col:  lat  is continuous\n",
      "Col:  long  is continuous\n",
      "Col:  sqft_living15  is continuous\n",
      "Col:  sqft_lot15  is continuous\n",
      "Col:  day  is continuous\n",
      "Col:  new bath count  is continuous\n",
      "Col:  new reno  is discrete\n"
     ]
    }
   ],
   "source": [
    "a,b=separate(moddata,moddata.columns)"
   ]
  },
  {
   "cell_type": "code",
   "execution_count": 186,
   "id": "dc5b2ab0",
   "metadata": {},
   "outputs": [
    {
     "data": {
      "text/plain": [
       "['waterfront', 'view', 'condition', 'new reno']"
      ]
     },
     "execution_count": 186,
     "metadata": {},
     "output_type": "execute_result"
    }
   ],
   "source": [
    "#discrete values\n",
    "a"
   ]
  },
  {
   "cell_type": "code",
   "execution_count": 187,
   "id": "2041dbfd",
   "metadata": {},
   "outputs": [
    {
     "data": {
      "text/plain": [
       "(21596, 17)"
      ]
     },
     "execution_count": 187,
     "metadata": {},
     "output_type": "execute_result"
    }
   ],
   "source": [
    "moddata.shape"
   ]
  },
  {
   "cell_type": "code",
   "execution_count": 188,
   "id": "0e901b18",
   "metadata": {},
   "outputs": [],
   "source": [
    "mdis=moddata[a]"
   ]
  },
  {
   "cell_type": "code",
   "execution_count": 189,
   "id": "5ae3090f",
   "metadata": {},
   "outputs": [
    {
     "data": {
      "text/plain": [
       "Index(['waterfront', 'view', 'condition', 'new reno'], dtype='object')"
      ]
     },
     "execution_count": 189,
     "metadata": {},
     "output_type": "execute_result"
    }
   ],
   "source": [
    "mdis.columns"
   ]
  },
  {
   "cell_type": "code",
   "execution_count": 190,
   "id": "640564dd",
   "metadata": {
    "scrolled": true
   },
   "outputs": [
    {
     "data": {
      "text/html": [
       "<div>\n",
       "<style scoped>\n",
       "    .dataframe tbody tr th:only-of-type {\n",
       "        vertical-align: middle;\n",
       "    }\n",
       "\n",
       "    .dataframe tbody tr th {\n",
       "        vertical-align: top;\n",
       "    }\n",
       "\n",
       "    .dataframe thead th {\n",
       "        text-align: right;\n",
       "    }\n",
       "</style>\n",
       "<table border=\"1\" class=\"dataframe\">\n",
       "  <thead>\n",
       "    <tr style=\"text-align: right;\">\n",
       "      <th></th>\n",
       "      <th>bedrooms</th>\n",
       "      <th>floors</th>\n",
       "      <th>grade</th>\n",
       "      <th>sqft_above</th>\n",
       "      <th>sqft_basement</th>\n",
       "      <th>yr_built</th>\n",
       "      <th>zipcode</th>\n",
       "      <th>lat</th>\n",
       "      <th>long</th>\n",
       "      <th>sqft_living15</th>\n",
       "      <th>sqft_lot15</th>\n",
       "      <th>day</th>\n",
       "      <th>new bath count</th>\n",
       "    </tr>\n",
       "  </thead>\n",
       "  <tbody>\n",
       "    <tr>\n",
       "      <th>0</th>\n",
       "      <td>3</td>\n",
       "      <td>1.0</td>\n",
       "      <td>7</td>\n",
       "      <td>1180</td>\n",
       "      <td>0</td>\n",
       "      <td>1955</td>\n",
       "      <td>98178</td>\n",
       "      <td>47.5112</td>\n",
       "      <td>-122.257</td>\n",
       "      <td>1340</td>\n",
       "      <td>5650</td>\n",
       "      <td>164</td>\n",
       "      <td>1.0</td>\n",
       "    </tr>\n",
       "    <tr>\n",
       "      <th>1</th>\n",
       "      <td>3</td>\n",
       "      <td>2.0</td>\n",
       "      <td>7</td>\n",
       "      <td>2170</td>\n",
       "      <td>400</td>\n",
       "      <td>1951</td>\n",
       "      <td>98125</td>\n",
       "      <td>47.7210</td>\n",
       "      <td>-122.319</td>\n",
       "      <td>1690</td>\n",
       "      <td>7639</td>\n",
       "      <td>221</td>\n",
       "      <td>2.5</td>\n",
       "    </tr>\n",
       "    <tr>\n",
       "      <th>2</th>\n",
       "      <td>2</td>\n",
       "      <td>1.0</td>\n",
       "      <td>6</td>\n",
       "      <td>770</td>\n",
       "      <td>0</td>\n",
       "      <td>1933</td>\n",
       "      <td>98028</td>\n",
       "      <td>47.7379</td>\n",
       "      <td>-122.233</td>\n",
       "      <td>2720</td>\n",
       "      <td>8062</td>\n",
       "      <td>299</td>\n",
       "      <td>1.0</td>\n",
       "    </tr>\n",
       "    <tr>\n",
       "      <th>3</th>\n",
       "      <td>4</td>\n",
       "      <td>1.0</td>\n",
       "      <td>7</td>\n",
       "      <td>1050</td>\n",
       "      <td>910</td>\n",
       "      <td>1965</td>\n",
       "      <td>98136</td>\n",
       "      <td>47.5208</td>\n",
       "      <td>-122.393</td>\n",
       "      <td>1360</td>\n",
       "      <td>5000</td>\n",
       "      <td>221</td>\n",
       "      <td>3.0</td>\n",
       "    </tr>\n",
       "    <tr>\n",
       "      <th>4</th>\n",
       "      <td>3</td>\n",
       "      <td>1.0</td>\n",
       "      <td>8</td>\n",
       "      <td>1680</td>\n",
       "      <td>0</td>\n",
       "      <td>1987</td>\n",
       "      <td>98074</td>\n",
       "      <td>47.6168</td>\n",
       "      <td>-122.045</td>\n",
       "      <td>1800</td>\n",
       "      <td>7503</td>\n",
       "      <td>292</td>\n",
       "      <td>2.0</td>\n",
       "    </tr>\n",
       "    <tr>\n",
       "      <th>...</th>\n",
       "      <td>...</td>\n",
       "      <td>...</td>\n",
       "      <td>...</td>\n",
       "      <td>...</td>\n",
       "      <td>...</td>\n",
       "      <td>...</td>\n",
       "      <td>...</td>\n",
       "      <td>...</td>\n",
       "      <td>...</td>\n",
       "      <td>...</td>\n",
       "      <td>...</td>\n",
       "      <td>...</td>\n",
       "      <td>...</td>\n",
       "    </tr>\n",
       "    <tr>\n",
       "      <th>21592</th>\n",
       "      <td>3</td>\n",
       "      <td>3.0</td>\n",
       "      <td>8</td>\n",
       "      <td>1530</td>\n",
       "      <td>0</td>\n",
       "      <td>2009</td>\n",
       "      <td>98103</td>\n",
       "      <td>47.6993</td>\n",
       "      <td>-122.346</td>\n",
       "      <td>1530</td>\n",
       "      <td>1509</td>\n",
       "      <td>19</td>\n",
       "      <td>2.5</td>\n",
       "    </tr>\n",
       "    <tr>\n",
       "      <th>21593</th>\n",
       "      <td>4</td>\n",
       "      <td>2.0</td>\n",
       "      <td>8</td>\n",
       "      <td>2310</td>\n",
       "      <td>0</td>\n",
       "      <td>2014</td>\n",
       "      <td>98146</td>\n",
       "      <td>47.5107</td>\n",
       "      <td>-122.362</td>\n",
       "      <td>1830</td>\n",
       "      <td>7200</td>\n",
       "      <td>297</td>\n",
       "      <td>2.5</td>\n",
       "    </tr>\n",
       "    <tr>\n",
       "      <th>21594</th>\n",
       "      <td>2</td>\n",
       "      <td>2.0</td>\n",
       "      <td>7</td>\n",
       "      <td>1020</td>\n",
       "      <td>0</td>\n",
       "      <td>2009</td>\n",
       "      <td>98144</td>\n",
       "      <td>47.5944</td>\n",
       "      <td>-122.299</td>\n",
       "      <td>1020</td>\n",
       "      <td>2007</td>\n",
       "      <td>52</td>\n",
       "      <td>1.0</td>\n",
       "    </tr>\n",
       "    <tr>\n",
       "      <th>21595</th>\n",
       "      <td>3</td>\n",
       "      <td>2.0</td>\n",
       "      <td>8</td>\n",
       "      <td>1600</td>\n",
       "      <td>0</td>\n",
       "      <td>2004</td>\n",
       "      <td>98027</td>\n",
       "      <td>47.5345</td>\n",
       "      <td>-122.069</td>\n",
       "      <td>1410</td>\n",
       "      <td>1287</td>\n",
       "      <td>259</td>\n",
       "      <td>2.5</td>\n",
       "    </tr>\n",
       "    <tr>\n",
       "      <th>21596</th>\n",
       "      <td>2</td>\n",
       "      <td>2.0</td>\n",
       "      <td>7</td>\n",
       "      <td>1020</td>\n",
       "      <td>0</td>\n",
       "      <td>2008</td>\n",
       "      <td>98144</td>\n",
       "      <td>47.5941</td>\n",
       "      <td>-122.299</td>\n",
       "      <td>1020</td>\n",
       "      <td>1357</td>\n",
       "      <td>166</td>\n",
       "      <td>1.0</td>\n",
       "    </tr>\n",
       "  </tbody>\n",
       "</table>\n",
       "<p>21596 rows × 13 columns</p>\n",
       "</div>"
      ],
      "text/plain": [
       "       bedrooms  floors  grade  sqft_above  sqft_basement  yr_built  zipcode  \\\n",
       "0             3     1.0      7        1180              0      1955    98178   \n",
       "1             3     2.0      7        2170            400      1951    98125   \n",
       "2             2     1.0      6         770              0      1933    98028   \n",
       "3             4     1.0      7        1050            910      1965    98136   \n",
       "4             3     1.0      8        1680              0      1987    98074   \n",
       "...         ...     ...    ...         ...            ...       ...      ...   \n",
       "21592         3     3.0      8        1530              0      2009    98103   \n",
       "21593         4     2.0      8        2310              0      2014    98146   \n",
       "21594         2     2.0      7        1020              0      2009    98144   \n",
       "21595         3     2.0      8        1600              0      2004    98027   \n",
       "21596         2     2.0      7        1020              0      2008    98144   \n",
       "\n",
       "           lat     long  sqft_living15  sqft_lot15  day  new bath count  \n",
       "0      47.5112 -122.257           1340        5650  164             1.0  \n",
       "1      47.7210 -122.319           1690        7639  221             2.5  \n",
       "2      47.7379 -122.233           2720        8062  299             1.0  \n",
       "3      47.5208 -122.393           1360        5000  221             3.0  \n",
       "4      47.6168 -122.045           1800        7503  292             2.0  \n",
       "...        ...      ...            ...         ...  ...             ...  \n",
       "21592  47.6993 -122.346           1530        1509   19             2.5  \n",
       "21593  47.5107 -122.362           1830        7200  297             2.5  \n",
       "21594  47.5944 -122.299           1020        2007   52             1.0  \n",
       "21595  47.5345 -122.069           1410        1287  259             2.5  \n",
       "21596  47.5941 -122.299           1020        1357  166             1.0  \n",
       "\n",
       "[21596 rows x 13 columns]"
      ]
     },
     "execution_count": 190,
     "metadata": {},
     "output_type": "execute_result"
    }
   ],
   "source": [
    "# continuous values\n",
    "pd.reset_option('display.max_rows')\n",
    "mcon=moddata[b]\n",
    "mcon"
   ]
  },
  {
   "cell_type": "code",
   "execution_count": 191,
   "id": "8c9534a2",
   "metadata": {},
   "outputs": [
    {
     "data": {
      "image/png": "[encoded data removed]",
      "text/plain": [
       "<Figure size 432x288 with 2 Axes>"
      ]
     },
     "metadata": {
      "needs_background": "light"
     },
     "output_type": "display_data"
    }
   ],
   "source": [
    "#checking correlation between continuous columns to see if there are any highly related columns that can be dropped (there are not)\n",
    "cmat = mcon.corr()\n",
    "sns.heatmap(cmat,annot=True)\n",
    "plt.show()"
   ]
  },
  {
   "cell_type": "markdown",
   "id": "25010fd6",
   "metadata": {},
   "source": [
    "# 4. Executing Linear Regression Model"
   ]
  },
  {
   "cell_type": "code",
   "execution_count": 192,
   "id": "eb7fc8cc",
   "metadata": {},
   "outputs": [
    {
     "name": "stdout",
     "output_type": "stream",
     "text": [
      "(21596, 13)\n"
     ]
    }
   ],
   "source": [
    "from sklearn.preprocessing import Normalizer\n",
    "transformer = Normalizer().fit(mcon)\n",
    "x_normalized = transformer.transform(mcon)\n",
    "print(x_normalized.shape)"
   ]
  },
  {
   "cell_type": "code",
   "execution_count": 193,
   "id": "0142c46c",
   "metadata": {},
   "outputs": [],
   "source": [
    "from sklearn.preprocessing import OneHotEncoder\n",
    "encoder = OneHotEncoder(handle_unknown='error').fit(mdis)\n",
    "encoded = encoder.transform(mdis).toarray()"
   ]
  },
  {
   "cell_type": "code",
   "execution_count": 194,
   "id": "3646a8c2",
   "metadata": {},
   "outputs": [],
   "source": [
    "encodeddf = pd.DataFrame(encoded)"
   ]
  },
  {
   "cell_type": "code",
   "execution_count": 195,
   "id": "451e399a",
   "metadata": {},
   "outputs": [],
   "source": [
    "X = np.concatenate((x_normalized,encodeddf),axis=1)"
   ]
  },
  {
   "cell_type": "code",
   "execution_count": 196,
   "id": "b93a1442",
   "metadata": {},
   "outputs": [],
   "source": [
    "from sklearn.model_selection import train_test_split\n",
    "x_train,x_test,y_train,y_test = train_test_split(X,target,test_size=0.2,random_state=10000)"
   ]
  },
  {
   "cell_type": "code",
   "execution_count": 197,
   "id": "37686939",
   "metadata": {},
   "outputs": [
    {
     "data": {
      "text/plain": [
       "0.7045903101936455"
      ]
     },
     "execution_count": 197,
     "metadata": {},
     "output_type": "execute_result"
    }
   ],
   "source": [
    "from sklearn import linear_model\n",
    "from sklearn.metrics import mean_squared_error, r2_score\n",
    "lm = linear_model.LinearRegression()\n",
    "model = lm.fit(x_train,y_train)\n",
    "predictions  = lm.predict(x_test)\n",
    "r2_score(y_test, predictions)"
   ]
  },
  {
   "cell_type": "markdown",
   "id": "896eb466",
   "metadata": {},
   "source": [
    "### Using a Linear Regression model, we have 70.46% accuracy"
   ]
  },
  {
   "cell_type": "code",
   "execution_count": 85,
   "id": "bd9a2647",
   "metadata": {},
   "outputs": [
    {
     "data": {
      "text/plain": [
       "<matplotlib.collections.PathCollection at 0x14078eb9e20>"
      ]
     },
     "execution_count": 85,
     "metadata": {},
     "output_type": "execute_result"
    },
    {
     "data": {
      "image/png": "[encoded data removed]",
      "text/plain": [
       "<Figure size 432x288 with 1 Axes>"
      ]
     },
     "metadata": {
      "needs_background": "light"
     },
     "output_type": "display_data"
    }
   ],
   "source": [
    "plt.scatter(x=y_test,y=predictions)"
   ]
  },
  {
   "cell_type": "markdown",
   "id": "8d50e953",
   "metadata": {},
   "source": [
    "# KNeighbors Regressor"
   ]
  },
  {
   "cell_type": "code",
   "execution_count": 68,
   "id": "ef3d8936",
   "metadata": {},
   "outputs": [],
   "source": [
    "from sklearn.neighbors import KNeighborsRegressor"
   ]
  },
  {
   "cell_type": "code",
   "execution_count": 69,
   "id": "75e189a0",
   "metadata": {},
   "outputs": [
    {
     "data": {
      "text/plain": [
       "0.5388044581716877"
      ]
     },
     "execution_count": 69,
     "metadata": {},
     "output_type": "execute_result"
    }
   ],
   "source": [
    "model = KNeighborsRegressor(n_neighbors=4)\n",
    "model.fit(x_train,y_train)\n",
    "predictions  = model.predict(x_test)\n",
    "score = model.score(x_test,y_test)\n",
    "lm = linear_model.LinearRegression()\n",
    "model1 = lm.fit(x_train,y_train)\n",
    "r2_score(y_test, predictions)"
   ]
  },
  {
   "cell_type": "markdown",
   "id": "2806d96a",
   "metadata": {},
   "source": [
    "### Using a KNeighbors Regressor model, we have 53.88% accuracy"
   ]
  },
  {
   "cell_type": "markdown",
   "id": "9a48bdc8",
   "metadata": {},
   "source": [
    "# June 2022 Addition: \n",
    "# Circling Back With Box Plots For Attempts at Higher Accuracy"
   ]
  },
  {
   "cell_type": "markdown",
   "id": "a6501384",
   "metadata": {},
   "source": [
    "## Personal Reminder: look through notes for how to bookmark progress to not have to reexecute everything (Google 'seaborn.barplot')"
   ]
  },
  {
   "cell_type": "code",
   "execution_count": 71,
   "id": "f9b14759",
   "metadata": {},
   "outputs": [],
   "source": [
    "pd.set_option('display.max_rows', None)"
   ]
  },
  {
   "cell_type": "code",
   "execution_count": 155,
   "id": "259bcc7c",
   "metadata": {
    "scrolled": false
   },
   "outputs": [
    {
     "name": "stdout",
     "output_type": "stream",
     "text": [
      "For column  bedrooms\n",
      "the Upper Limit is: 6.0\n",
      "the Lower Limit is: 1.0\n"
     ]
    },
    {
     "data": {
      "image/png": "[encoded data removed]",
      "text/plain": [
       "<Figure size 432x288 with 1 Axes>"
      ]
     },
     "metadata": {
      "needs_background": "light"
     },
     "output_type": "display_data"
    },
    {
     "name": "stdout",
     "output_type": "stream",
     "text": [
      "For column  floors\n",
      "the Upper Limit is: 4.0\n",
      "the Lower Limit is: -1.0\n"
     ]
    },
    {
     "data": {
      "image/png": "[encoded data removed]",
      "text/plain": [
       "<Figure size 432x288 with 1 Axes>"
      ]
     },
     "metadata": {
      "needs_background": "light"
     },
     "output_type": "display_data"
    },
    {
     "name": "stdout",
     "output_type": "stream",
     "text": [
      "For column  grade\n",
      "the Upper Limit is: 10.0\n",
      "the Lower Limit is: 5.0\n"
     ]
    },
    {
     "data": {
      "image/png": "[encoded data removed]",
      "text/plain": [
       "<Figure size 432x288 with 1 Axes>"
      ]
     },
     "metadata": {
      "needs_background": "light"
     },
     "output_type": "display_data"
    },
    {
     "name": "stdout",
     "output_type": "stream",
     "text": [
      "For column  sqft_above\n",
      "the Upper Limit is: 4250.0\n",
      "the Lower Limit is: -850.0\n"
     ]
    },
    {
     "data": {
      "image/png": "[encoded data removed]",
      "text/plain": [
       "<Figure size 432x288 with 1 Axes>"
      ]
     },
     "metadata": {
      "needs_background": "light"
     },
     "output_type": "display_data"
    },
    {
     "name": "stdout",
     "output_type": "stream",
     "text": [
      "For column  sqft_basement\n",
      "the Upper Limit is: 1680.0\n",
      "the Lower Limit is: -1120.0\n"
     ]
    },
    {
     "data": {
      "image/png": "[encoded data removed]",
      "text/plain": [
       "<Figure size 432x288 with 1 Axes>"
      ]
     },
     "metadata": {
      "needs_background": "light"
     },
     "output_type": "display_data"
    },
    {
     "name": "stdout",
     "output_type": "stream",
     "text": [
      "For column  yr_built\n",
      "the Upper Limit is: 2089.0\n",
      "the Lower Limit is: 1859.0\n"
     ]
    },
    {
     "data": {
      "image/png": "[encoded data removed]",
      "text/plain": [
       "<Figure size 432x288 with 1 Axes>"
      ]
     },
     "metadata": {
      "needs_background": "light"
     },
     "output_type": "display_data"
    },
    {
     "name": "stdout",
     "output_type": "stream",
     "text": [
      "For column  zipcode\n",
      "the Upper Limit is: 98288.0\n",
      "the Lower Limit is: 97863.0\n"
     ]
    },
    {
     "data": {
      "image/png": "[encoded data removed]",
      "text/plain": [
       "<Figure size 432x288 with 1 Axes>"
      ]
     },
     "metadata": {
      "needs_background": "light"
     },
     "output_type": "display_data"
    },
    {
     "name": "stdout",
     "output_type": "stream",
     "text": [
      "For column  lat\n",
      "the Upper Limit is: 48.09179999999999\n",
      "the Lower Limit is: 47.057300000000005\n"
     ]
    },
    {
     "data": {
      "image/png": "[encoded data removed]",
      "text/plain": [
       "<Figure size 432x288 with 1 Axes>"
      ]
     },
     "metadata": {
      "needs_background": "light"
     },
     "output_type": "display_data"
    },
    {
     "name": "stdout",
     "output_type": "stream",
     "text": [
      "For column  long\n",
      "the Upper Limit is: -121.719\n",
      "the Lower Limit is: -122.73400000000001\n"
     ]
    },
    {
     "data": {
      "image/png": "[encoded data removed]",
      "text/plain": [
       "<Figure size 432x288 with 1 Axes>"
      ]
     },
     "metadata": {
      "needs_background": "light"
     },
     "output_type": "display_data"
    },
    {
     "name": "stdout",
     "output_type": "stream",
     "text": [
      "For column  sqft_living15\n",
      "the Upper Limit is: 4100.0\n",
      "the Lower Limit is: -250.0\n"
     ]
    },
    {
     "data": {
      "image/png": "[encoded data removed]",
      "text/plain": [
       "<Figure size 432x288 with 1 Axes>"
      ]
     },
     "metadata": {
      "needs_background": "light"
     },
     "output_type": "display_data"
    },
    {
     "name": "stdout",
     "output_type": "stream",
     "text": [
      "For column  sqft_lot15\n",
      "the Upper Limit is: 20049.0\n",
      "the Lower Limit is: -4866.0\n"
     ]
    },
    {
     "data": {
      "image/png": "[encoded data removed]",
      "text/plain": [
       "<Figure size 432x288 with 1 Axes>"
      ]
     },
     "metadata": {
      "needs_background": "light"
     },
     "output_type": "display_data"
    },
    {
     "name": "stdout",
     "output_type": "stream",
     "text": [
      "For column  day\n",
      "the Upper Limit is: 711.0\n",
      "the Lower Limit is: -339.0\n"
     ]
    },
    {
     "data": {
      "image/png": "[encoded data removed]",
      "text/plain": [
       "<Figure size 432x288 with 1 Axes>"
      ]
     },
     "metadata": {
      "needs_background": "light"
     },
     "output_type": "display_data"
    },
    {
     "name": "stdout",
     "output_type": "stream",
     "text": [
      "For column  new bath count\n",
      "the Upper Limit is: 3.5\n",
      "the Lower Limit is: 1.0\n"
     ]
    },
    {
     "data": {
      "image/png": "[encoded data removed]",
      "text/plain": [
       "<Figure size 432x288 with 1 Axes>"
      ]
     },
     "metadata": {
      "needs_background": "light"
     },
     "output_type": "display_data"
    }
   ],
   "source": [
    "#Applying Boxplots to each significant column\n",
    "# looking at general stats of each column\n",
    "for col in mcon.columns:\n",
    "    print('For column ',col)\n",
    "    iqr = np.percentile(mcon[col],75) - np.percentile(mcon[col],25)\n",
    "    upper_limit = np.percentile(mcon[col],75) + 2*iqr\n",
    "    print('the Upper Limit is:', upper_limit)\n",
    "    lower_limit = np.percentile(mcon[col],25) - 2*iqr\n",
    "    print('the Lower Limit is:', lower_limit)\n",
    "    sns.boxplot(y=mcon[col])\n",
    "    plt.show()"
   ]
  },
  {
   "cell_type": "code",
   "execution_count": 198,
   "id": "801e289a",
   "metadata": {},
   "outputs": [
    {
     "name": "stdout",
     "output_type": "stream",
     "text": [
      "1      196\n",
      "2     2760\n",
      "3     9824\n",
      "4     6882\n",
      "5     1601\n",
      "6      272\n",
      "7       38\n",
      "8       13\n",
      "9        6\n",
      "10       3\n",
      "11       1\n",
      "Name: bedrooms, dtype: int64\n",
      "1.0    10672\n",
      "1.5     1910\n",
      "2.0     8235\n",
      "2.5      161\n",
      "3.0      611\n",
      "3.5        7\n",
      "Name: floors, dtype: int64\n",
      "3        1\n",
      "4       27\n",
      "5      242\n",
      "6     2038\n",
      "7     8973\n",
      "8     6065\n",
      "9     2615\n",
      "10    1134\n",
      "11     399\n",
      "12      89\n",
      "13      13\n",
      "Name: grade, dtype: int64\n",
      "370     1\n",
      "380     1\n",
      "390     1\n",
      "410     1\n",
      "420     2\n",
      "       ..\n",
      "7880    1\n",
      "8020    1\n",
      "8570    1\n",
      "8860    1\n",
      "9410    1\n",
      "Name: sqft_above, Length: 942, dtype: int64\n",
      "0       13110\n",
      "10          2\n",
      "20          1\n",
      "40          4\n",
      "50         11\n",
      "        ...  \n",
      "3260        1\n",
      "3480        1\n",
      "3500        1\n",
      "4130        1\n",
      "4820        1\n",
      "Name: sqft_basement, Length: 306, dtype: int64\n",
      "1900     87\n",
      "1901     29\n",
      "1902     27\n",
      "1903     46\n",
      "1904     45\n",
      "       ... \n",
      "2011    130\n",
      "2012    170\n",
      "2013    201\n",
      "2014    559\n",
      "2015     38\n",
      "Name: yr_built, Length: 116, dtype: int64\n",
      "98001    361\n",
      "98002    199\n",
      "98003    280\n",
      "98004    317\n",
      "98005    168\n",
      "        ... \n",
      "98177    255\n",
      "98178    262\n",
      "98188    136\n",
      "98198    280\n",
      "98199    317\n",
      "Name: zipcode, Length: 70, dtype: int64\n",
      "47.1559    1\n",
      "47.1593    1\n",
      "47.1622    1\n",
      "47.1647    1\n",
      "47.1764    1\n",
      "          ..\n",
      "47.7771    2\n",
      "47.7772    3\n",
      "47.7774    1\n",
      "47.7775    3\n",
      "47.7776    3\n",
      "Name: lat, Length: 5033, dtype: int64\n",
      "-122.519    1\n",
      "-122.515    1\n",
      "-122.514    1\n",
      "-122.512    1\n",
      "-122.511    2\n",
      "           ..\n",
      "-121.325    1\n",
      "-121.321    1\n",
      "-121.319    1\n",
      "-121.316    1\n",
      "-121.315    2\n",
      "Name: long, Length: 751, dtype: int64\n",
      "399     1\n",
      "460     2\n",
      "620     2\n",
      "670     1\n",
      "690     2\n",
      "       ..\n",
      "5600    1\n",
      "5610    1\n",
      "5790    6\n",
      "6110    1\n",
      "6210    1\n",
      "Name: sqft_living15, Length: 777, dtype: int64\n",
      "651       1\n",
      "659       1\n",
      "660       1\n",
      "748       2\n",
      "750       4\n",
      "         ..\n",
      "434728    1\n",
      "438213    1\n",
      "560617    1\n",
      "858132    1\n",
      "871200    1\n",
      "Name: sqft_lot15, Length: 8682, dtype: int64\n",
      "0      67\n",
      "1       4\n",
      "2       5\n",
      "3      84\n",
      "4      83\n",
      "       ..\n",
      "376    31\n",
      "377    11\n",
      "378     1\n",
      "387     1\n",
      "390     1\n",
      "Name: day, Length: 372, dtype: int64\n",
      "0.5       4\n",
      "1.0    3922\n",
      "1.5    1454\n",
      "2.0    4977\n",
      "2.5    7424\n",
      "3.0    1938\n",
      "3.5    1320\n",
      "4.0     291\n",
      "4.5     179\n",
      "5.0      44\n",
      "5.5      23\n",
      "6.0      10\n",
      "6.5       4\n",
      "7.0       2\n",
      "7.5       1\n",
      "8.0       3\n",
      "Name: new bath count, dtype: int64\n"
     ]
    }
   ],
   "source": [
    "for col in mcon:\n",
    "    print(mcon[col].value_counts().sort_index())"
   ]
  },
  {
   "cell_type": "code",
   "execution_count": 199,
   "id": "673d8734",
   "metadata": {},
   "outputs": [
    {
     "data": {
      "text/plain": [
       "Index(['bedrooms', 'floors', 'grade', 'sqft_above', 'sqft_basement',\n",
       "       'yr_built', 'zipcode', 'lat', 'long', 'sqft_living15', 'sqft_lot15',\n",
       "       'day', 'new bath count'],\n",
       "      dtype='object')"
      ]
     },
     "execution_count": 199,
     "metadata": {},
     "output_type": "execute_result"
    }
   ],
   "source": [
    "mcon.columns"
   ]
  },
  {
   "cell_type": "code",
   "execution_count": 159,
   "id": "7299aa18",
   "metadata": {},
   "outputs": [],
   "source": [
    "mcon=mcon.drop(['lat','long','zipcode'],axis=1)"
   ]
  },
  {
   "cell_type": "code",
   "execution_count": 160,
   "id": "5c350e74",
   "metadata": {},
   "outputs": [
    {
     "data": {
      "text/plain": [
       "Index(['bedrooms', 'floors', 'grade', 'sqft_above', 'sqft_basement',\n",
       "       'yr_built', 'sqft_living15', 'sqft_lot15', 'day', 'new bath count'],\n",
       "      dtype='object')"
      ]
     },
     "execution_count": 160,
     "metadata": {},
     "output_type": "execute_result"
    }
   ],
   "source": [
    "mcon.columns"
   ]
  },
  {
   "cell_type": "code",
   "execution_count": 200,
   "id": "3ecc89b1",
   "metadata": {},
   "outputs": [
    {
     "name": "stdout",
     "output_type": "stream",
     "text": [
      "For  bedrooms  the Upper Limit is: 6.0\n",
      "the Lower Limit is: 1.0\n",
      "For  floors  the Upper Limit is: 4.0\n",
      "the Lower Limit is: -1.0\n",
      "For  grade  the Upper Limit is: 10.0\n",
      "the Lower Limit is: 5.0\n",
      "For  sqft_above  the Upper Limit is: 4250.0\n",
      "the Lower Limit is: -850.0\n",
      "For  sqft_basement  the Upper Limit is: 1680.0\n",
      "the Lower Limit is: -1120.0\n",
      "For  yr_built  the Upper Limit is: 2089.0\n",
      "the Lower Limit is: 1859.0\n",
      "For  zipcode  the Upper Limit is: 98288.0\n",
      "the Lower Limit is: 97863.0\n",
      "For  lat  the Upper Limit is: 48.09179999999999\n",
      "the Lower Limit is: 47.057300000000005\n",
      "For  long  the Upper Limit is: -121.719\n",
      "the Lower Limit is: -122.73400000000001\n",
      "For  sqft_living15  the Upper Limit is: 4100.0\n",
      "the Lower Limit is: -250.0\n",
      "For  sqft_lot15  the Upper Limit is: 20049.0\n",
      "the Lower Limit is: -4866.0\n",
      "For  day  the Upper Limit is: 711.0\n",
      "the Lower Limit is: -339.0\n",
      "For  new bath count  the Upper Limit is: 3.5\n",
      "the Lower Limit is: 1.0\n"
     ]
    },
    {
     "name": "stderr",
     "output_type": "stream",
     "text": [
      "C:\\Users\\Owner\\AppData\\Local\\Temp/ipykernel_17480/1159175345.py:7: UserWarning: Boolean Series key will be reindexed to match DataFrame index.\n",
      "  nmoddata=nmoddata[mcon[col]<upper_limit]\n"
     ]
    },
    {
     "data": {
      "text/plain": [
       "(17314, 18)"
      ]
     },
     "execution_count": 200,
     "metadata": {},
     "output_type": "execute_result"
    }
   ],
   "source": [
    "for col in mcon.columns:\n",
    "    iqr = np.percentile(mcon[col],75) - np.percentile(mcon[col],25)\n",
    "    upper_limit = np.percentile(mcon[col],75) + 2*iqr\n",
    "    print('For ',col,' the Upper Limit is:', upper_limit)\n",
    "    lower_limit = np.percentile(mcon[col],25) - 2*iqr\n",
    "    print('the Lower Limit is:', lower_limit)\n",
    "    nmoddata=nmoddata[mcon[col]<upper_limit]\n",
    "nmoddata.shape"
   ]
  },
  {
   "cell_type": "code",
   "execution_count": 235,
   "id": "8bfcf979",
   "metadata": {},
   "outputs": [],
   "source": [
    "#defining continuous and discrete columns by number of unique values (6, in this case)\n",
    "def separate(nmoddata,columns):\n",
    "    nmdata_dis = []\n",
    "    nmdata_cont = []\n",
    "    for col in columns:\n",
    "        if len(nmoddata[col].value_counts())<6:\n",
    "            print('Col: ',col,' is discrete')\n",
    "            nmdata_dis.append(col)\n",
    "        else:\n",
    "            print('Col: ',col,' is continuous')\n",
    "            nmdata_cont.append(col)\n",
    "    return nmdata_dis, nmdata_cont"
   ]
  },
  {
   "cell_type": "code",
   "execution_count": 236,
   "id": "23591d1f",
   "metadata": {
    "scrolled": true
   },
   "outputs": [
    {
     "name": "stdout",
     "output_type": "stream",
     "text": [
      "Col:  bedrooms  is discrete\n",
      "Col:  floors  is continuous\n",
      "Col:  waterfront  is discrete\n",
      "Col:  view  is discrete\n",
      "Col:  condition  is discrete\n",
      "Col:  grade  is continuous\n",
      "Col:  sqft_above  is continuous\n",
      "Col:  sqft_basement  is continuous\n",
      "Col:  yr_built  is continuous\n",
      "Col:  zipcode  is continuous\n",
      "Col:  lat  is continuous\n",
      "Col:  long  is continuous\n",
      "Col:  sqft_living15  is continuous\n",
      "Col:  sqft_lot15  is continuous\n",
      "Col:  price  is continuous\n",
      "Col:  day  is continuous\n",
      "Col:  new bath count  is continuous\n",
      "Col:  new reno  is discrete\n"
     ]
    }
   ],
   "source": [
    "a,b=separate(nmoddata,nmoddata.columns)"
   ]
  },
  {
   "cell_type": "code",
   "execution_count": 237,
   "id": "f63373c5",
   "metadata": {},
   "outputs": [
    {
     "data": {
      "text/plain": [
       "['bedrooms', 'waterfront', 'view', 'condition', 'new reno']"
      ]
     },
     "execution_count": 237,
     "metadata": {},
     "output_type": "execute_result"
    }
   ],
   "source": [
    "#discrete values\n",
    "a"
   ]
  },
  {
   "cell_type": "code",
   "execution_count": 238,
   "id": "26a42062",
   "metadata": {},
   "outputs": [
    {
     "data": {
      "text/plain": [
       "(17314, 18)"
      ]
     },
     "execution_count": 238,
     "metadata": {},
     "output_type": "execute_result"
    }
   ],
   "source": [
    "nmoddata.shape"
   ]
  },
  {
   "cell_type": "code",
   "execution_count": 239,
   "id": "9fd01c5a",
   "metadata": {},
   "outputs": [],
   "source": [
    "nmdis=nmoddata[a]"
   ]
  },
  {
   "cell_type": "code",
   "execution_count": 240,
   "id": "268c77a3",
   "metadata": {},
   "outputs": [
    {
     "data": {
      "text/plain": [
       "Index(['bedrooms', 'waterfront', 'view', 'condition', 'new reno'], dtype='object')"
      ]
     },
     "execution_count": 240,
     "metadata": {},
     "output_type": "execute_result"
    }
   ],
   "source": [
    "nmdis.columns"
   ]
  },
  {
   "cell_type": "code",
   "execution_count": 241,
   "id": "3aeb0eb6",
   "metadata": {},
   "outputs": [
    {
     "data": {
      "text/plain": [
       "3    8473\n",
       "4    5106\n",
       "2    2586\n",
       "5     976\n",
       "1     173\n",
       "Name: bedrooms, dtype: int64"
      ]
     },
     "execution_count": 241,
     "metadata": {},
     "output_type": "execute_result"
    }
   ],
   "source": [
    "nmdis['bedrooms'].value_counts()"
   ]
  },
  {
   "cell_type": "code",
   "execution_count": 242,
   "id": "da98a265",
   "metadata": {
    "scrolled": true
   },
   "outputs": [
    {
     "data": {
      "text/html": [
       "<div>\n",
       "<style scoped>\n",
       "    .dataframe tbody tr th:only-of-type {\n",
       "        vertical-align: middle;\n",
       "    }\n",
       "\n",
       "    .dataframe tbody tr th {\n",
       "        vertical-align: top;\n",
       "    }\n",
       "\n",
       "    .dataframe thead th {\n",
       "        text-align: right;\n",
       "    }\n",
       "</style>\n",
       "<table border=\"1\" class=\"dataframe\">\n",
       "  <thead>\n",
       "    <tr style=\"text-align: right;\">\n",
       "      <th></th>\n",
       "      <th>floors</th>\n",
       "      <th>grade</th>\n",
       "      <th>sqft_above</th>\n",
       "      <th>sqft_basement</th>\n",
       "      <th>yr_built</th>\n",
       "      <th>zipcode</th>\n",
       "      <th>lat</th>\n",
       "      <th>long</th>\n",
       "      <th>sqft_living15</th>\n",
       "      <th>sqft_lot15</th>\n",
       "      <th>price</th>\n",
       "      <th>day</th>\n",
       "      <th>new bath count</th>\n",
       "    </tr>\n",
       "  </thead>\n",
       "  <tbody>\n",
       "    <tr>\n",
       "      <th>0</th>\n",
       "      <td>1.0</td>\n",
       "      <td>7</td>\n",
       "      <td>1180</td>\n",
       "      <td>0</td>\n",
       "      <td>1955</td>\n",
       "      <td>98178</td>\n",
       "      <td>47.5112</td>\n",
       "      <td>-122.257</td>\n",
       "      <td>1340</td>\n",
       "      <td>5650</td>\n",
       "      <td>221900</td>\n",
       "      <td>164</td>\n",
       "      <td>1.0</td>\n",
       "    </tr>\n",
       "    <tr>\n",
       "      <th>1</th>\n",
       "      <td>2.0</td>\n",
       "      <td>7</td>\n",
       "      <td>2170</td>\n",
       "      <td>400</td>\n",
       "      <td>1951</td>\n",
       "      <td>98125</td>\n",
       "      <td>47.7210</td>\n",
       "      <td>-122.319</td>\n",
       "      <td>1690</td>\n",
       "      <td>7639</td>\n",
       "      <td>538000</td>\n",
       "      <td>221</td>\n",
       "      <td>2.5</td>\n",
       "    </tr>\n",
       "    <tr>\n",
       "      <th>2</th>\n",
       "      <td>1.0</td>\n",
       "      <td>6</td>\n",
       "      <td>770</td>\n",
       "      <td>0</td>\n",
       "      <td>1933</td>\n",
       "      <td>98028</td>\n",
       "      <td>47.7379</td>\n",
       "      <td>-122.233</td>\n",
       "      <td>2720</td>\n",
       "      <td>8062</td>\n",
       "      <td>180000</td>\n",
       "      <td>299</td>\n",
       "      <td>1.0</td>\n",
       "    </tr>\n",
       "    <tr>\n",
       "      <th>3</th>\n",
       "      <td>1.0</td>\n",
       "      <td>7</td>\n",
       "      <td>1050</td>\n",
       "      <td>910</td>\n",
       "      <td>1965</td>\n",
       "      <td>98136</td>\n",
       "      <td>47.5208</td>\n",
       "      <td>-122.393</td>\n",
       "      <td>1360</td>\n",
       "      <td>5000</td>\n",
       "      <td>604000</td>\n",
       "      <td>221</td>\n",
       "      <td>3.0</td>\n",
       "    </tr>\n",
       "    <tr>\n",
       "      <th>4</th>\n",
       "      <td>1.0</td>\n",
       "      <td>8</td>\n",
       "      <td>1680</td>\n",
       "      <td>0</td>\n",
       "      <td>1987</td>\n",
       "      <td>98074</td>\n",
       "      <td>47.6168</td>\n",
       "      <td>-122.045</td>\n",
       "      <td>1800</td>\n",
       "      <td>7503</td>\n",
       "      <td>510000</td>\n",
       "      <td>292</td>\n",
       "      <td>2.0</td>\n",
       "    </tr>\n",
       "    <tr>\n",
       "      <th>...</th>\n",
       "      <td>...</td>\n",
       "      <td>...</td>\n",
       "      <td>...</td>\n",
       "      <td>...</td>\n",
       "      <td>...</td>\n",
       "      <td>...</td>\n",
       "      <td>...</td>\n",
       "      <td>...</td>\n",
       "      <td>...</td>\n",
       "      <td>...</td>\n",
       "      <td>...</td>\n",
       "      <td>...</td>\n",
       "      <td>...</td>\n",
       "    </tr>\n",
       "    <tr>\n",
       "      <th>21592</th>\n",
       "      <td>3.0</td>\n",
       "      <td>8</td>\n",
       "      <td>1530</td>\n",
       "      <td>0</td>\n",
       "      <td>2009</td>\n",
       "      <td>98103</td>\n",
       "      <td>47.6993</td>\n",
       "      <td>-122.346</td>\n",
       "      <td>1530</td>\n",
       "      <td>1509</td>\n",
       "      <td>360000</td>\n",
       "      <td>19</td>\n",
       "      <td>2.5</td>\n",
       "    </tr>\n",
       "    <tr>\n",
       "      <th>21593</th>\n",
       "      <td>2.0</td>\n",
       "      <td>8</td>\n",
       "      <td>2310</td>\n",
       "      <td>0</td>\n",
       "      <td>2014</td>\n",
       "      <td>98146</td>\n",
       "      <td>47.5107</td>\n",
       "      <td>-122.362</td>\n",
       "      <td>1830</td>\n",
       "      <td>7200</td>\n",
       "      <td>400000</td>\n",
       "      <td>297</td>\n",
       "      <td>2.5</td>\n",
       "    </tr>\n",
       "    <tr>\n",
       "      <th>21594</th>\n",
       "      <td>2.0</td>\n",
       "      <td>7</td>\n",
       "      <td>1020</td>\n",
       "      <td>0</td>\n",
       "      <td>2009</td>\n",
       "      <td>98144</td>\n",
       "      <td>47.5944</td>\n",
       "      <td>-122.299</td>\n",
       "      <td>1020</td>\n",
       "      <td>2007</td>\n",
       "      <td>402101</td>\n",
       "      <td>52</td>\n",
       "      <td>1.0</td>\n",
       "    </tr>\n",
       "    <tr>\n",
       "      <th>21595</th>\n",
       "      <td>2.0</td>\n",
       "      <td>8</td>\n",
       "      <td>1600</td>\n",
       "      <td>0</td>\n",
       "      <td>2004</td>\n",
       "      <td>98027</td>\n",
       "      <td>47.5345</td>\n",
       "      <td>-122.069</td>\n",
       "      <td>1410</td>\n",
       "      <td>1287</td>\n",
       "      <td>400000</td>\n",
       "      <td>259</td>\n",
       "      <td>2.5</td>\n",
       "    </tr>\n",
       "    <tr>\n",
       "      <th>21596</th>\n",
       "      <td>2.0</td>\n",
       "      <td>7</td>\n",
       "      <td>1020</td>\n",
       "      <td>0</td>\n",
       "      <td>2008</td>\n",
       "      <td>98144</td>\n",
       "      <td>47.5941</td>\n",
       "      <td>-122.299</td>\n",
       "      <td>1020</td>\n",
       "      <td>1357</td>\n",
       "      <td>325000</td>\n",
       "      <td>166</td>\n",
       "      <td>1.0</td>\n",
       "    </tr>\n",
       "  </tbody>\n",
       "</table>\n",
       "<p>17314 rows × 13 columns</p>\n",
       "</div>"
      ],
      "text/plain": [
       "       floors  grade  sqft_above  sqft_basement  yr_built  zipcode      lat  \\\n",
       "0         1.0      7        1180              0      1955    98178  47.5112   \n",
       "1         2.0      7        2170            400      1951    98125  47.7210   \n",
       "2         1.0      6         770              0      1933    98028  47.7379   \n",
       "3         1.0      7        1050            910      1965    98136  47.5208   \n",
       "4         1.0      8        1680              0      1987    98074  47.6168   \n",
       "...       ...    ...         ...            ...       ...      ...      ...   \n",
       "21592     3.0      8        1530              0      2009    98103  47.6993   \n",
       "21593     2.0      8        2310              0      2014    98146  47.5107   \n",
       "21594     2.0      7        1020              0      2009    98144  47.5944   \n",
       "21595     2.0      8        1600              0      2004    98027  47.5345   \n",
       "21596     2.0      7        1020              0      2008    98144  47.5941   \n",
       "\n",
       "          long  sqft_living15  sqft_lot15   price  day  new bath count  \n",
       "0     -122.257           1340        5650  221900  164             1.0  \n",
       "1     -122.319           1690        7639  538000  221             2.5  \n",
       "2     -122.233           2720        8062  180000  299             1.0  \n",
       "3     -122.393           1360        5000  604000  221             3.0  \n",
       "4     -122.045           1800        7503  510000  292             2.0  \n",
       "...        ...            ...         ...     ...  ...             ...  \n",
       "21592 -122.346           1530        1509  360000   19             2.5  \n",
       "21593 -122.362           1830        7200  400000  297             2.5  \n",
       "21594 -122.299           1020        2007  402101   52             1.0  \n",
       "21595 -122.069           1410        1287  400000  259             2.5  \n",
       "21596 -122.299           1020        1357  325000  166             1.0  \n",
       "\n",
       "[17314 rows x 13 columns]"
      ]
     },
     "execution_count": 242,
     "metadata": {},
     "output_type": "execute_result"
    }
   ],
   "source": [
    "# continuous values\n",
    "pd.reset_option('display.max_rows')\n",
    "nmcon=nmoddata[b]\n",
    "nmcon"
   ]
  },
  {
   "cell_type": "code",
   "execution_count": 243,
   "id": "352bf32c",
   "metadata": {},
   "outputs": [
    {
     "data": {
      "text/plain": [
       "Index(['floors', 'grade', 'sqft_above', 'sqft_basement', 'yr_built', 'zipcode',\n",
       "       'lat', 'long', 'sqft_living15', 'sqft_lot15', 'price', 'day',\n",
       "       'new bath count'],\n",
       "      dtype='object')"
      ]
     },
     "execution_count": 243,
     "metadata": {},
     "output_type": "execute_result"
    }
   ],
   "source": [
    "nmcon.columns"
   ]
  },
  {
   "cell_type": "code",
   "execution_count": 244,
   "id": "5a5e4ee3",
   "metadata": {},
   "outputs": [
    {
     "name": "stdout",
     "output_type": "stream",
     "text": [
      "(17314, 18) Index(['bedrooms', 'floors', 'waterfront', 'view', 'condition', 'grade',\n",
      "       'sqft_above', 'sqft_basement', 'yr_built', 'zipcode', 'lat', 'long',\n",
      "       'sqft_living15', 'sqft_lot15', 'price', 'day', 'new bath count',\n",
      "       'new reno'],\n",
      "      dtype='object')\n"
     ]
    }
   ],
   "source": [
    "print(nmoddata.shape, nmoddata.columns)"
   ]
  },
  {
   "cell_type": "code",
   "execution_count": 245,
   "id": "b3c0f70d",
   "metadata": {},
   "outputs": [],
   "source": [
    "ntarget = nmcon['price']\n",
    "nmcon=nmcon.drop(['price'],axis=1)"
   ]
  },
  {
   "cell_type": "code",
   "execution_count": 247,
   "id": "97dc01f1",
   "metadata": {},
   "outputs": [],
   "source": [
    "nmcon['bedrooms']=nmdis['bedrooms']"
   ]
  },
  {
   "cell_type": "code",
   "execution_count": 248,
   "id": "2c1aef1b",
   "metadata": {},
   "outputs": [
    {
     "data": {
      "text/plain": [
       "Index(['floors', 'grade', 'sqft_above', 'sqft_basement', 'yr_built', 'zipcode',\n",
       "       'lat', 'long', 'sqft_living15', 'sqft_lot15', 'day', 'new bath count',\n",
       "       'bedrooms'],\n",
       "      dtype='object')"
      ]
     },
     "execution_count": 248,
     "metadata": {},
     "output_type": "execute_result"
    }
   ],
   "source": [
    "nmcon.columns"
   ]
  },
  {
   "cell_type": "code",
   "execution_count": 249,
   "id": "a38e10aa",
   "metadata": {},
   "outputs": [],
   "source": [
    "nmdis=nmdis.drop(['bedrooms'],axis=1)"
   ]
  },
  {
   "cell_type": "markdown",
   "id": "5adc26bb",
   "metadata": {},
   "source": [
    "# Applying Trimmed Data to Linear Regression Model"
   ]
  },
  {
   "cell_type": "code",
   "execution_count": 250,
   "id": "66bfc8b0",
   "metadata": {},
   "outputs": [
    {
     "name": "stdout",
     "output_type": "stream",
     "text": [
      "(17314, 13)\n"
     ]
    }
   ],
   "source": [
    "from sklearn.preprocessing import Normalizer\n",
    "transformer = Normalizer().fit(nmcon)\n",
    "x_normalized = transformer.transform(nmcon)\n",
    "print(x_normalized.shape)"
   ]
  },
  {
   "cell_type": "code",
   "execution_count": 251,
   "id": "3cc572ce",
   "metadata": {},
   "outputs": [],
   "source": [
    "from sklearn.preprocessing import OneHotEncoder\n",
    "encoder = OneHotEncoder(handle_unknown='error').fit(nmdis)\n",
    "encoded = encoder.transform(nmdis).toarray()"
   ]
  },
  {
   "cell_type": "code",
   "execution_count": 252,
   "id": "da8249ee",
   "metadata": {},
   "outputs": [],
   "source": [
    "encodeddf = pd.DataFrame(encoded)"
   ]
  },
  {
   "cell_type": "code",
   "execution_count": 253,
   "id": "5e8dac0e",
   "metadata": {},
   "outputs": [],
   "source": [
    "X = np.concatenate((x_normalized,encodeddf),axis=1)"
   ]
  },
  {
   "cell_type": "code",
   "execution_count": 254,
   "id": "c836281c",
   "metadata": {},
   "outputs": [],
   "source": [
    "from sklearn.model_selection import train_test_split\n",
    "x_train,x_test,y_train,y_test = train_test_split(X,ntarget,test_size=0.2,random_state=10000)"
   ]
  },
  {
   "cell_type": "code",
   "execution_count": 255,
   "id": "c167e3fb",
   "metadata": {},
   "outputs": [
    {
     "data": {
      "text/plain": [
       "0.6715309588245945"
      ]
     },
     "execution_count": 255,
     "metadata": {},
     "output_type": "execute_result"
    }
   ],
   "source": [
    "from sklearn import linear_model\n",
    "from sklearn.metrics import mean_squared_error, r2_score\n",
    "lm = linear_model.LinearRegression()\n",
    "model = lm.fit(x_train,y_train)\n",
    "predictions  = lm.predict(x_test)\n",
    "r2_score(y_test, predictions)"
   ]
  },
  {
   "cell_type": "markdown",
   "id": "563cfa48",
   "metadata": {},
   "source": [
    "### Using a Linear Regression model, we have 67.15% accuracy"
   ]
  },
  {
   "cell_type": "code",
   "execution_count": 221,
   "id": "9c196c7f",
   "metadata": {},
   "outputs": [
    {
     "data": {
      "text/plain": [
       "<matplotlib.collections.PathCollection at 0x14079e30e50>"
      ]
     },
     "execution_count": 221,
     "metadata": {},
     "output_type": "execute_result"
    },
    {
     "data": {
      "image/png": "[encoded data removed]",
      "text/plain": [
       "<Figure size 432x288 with 1 Axes>"
      ]
     },
     "metadata": {
      "needs_background": "light"
     },
     "output_type": "display_data"
    }
   ],
   "source": [
    "plt.scatter(x=y_test,y=predictions)"
   ]
  },
  {
   "cell_type": "markdown",
   "id": "e39e1d1e",
   "metadata": {},
   "source": [
    "# With eliminating all outliers past upper limit of columns with continuous values, data skew. Must reduce eliminations for higher accuracy\n",
    "\n",
    "\n",
    "# can also adjust con/dis line a little"
   ]
  },
  {
   "cell_type": "code",
   "execution_count": 257,
   "id": "b031508a",
   "metadata": {},
   "outputs": [
    {
     "data": {
      "text/plain": [
       "Index(['waterfront', 'view', 'condition', 'new reno'], dtype='object')"
      ]
     },
     "execution_count": 257,
     "metadata": {},
     "output_type": "execute_result"
    }
   ],
   "source": [
    "nmdis.columns"
   ]
  },
  {
   "cell_type": "code",
   "execution_count": 258,
   "id": "ec2fb4eb",
   "metadata": {},
   "outputs": [
    {
     "data": {
      "text/plain": [
       "array([1. , 2. , 1.5, 3. , 2.5, 3.5])"
      ]
     },
     "execution_count": 258,
     "metadata": {},
     "output_type": "execute_result"
    }
   ],
   "source": [
    "nmcon['floors'].unique()"
   ]
  },
  {
   "cell_type": "code",
   "execution_count": 260,
   "id": "f98f41f1",
   "metadata": {},
   "outputs": [
    {
     "data": {
      "text/plain": [
       "Index(['floors', 'grade', 'sqft_above', 'sqft_basement', 'yr_built', 'zipcode',\n",
       "       'lat', 'long', 'sqft_living15', 'sqft_lot15', 'day', 'new bath count',\n",
       "       'bedrooms'],\n",
       "      dtype='object')"
      ]
     },
     "execution_count": 260,
     "metadata": {},
     "output_type": "execute_result"
    }
   ],
   "source": [
    "nmcon.columns"
   ]
  },
  {
   "cell_type": "code",
   "execution_count": 261,
   "id": "9bcb8a4b",
   "metadata": {},
   "outputs": [
    {
     "data": {
      "text/plain": [
       "Index(['waterfront', 'view', 'condition', 'new reno'], dtype='object')"
      ]
     },
     "execution_count": 261,
     "metadata": {},
     "output_type": "execute_result"
    }
   ],
   "source": [
    "nmdis.columns"
   ]
  },
  {
   "cell_type": "code",
   "execution_count": 262,
   "id": "bfeaf990",
   "metadata": {},
   "outputs": [
    {
     "name": "stdout",
     "output_type": "stream",
     "text": [
      "(17314, 13)\n"
     ]
    }
   ],
   "source": [
    "from sklearn.preprocessing import Normalizer\n",
    "transformer = Normalizer().fit(nmcon)\n",
    "x_normalized = transformer.transform(nmcon)\n",
    "print(x_normalized.shape)"
   ]
  },
  {
   "cell_type": "code",
   "execution_count": 263,
   "id": "d8763b65",
   "metadata": {},
   "outputs": [],
   "source": [
    "from sklearn.preprocessing import OneHotEncoder\n",
    "encoder = OneHotEncoder(handle_unknown='error').fit(nmdis)\n",
    "encoded = encoder.transform(nmdis).toarray()"
   ]
  },
  {
   "cell_type": "code",
   "execution_count": 264,
   "id": "83efdd3f",
   "metadata": {},
   "outputs": [],
   "source": [
    "encodeddf = pd.DataFrame(encoded)"
   ]
  },
  {
   "cell_type": "code",
   "execution_count": 265,
   "id": "7b884ae6",
   "metadata": {},
   "outputs": [],
   "source": [
    "X = np.concatenate((x_normalized,encodeddf),axis=1)"
   ]
  },
  {
   "cell_type": "code",
   "execution_count": 266,
   "id": "e6584260",
   "metadata": {},
   "outputs": [],
   "source": [
    "from sklearn.model_selection import train_test_split\n",
    "x_train,x_test,y_train,y_test = train_test_split(X,ntarget,test_size=0.2,random_state=10000)"
   ]
  },
  {
   "cell_type": "code",
   "execution_count": 267,
   "id": "ec49e713",
   "metadata": {},
   "outputs": [
    {
     "data": {
      "text/plain": [
       "0.6715309588245945"
      ]
     },
     "execution_count": 267,
     "metadata": {},
     "output_type": "execute_result"
    }
   ],
   "source": [
    "from sklearn import linear_model\n",
    "from sklearn.metrics import mean_squared_error, r2_score\n",
    "lm = linear_model.LinearRegression()\n",
    "model = lm.fit(x_train,y_train)\n",
    "predictions  = lm.predict(x_test)\n",
    "r2_score(y_test, predictions)"
   ]
  },
  {
   "cell_type": "markdown",
   "id": "0c55c574",
   "metadata": {},
   "source": [
    "### Using a Linear Regression model, we have _____% accuracy"
   ]
  },
  {
   "cell_type": "code",
   "execution_count": 221,
   "id": "ecf0f768",
   "metadata": {},
   "outputs": [
    {
     "data": {
      "text/plain": [
       "<matplotlib.collections.PathCollection at 0x14079e30e50>"
      ]
     },
     "execution_count": 221,
     "metadata": {},
     "output_type": "execute_result"
    },
    {
     "data": {
      "image/png": "[encoded data removed]",
      "text/plain": [
       "<Figure size 432x288 with 1 Axes>"
      ]
     },
     "metadata": {
      "needs_background": "light"
     },
     "output_type": "display_data"
    }
   ],
   "source": [
    "plt.scatter(x=y_test,y=predictions)"
   ]
  },
  {
   "cell_type": "code",
   "execution_count": null,
   "id": "a2e28246",
   "metadata": {},
   "outputs": [],
   "source": []
  }
 ],
 "metadata": {
  "kernelspec": {
   "display_name": "Python 3 (ipykernel)",
   "language": "python",
   "name": "python3"
  },
  "language_info": {
   "codemirror_mode": {
    "name": "ipython",
    "version": 3
   },
   "file_extension": ".py",
   "mimetype": "text/x-python",
   "name": "python",
   "nbconvert_exporter": "python",
   "pygments_lexer": "ipython3",
   "version": "3.9.7"
  }
 },
 "nbformat": 4,
 "nbformat_minor": 5
}
