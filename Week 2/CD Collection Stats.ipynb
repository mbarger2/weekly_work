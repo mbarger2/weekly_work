{
 "cells": [
  {
   "cell_type": "code",
   "execution_count": 1,
   "id": "752721a6",
   "metadata": {},
   "outputs": [],
   "source": [
    "import numpy as np\n",
    "import pandas as pd"
   ]
  },
  {
   "cell_type": "code",
   "execution_count": 104,
   "id": "6f27305d",
   "metadata": {},
   "outputs": [],
   "source": [
    "data = pd.read_excel('C:/Users/Owner/Documents/CDS.xlsx')"
   ]
  },
  {
   "cell_type": "code",
   "execution_count": 105,
   "id": "426d41d0",
   "metadata": {},
   "outputs": [
    {
     "data": {
      "text/html": [
       "<div>\n",
       "<style scoped>\n",
       "    .dataframe tbody tr th:only-of-type {\n",
       "        vertical-align: middle;\n",
       "    }\n",
       "\n",
       "    .dataframe tbody tr th {\n",
       "        vertical-align: top;\n",
       "    }\n",
       "\n",
       "    .dataframe thead th {\n",
       "        text-align: right;\n",
       "    }\n",
       "</style>\n",
       "<table border=\"1\" class=\"dataframe\">\n",
       "  <thead>\n",
       "    <tr style=\"text-align: right;\">\n",
       "      <th></th>\n",
       "      <th>Unnamed: 0</th>\n",
       "      <th>Artist</th>\n",
       "      <th>Album</th>\n",
       "      <th>Year</th>\n",
       "    </tr>\n",
       "  </thead>\n",
       "  <tbody>\n",
       "    <tr>\n",
       "      <th>0</th>\n",
       "      <td>NaN</td>\n",
       "      <td>NaN</td>\n",
       "      <td>NaN</td>\n",
       "      <td>NaN</td>\n",
       "    </tr>\n",
       "    <tr>\n",
       "      <th>1</th>\n",
       "      <td>NaN</td>\n",
       "      <td>\"Weird Al\" Yankovic</td>\n",
       "      <td>Dare to be Stupid</td>\n",
       "      <td>1985.0</td>\n",
       "    </tr>\n",
       "    <tr>\n",
       "      <th>2</th>\n",
       "      <td>NaN</td>\n",
       "      <td>\"Weird Al\" Yankovic</td>\n",
       "      <td>Alapalooza</td>\n",
       "      <td>2003.0</td>\n",
       "    </tr>\n",
       "    <tr>\n",
       "      <th>3</th>\n",
       "      <td>NaN</td>\n",
       "      <td>\"Weird Al\" Yankovic</td>\n",
       "      <td>Mandatory Fun</td>\n",
       "      <td>2014.0</td>\n",
       "    </tr>\n",
       "    <tr>\n",
       "      <th>4</th>\n",
       "      <td>NaN</td>\n",
       "      <td>10 Years</td>\n",
       "      <td>(How to Live) As Ghosts</td>\n",
       "      <td>2017.0</td>\n",
       "    </tr>\n",
       "  </tbody>\n",
       "</table>\n",
       "</div>"
      ],
      "text/plain": [
       "   Unnamed: 0               Artist                    Album    Year\n",
       "0         NaN                  NaN                      NaN     NaN\n",
       "1         NaN  \"Weird Al\" Yankovic        Dare to be Stupid  1985.0\n",
       "2         NaN  \"Weird Al\" Yankovic               Alapalooza  2003.0\n",
       "3         NaN  \"Weird Al\" Yankovic            Mandatory Fun  2014.0\n",
       "4         NaN             10 Years  (How to Live) As Ghosts  2017.0"
      ]
     },
     "execution_count": 105,
     "metadata": {},
     "output_type": "execute_result"
    }
   ],
   "source": [
    "data.head()"
   ]
  },
  {
   "cell_type": "code",
   "execution_count": 106,
   "id": "ba130175",
   "metadata": {},
   "outputs": [],
   "source": [
    "data.drop(['Unnamed: 0'],axis=1,inplace=True)"
   ]
  },
  {
   "cell_type": "code",
   "execution_count": 107,
   "id": "f109d383",
   "metadata": {},
   "outputs": [
    {
     "data": {
      "text/html": [
       "<div>\n",
       "<style scoped>\n",
       "    .dataframe tbody tr th:only-of-type {\n",
       "        vertical-align: middle;\n",
       "    }\n",
       "\n",
       "    .dataframe tbody tr th {\n",
       "        vertical-align: top;\n",
       "    }\n",
       "\n",
       "    .dataframe thead th {\n",
       "        text-align: right;\n",
       "    }\n",
       "</style>\n",
       "<table border=\"1\" class=\"dataframe\">\n",
       "  <thead>\n",
       "    <tr style=\"text-align: right;\">\n",
       "      <th></th>\n",
       "      <th>Artist</th>\n",
       "      <th>Album</th>\n",
       "      <th>Year</th>\n",
       "    </tr>\n",
       "  </thead>\n",
       "  <tbody>\n",
       "    <tr>\n",
       "      <th>0</th>\n",
       "      <td>NaN</td>\n",
       "      <td>NaN</td>\n",
       "      <td>NaN</td>\n",
       "    </tr>\n",
       "    <tr>\n",
       "      <th>1</th>\n",
       "      <td>\"Weird Al\" Yankovic</td>\n",
       "      <td>Dare to be Stupid</td>\n",
       "      <td>1985.0</td>\n",
       "    </tr>\n",
       "    <tr>\n",
       "      <th>2</th>\n",
       "      <td>\"Weird Al\" Yankovic</td>\n",
       "      <td>Alapalooza</td>\n",
       "      <td>2003.0</td>\n",
       "    </tr>\n",
       "    <tr>\n",
       "      <th>3</th>\n",
       "      <td>\"Weird Al\" Yankovic</td>\n",
       "      <td>Mandatory Fun</td>\n",
       "      <td>2014.0</td>\n",
       "    </tr>\n",
       "    <tr>\n",
       "      <th>4</th>\n",
       "      <td>10 Years</td>\n",
       "      <td>(How to Live) As Ghosts</td>\n",
       "      <td>2017.0</td>\n",
       "    </tr>\n",
       "  </tbody>\n",
       "</table>\n",
       "</div>"
      ],
      "text/plain": [
       "                Artist                    Album    Year\n",
       "0                  NaN                      NaN     NaN\n",
       "1  \"Weird Al\" Yankovic        Dare to be Stupid  1985.0\n",
       "2  \"Weird Al\" Yankovic               Alapalooza  2003.0\n",
       "3  \"Weird Al\" Yankovic            Mandatory Fun  2014.0\n",
       "4             10 Years  (How to Live) As Ghosts  2017.0"
      ]
     },
     "execution_count": 107,
     "metadata": {},
     "output_type": "execute_result"
    }
   ],
   "source": [
    "data.head()"
   ]
  },
  {
   "cell_type": "code",
   "execution_count": 108,
   "id": "d04a094b",
   "metadata": {},
   "outputs": [],
   "source": [
    "data=data.T"
   ]
  },
  {
   "cell_type": "code",
   "execution_count": 113,
   "id": "9340b832",
   "metadata": {},
   "outputs": [
    {
     "data": {
      "text/html": [
       "<div>\n",
       "<style scoped>\n",
       "    .dataframe tbody tr th:only-of-type {\n",
       "        vertical-align: middle;\n",
       "    }\n",
       "\n",
       "    .dataframe tbody tr th {\n",
       "        vertical-align: top;\n",
       "    }\n",
       "\n",
       "    .dataframe thead th {\n",
       "        text-align: right;\n",
       "    }\n",
       "</style>\n",
       "<table border=\"1\" class=\"dataframe\">\n",
       "  <thead>\n",
       "    <tr style=\"text-align: right;\">\n",
       "      <th></th>\n",
       "      <th>1</th>\n",
       "      <th>2</th>\n",
       "      <th>3</th>\n",
       "      <th>4</th>\n",
       "      <th>5</th>\n",
       "      <th>6</th>\n",
       "      <th>7</th>\n",
       "      <th>8</th>\n",
       "      <th>9</th>\n",
       "      <th>10</th>\n",
       "      <th>...</th>\n",
       "      <th>282</th>\n",
       "      <th>283</th>\n",
       "      <th>284</th>\n",
       "      <th>285</th>\n",
       "      <th>286</th>\n",
       "      <th>287</th>\n",
       "      <th>288</th>\n",
       "      <th>289</th>\n",
       "      <th>290</th>\n",
       "      <th>291</th>\n",
       "    </tr>\n",
       "  </thead>\n",
       "  <tbody>\n",
       "    <tr>\n",
       "      <th>Artist</th>\n",
       "      <td>\"Weird Al\" Yankovic</td>\n",
       "      <td>\"Weird Al\" Yankovic</td>\n",
       "      <td>\"Weird Al\" Yankovic</td>\n",
       "      <td>10 Years</td>\n",
       "      <td>3 Doors Down</td>\n",
       "      <td>3 Doors Down</td>\n",
       "      <td>3 Doors Down</td>\n",
       "      <td>5 Seconds of Summer</td>\n",
       "      <td>A Day to Remember</td>\n",
       "      <td>A Day to Remember</td>\n",
       "      <td>...</td>\n",
       "      <td>Various Artists</td>\n",
       "      <td>Various Artists</td>\n",
       "      <td>Various Artists</td>\n",
       "      <td>Various Artists</td>\n",
       "      <td>Vo-Kal</td>\n",
       "      <td>We Came as Romans</td>\n",
       "      <td>We Came as Romans</td>\n",
       "      <td>We Came as Romans</td>\n",
       "      <td>We Came as Romans</td>\n",
       "      <td>Weezer</td>\n",
       "    </tr>\n",
       "    <tr>\n",
       "      <th>Album</th>\n",
       "      <td>Dare to be Stupid</td>\n",
       "      <td>Alapalooza</td>\n",
       "      <td>Mandatory Fun</td>\n",
       "      <td>(How to Live) As Ghosts</td>\n",
       "      <td>The Better Life</td>\n",
       "      <td>Away From The Sun</td>\n",
       "      <td>Away From the Sun</td>\n",
       "      <td>Five</td>\n",
       "      <td>What Separates You From Me</td>\n",
       "      <td>Common Courtesy</td>\n",
       "      <td>...</td>\n",
       "      <td>The Best Of: Taste of Chaos Disc 2</td>\n",
       "      <td>Go Ahead Punk… Make My Day</td>\n",
       "      <td>Daredevil: The Album</td>\n",
       "      <td>Rock the Beat</td>\n",
       "      <td>VK!</td>\n",
       "      <td>Understanding What We've Grown to be</td>\n",
       "      <td>Tracing Back Roots</td>\n",
       "      <td>We Came as Romans</td>\n",
       "      <td>Cold Like War</td>\n",
       "      <td>The Blue Album</td>\n",
       "    </tr>\n",
       "    <tr>\n",
       "      <th>Year</th>\n",
       "      <td>1985.0</td>\n",
       "      <td>2003.0</td>\n",
       "      <td>2014.0</td>\n",
       "      <td>2017.0</td>\n",
       "      <td>2000.0</td>\n",
       "      <td>2002.0</td>\n",
       "      <td>2002.0</td>\n",
       "      <td>2014.0</td>\n",
       "      <td>2010.0</td>\n",
       "      <td>2013.0</td>\n",
       "      <td>...</td>\n",
       "      <td>2006.0</td>\n",
       "      <td>1996.0</td>\n",
       "      <td>2006.0</td>\n",
       "      <td>1995.0</td>\n",
       "      <td>2018.0</td>\n",
       "      <td>2011.0</td>\n",
       "      <td>2013.0</td>\n",
       "      <td>2015.0</td>\n",
       "      <td>2017.0</td>\n",
       "      <td>1994.0</td>\n",
       "    </tr>\n",
       "  </tbody>\n",
       "</table>\n",
       "<p>3 rows × 291 columns</p>\n",
       "</div>"
      ],
      "text/plain": [
       "                        1                    2                    3    \\\n",
       "Artist  \"Weird Al\" Yankovic  \"Weird Al\" Yankovic  \"Weird Al\" Yankovic   \n",
       "Album     Dare to be Stupid           Alapalooza        Mandatory Fun   \n",
       "Year                 1985.0               2003.0               2014.0   \n",
       "\n",
       "                            4                5                  6    \\\n",
       "Artist                 10 Years     3 Doors Down       3 Doors Down   \n",
       "Album   (How to Live) As Ghosts  The Better Life  Away From The Sun   \n",
       "Year                     2017.0           2000.0             2002.0   \n",
       "\n",
       "                      7                    8                           9    \\\n",
       "Artist       3 Doors Down  5 Seconds of Summer           A Day to Remember   \n",
       "Album   Away From the Sun                 Five  What Separates You From Me   \n",
       "Year               2002.0               2014.0                      2010.0   \n",
       "\n",
       "                      10   ...                                 282  \\\n",
       "Artist  A Day to Remember  ...                     Various Artists   \n",
       "Album     Common Courtesy  ...  The Best Of: Taste of Chaos Disc 2   \n",
       "Year               2013.0  ...                              2006.0   \n",
       "\n",
       "                               283                   284              285  \\\n",
       "Artist             Various Artists       Various Artists  Various Artists   \n",
       "Album   Go Ahead Punk… Make My Day  Daredevil: The Album    Rock the Beat   \n",
       "Year                        1996.0                2006.0           1995.0   \n",
       "\n",
       "           286                                   287                 288  \\\n",
       "Artist  Vo-Kal                     We Came as Romans   We Came as Romans   \n",
       "Album      VK!  Understanding What We've Grown to be  Tracing Back Roots   \n",
       "Year    2018.0                                2011.0              2013.0   \n",
       "\n",
       "                      289                290             291  \n",
       "Artist  We Came as Romans  We Came as Romans          Weezer  \n",
       "Album   We Came as Romans      Cold Like War  The Blue Album  \n",
       "Year               2015.0             2017.0          1994.0  \n",
       "\n",
       "[3 rows x 291 columns]"
      ]
     },
     "execution_count": 113,
     "metadata": {},
     "output_type": "execute_result"
    }
   ],
   "source": [
    "data.head()"
   ]
  },
  {
   "cell_type": "code",
   "execution_count": 110,
   "id": "4dfbc2ae",
   "metadata": {},
   "outputs": [],
   "source": [
    "data.drop(0,axis=1,inplace=True)"
   ]
  },
  {
   "cell_type": "code",
   "execution_count": 114,
   "id": "7018e9ef",
   "metadata": {},
   "outputs": [
    {
     "data": {
      "text/html": [
       "<div>\n",
       "<style scoped>\n",
       "    .dataframe tbody tr th:only-of-type {\n",
       "        vertical-align: middle;\n",
       "    }\n",
       "\n",
       "    .dataframe tbody tr th {\n",
       "        vertical-align: top;\n",
       "    }\n",
       "\n",
       "    .dataframe thead th {\n",
       "        text-align: right;\n",
       "    }\n",
       "</style>\n",
       "<table border=\"1\" class=\"dataframe\">\n",
       "  <thead>\n",
       "    <tr style=\"text-align: right;\">\n",
       "      <th></th>\n",
       "      <th>Artist</th>\n",
       "      <th>Album</th>\n",
       "      <th>Year</th>\n",
       "    </tr>\n",
       "  </thead>\n",
       "  <tbody>\n",
       "    <tr>\n",
       "      <th>1</th>\n",
       "      <td>\"Weird Al\" Yankovic</td>\n",
       "      <td>Dare to be Stupid</td>\n",
       "      <td>1985.0</td>\n",
       "    </tr>\n",
       "    <tr>\n",
       "      <th>2</th>\n",
       "      <td>\"Weird Al\" Yankovic</td>\n",
       "      <td>Alapalooza</td>\n",
       "      <td>2003.0</td>\n",
       "    </tr>\n",
       "    <tr>\n",
       "      <th>3</th>\n",
       "      <td>\"Weird Al\" Yankovic</td>\n",
       "      <td>Mandatory Fun</td>\n",
       "      <td>2014.0</td>\n",
       "    </tr>\n",
       "    <tr>\n",
       "      <th>4</th>\n",
       "      <td>10 Years</td>\n",
       "      <td>(How to Live) As Ghosts</td>\n",
       "      <td>2017.0</td>\n",
       "    </tr>\n",
       "    <tr>\n",
       "      <th>5</th>\n",
       "      <td>3 Doors Down</td>\n",
       "      <td>The Better Life</td>\n",
       "      <td>2000.0</td>\n",
       "    </tr>\n",
       "  </tbody>\n",
       "</table>\n",
       "</div>"
      ],
      "text/plain": [
       "                Artist                    Album    Year\n",
       "1  \"Weird Al\" Yankovic        Dare to be Stupid  1985.0\n",
       "2  \"Weird Al\" Yankovic               Alapalooza  2003.0\n",
       "3  \"Weird Al\" Yankovic            Mandatory Fun  2014.0\n",
       "4             10 Years  (How to Live) As Ghosts  2017.0\n",
       "5         3 Doors Down          The Better Life  2000.0"
      ]
     },
     "execution_count": 114,
     "metadata": {},
     "output_type": "execute_result"
    }
   ],
   "source": [
    "data=data.T\n",
    "data.head()"
   ]
  },
  {
   "cell_type": "code",
   "execution_count": 115,
   "id": "91b4e439",
   "metadata": {},
   "outputs": [
    {
     "data": {
      "text/plain": [
       "1"
      ]
     },
     "execution_count": 115,
     "metadata": {},
     "output_type": "execute_result"
    }
   ],
   "source": [
    "data['Year'].isna().sum()"
   ]
  },
  {
   "cell_type": "code",
   "execution_count": 116,
   "id": "789e25f4",
   "metadata": {},
   "outputs": [
    {
     "data": {
      "text/html": [
       "<div>\n",
       "<style scoped>\n",
       "    .dataframe tbody tr th:only-of-type {\n",
       "        vertical-align: middle;\n",
       "    }\n",
       "\n",
       "    .dataframe tbody tr th {\n",
       "        vertical-align: top;\n",
       "    }\n",
       "\n",
       "    .dataframe thead th {\n",
       "        text-align: right;\n",
       "    }\n",
       "</style>\n",
       "<table border=\"1\" class=\"dataframe\">\n",
       "  <thead>\n",
       "    <tr style=\"text-align: right;\">\n",
       "      <th></th>\n",
       "      <th>Artist</th>\n",
       "      <th>Album</th>\n",
       "      <th>Year</th>\n",
       "    </tr>\n",
       "  </thead>\n",
       "  <tbody>\n",
       "    <tr>\n",
       "      <th>287</th>\n",
       "      <td>We Came as Romans</td>\n",
       "      <td>Understanding What We've Grown to be</td>\n",
       "      <td>2011.0</td>\n",
       "    </tr>\n",
       "    <tr>\n",
       "      <th>288</th>\n",
       "      <td>We Came as Romans</td>\n",
       "      <td>Tracing Back Roots</td>\n",
       "      <td>2013.0</td>\n",
       "    </tr>\n",
       "    <tr>\n",
       "      <th>289</th>\n",
       "      <td>We Came as Romans</td>\n",
       "      <td>We Came as Romans</td>\n",
       "      <td>2015.0</td>\n",
       "    </tr>\n",
       "    <tr>\n",
       "      <th>290</th>\n",
       "      <td>We Came as Romans</td>\n",
       "      <td>Cold Like War</td>\n",
       "      <td>2017.0</td>\n",
       "    </tr>\n",
       "    <tr>\n",
       "      <th>291</th>\n",
       "      <td>Weezer</td>\n",
       "      <td>The Blue Album</td>\n",
       "      <td>1994.0</td>\n",
       "    </tr>\n",
       "  </tbody>\n",
       "</table>\n",
       "</div>"
      ],
      "text/plain": [
       "                Artist                                 Album    Year\n",
       "287  We Came as Romans  Understanding What We've Grown to be  2011.0\n",
       "288  We Came as Romans                    Tracing Back Roots  2013.0\n",
       "289  We Came as Romans                     We Came as Romans  2015.0\n",
       "290  We Came as Romans                         Cold Like War  2017.0\n",
       "291             Weezer                        The Blue Album  1994.0"
      ]
     },
     "execution_count": 116,
     "metadata": {},
     "output_type": "execute_result"
    }
   ],
   "source": [
    "data.tail()"
   ]
  },
  {
   "cell_type": "code",
   "execution_count": 117,
   "id": "b4f668eb",
   "metadata": {},
   "outputs": [
    {
     "data": {
      "text/html": [
       "<div>\n",
       "<style scoped>\n",
       "    .dataframe tbody tr th:only-of-type {\n",
       "        vertical-align: middle;\n",
       "    }\n",
       "\n",
       "    .dataframe tbody tr th {\n",
       "        vertical-align: top;\n",
       "    }\n",
       "\n",
       "    .dataframe thead th {\n",
       "        text-align: right;\n",
       "    }\n",
       "</style>\n",
       "<table border=\"1\" class=\"dataframe\">\n",
       "  <thead>\n",
       "    <tr style=\"text-align: right;\">\n",
       "      <th></th>\n",
       "      <th>Artist</th>\n",
       "      <th>Album</th>\n",
       "      <th>Year</th>\n",
       "    </tr>\n",
       "  </thead>\n",
       "  <tbody>\n",
       "    <tr>\n",
       "      <th>1</th>\n",
       "      <td>\"Weird Al\" Yankovic</td>\n",
       "      <td>Dare to be Stupid</td>\n",
       "      <td>1985.0</td>\n",
       "    </tr>\n",
       "    <tr>\n",
       "      <th>2</th>\n",
       "      <td>\"Weird Al\" Yankovic</td>\n",
       "      <td>Alapalooza</td>\n",
       "      <td>2003.0</td>\n",
       "    </tr>\n",
       "    <tr>\n",
       "      <th>3</th>\n",
       "      <td>\"Weird Al\" Yankovic</td>\n",
       "      <td>Mandatory Fun</td>\n",
       "      <td>2014.0</td>\n",
       "    </tr>\n",
       "    <tr>\n",
       "      <th>4</th>\n",
       "      <td>10 Years</td>\n",
       "      <td>(How to Live) As Ghosts</td>\n",
       "      <td>2017.0</td>\n",
       "    </tr>\n",
       "    <tr>\n",
       "      <th>5</th>\n",
       "      <td>3 Doors Down</td>\n",
       "      <td>The Better Life</td>\n",
       "      <td>2000.0</td>\n",
       "    </tr>\n",
       "  </tbody>\n",
       "</table>\n",
       "</div>"
      ],
      "text/plain": [
       "                Artist                    Album    Year\n",
       "1  \"Weird Al\" Yankovic        Dare to be Stupid  1985.0\n",
       "2  \"Weird Al\" Yankovic               Alapalooza  2003.0\n",
       "3  \"Weird Al\" Yankovic            Mandatory Fun  2014.0\n",
       "4             10 Years  (How to Live) As Ghosts  2017.0\n",
       "5         3 Doors Down          The Better Life  2000.0"
      ]
     },
     "execution_count": 117,
     "metadata": {},
     "output_type": "execute_result"
    }
   ],
   "source": [
    "data.head()"
   ]
  },
  {
   "cell_type": "code",
   "execution_count": 118,
   "id": "44e2208b",
   "metadata": {},
   "outputs": [
    {
     "data": {
      "text/html": [
       "<div>\n",
       "<style scoped>\n",
       "    .dataframe tbody tr th:only-of-type {\n",
       "        vertical-align: middle;\n",
       "    }\n",
       "\n",
       "    .dataframe tbody tr th {\n",
       "        vertical-align: top;\n",
       "    }\n",
       "\n",
       "    .dataframe thead th {\n",
       "        text-align: right;\n",
       "    }\n",
       "</style>\n",
       "<table border=\"1\" class=\"dataframe\">\n",
       "  <thead>\n",
       "    <tr style=\"text-align: right;\">\n",
       "      <th></th>\n",
       "      <th>Artist</th>\n",
       "      <th>Album</th>\n",
       "      <th>Year</th>\n",
       "    </tr>\n",
       "  </thead>\n",
       "  <tbody>\n",
       "    <tr>\n",
       "      <th>44</th>\n",
       "      <td>Beyond Repair</td>\n",
       "      <td>Things Change</td>\n",
       "      <td>NaN</td>\n",
       "    </tr>\n",
       "  </tbody>\n",
       "</table>\n",
       "</div>"
      ],
      "text/plain": [
       "           Artist          Album Year\n",
       "44  Beyond Repair  Things Change  NaN"
      ]
     },
     "execution_count": 118,
     "metadata": {},
     "output_type": "execute_result"
    }
   ],
   "source": [
    "data[data['Year'].isna()]"
   ]
  },
  {
   "cell_type": "code",
   "execution_count": 119,
   "id": "bfa7deb7",
   "metadata": {},
   "outputs": [],
   "source": [
    "data['Year']=data['Year'].replace(np.nan,0)"
   ]
  },
  {
   "cell_type": "code",
   "execution_count": 120,
   "id": "7b8ade41",
   "metadata": {},
   "outputs": [
    {
     "data": {
      "text/html": [
       "<div>\n",
       "<style scoped>\n",
       "    .dataframe tbody tr th:only-of-type {\n",
       "        vertical-align: middle;\n",
       "    }\n",
       "\n",
       "    .dataframe tbody tr th {\n",
       "        vertical-align: top;\n",
       "    }\n",
       "\n",
       "    .dataframe thead th {\n",
       "        text-align: right;\n",
       "    }\n",
       "</style>\n",
       "<table border=\"1\" class=\"dataframe\">\n",
       "  <thead>\n",
       "    <tr style=\"text-align: right;\">\n",
       "      <th></th>\n",
       "      <th>Artist</th>\n",
       "      <th>Album</th>\n",
       "      <th>Year</th>\n",
       "    </tr>\n",
       "  </thead>\n",
       "  <tbody>\n",
       "    <tr>\n",
       "      <th>1</th>\n",
       "      <td>\"Weird Al\" Yankovic</td>\n",
       "      <td>Dare to be Stupid</td>\n",
       "      <td>1985.0</td>\n",
       "    </tr>\n",
       "    <tr>\n",
       "      <th>2</th>\n",
       "      <td>\"Weird Al\" Yankovic</td>\n",
       "      <td>Alapalooza</td>\n",
       "      <td>2003.0</td>\n",
       "    </tr>\n",
       "    <tr>\n",
       "      <th>3</th>\n",
       "      <td>\"Weird Al\" Yankovic</td>\n",
       "      <td>Mandatory Fun</td>\n",
       "      <td>2014.0</td>\n",
       "    </tr>\n",
       "    <tr>\n",
       "      <th>4</th>\n",
       "      <td>10 Years</td>\n",
       "      <td>(How to Live) As Ghosts</td>\n",
       "      <td>2017.0</td>\n",
       "    </tr>\n",
       "    <tr>\n",
       "      <th>5</th>\n",
       "      <td>3 Doors Down</td>\n",
       "      <td>The Better Life</td>\n",
       "      <td>2000.0</td>\n",
       "    </tr>\n",
       "    <tr>\n",
       "      <th>...</th>\n",
       "      <td>...</td>\n",
       "      <td>...</td>\n",
       "      <td>...</td>\n",
       "    </tr>\n",
       "    <tr>\n",
       "      <th>287</th>\n",
       "      <td>We Came as Romans</td>\n",
       "      <td>Understanding What We've Grown to be</td>\n",
       "      <td>2011.0</td>\n",
       "    </tr>\n",
       "    <tr>\n",
       "      <th>288</th>\n",
       "      <td>We Came as Romans</td>\n",
       "      <td>Tracing Back Roots</td>\n",
       "      <td>2013.0</td>\n",
       "    </tr>\n",
       "    <tr>\n",
       "      <th>289</th>\n",
       "      <td>We Came as Romans</td>\n",
       "      <td>We Came as Romans</td>\n",
       "      <td>2015.0</td>\n",
       "    </tr>\n",
       "    <tr>\n",
       "      <th>290</th>\n",
       "      <td>We Came as Romans</td>\n",
       "      <td>Cold Like War</td>\n",
       "      <td>2017.0</td>\n",
       "    </tr>\n",
       "    <tr>\n",
       "      <th>291</th>\n",
       "      <td>Weezer</td>\n",
       "      <td>The Blue Album</td>\n",
       "      <td>1994.0</td>\n",
       "    </tr>\n",
       "  </tbody>\n",
       "</table>\n",
       "<p>291 rows × 3 columns</p>\n",
       "</div>"
      ],
      "text/plain": [
       "                  Artist                                 Album    Year\n",
       "1    \"Weird Al\" Yankovic                     Dare to be Stupid  1985.0\n",
       "2    \"Weird Al\" Yankovic                            Alapalooza  2003.0\n",
       "3    \"Weird Al\" Yankovic                         Mandatory Fun  2014.0\n",
       "4               10 Years               (How to Live) As Ghosts  2017.0\n",
       "5           3 Doors Down                       The Better Life  2000.0\n",
       "..                   ...                                   ...     ...\n",
       "287    We Came as Romans  Understanding What We've Grown to be  2011.0\n",
       "288    We Came as Romans                    Tracing Back Roots  2013.0\n",
       "289    We Came as Romans                     We Came as Romans  2015.0\n",
       "290    We Came as Romans                         Cold Like War  2017.0\n",
       "291               Weezer                        The Blue Album  1994.0\n",
       "\n",
       "[291 rows x 3 columns]"
      ]
     },
     "execution_count": 120,
     "metadata": {},
     "output_type": "execute_result"
    }
   ],
   "source": [
    "data"
   ]
  },
  {
   "cell_type": "code",
   "execution_count": 121,
   "id": "4b3be843",
   "metadata": {},
   "outputs": [
    {
     "data": {
      "text/html": [
       "<div>\n",
       "<style scoped>\n",
       "    .dataframe tbody tr th:only-of-type {\n",
       "        vertical-align: middle;\n",
       "    }\n",
       "\n",
       "    .dataframe tbody tr th {\n",
       "        vertical-align: top;\n",
       "    }\n",
       "\n",
       "    .dataframe thead th {\n",
       "        text-align: right;\n",
       "    }\n",
       "</style>\n",
       "<table border=\"1\" class=\"dataframe\">\n",
       "  <thead>\n",
       "    <tr style=\"text-align: right;\">\n",
       "      <th></th>\n",
       "      <th>Artist</th>\n",
       "      <th>Album</th>\n",
       "      <th>Year</th>\n",
       "    </tr>\n",
       "  </thead>\n",
       "  <tbody>\n",
       "    <tr>\n",
       "      <th>44</th>\n",
       "      <td>Beyond Repair</td>\n",
       "      <td>Things Change</td>\n",
       "      <td>0.0</td>\n",
       "    </tr>\n",
       "  </tbody>\n",
       "</table>\n",
       "</div>"
      ],
      "text/plain": [
       "           Artist          Album  Year\n",
       "44  Beyond Repair  Things Change   0.0"
      ]
     },
     "execution_count": 121,
     "metadata": {},
     "output_type": "execute_result"
    }
   ],
   "source": [
    "data[data['Artist']=='Beyond Repair']"
   ]
  },
  {
   "cell_type": "code",
   "execution_count": 122,
   "id": "92b11a84",
   "metadata": {
    "scrolled": true
   },
   "outputs": [],
   "source": [
    "data['Year']=list(map(lambda x: int(round(x,0)),data['Year']))"
   ]
  },
  {
   "cell_type": "code",
   "execution_count": 123,
   "id": "26bf93ad",
   "metadata": {},
   "outputs": [
    {
     "data": {
      "text/plain": [
       "Artist    0\n",
       "Album     0\n",
       "Year      0\n",
       "dtype: int64"
      ]
     },
     "execution_count": 123,
     "metadata": {},
     "output_type": "execute_result"
    }
   ],
   "source": [
    "data.isna().sum()"
   ]
  },
  {
   "cell_type": "code",
   "execution_count": 124,
   "id": "daa2cd07",
   "metadata": {},
   "outputs": [
    {
     "data": {
      "text/html": [
       "<div>\n",
       "<style scoped>\n",
       "    .dataframe tbody tr th:only-of-type {\n",
       "        vertical-align: middle;\n",
       "    }\n",
       "\n",
       "    .dataframe tbody tr th {\n",
       "        vertical-align: top;\n",
       "    }\n",
       "\n",
       "    .dataframe thead th {\n",
       "        text-align: right;\n",
       "    }\n",
       "</style>\n",
       "<table border=\"1\" class=\"dataframe\">\n",
       "  <thead>\n",
       "    <tr style=\"text-align: right;\">\n",
       "      <th></th>\n",
       "      <th>Artist</th>\n",
       "      <th>Album</th>\n",
       "      <th>Year</th>\n",
       "    </tr>\n",
       "  </thead>\n",
       "  <tbody>\n",
       "    <tr>\n",
       "      <th>1</th>\n",
       "      <td>\"Weird Al\" Yankovic</td>\n",
       "      <td>Dare to be Stupid</td>\n",
       "      <td>1985</td>\n",
       "    </tr>\n",
       "    <tr>\n",
       "      <th>2</th>\n",
       "      <td>\"Weird Al\" Yankovic</td>\n",
       "      <td>Alapalooza</td>\n",
       "      <td>2003</td>\n",
       "    </tr>\n",
       "    <tr>\n",
       "      <th>3</th>\n",
       "      <td>\"Weird Al\" Yankovic</td>\n",
       "      <td>Mandatory Fun</td>\n",
       "      <td>2014</td>\n",
       "    </tr>\n",
       "    <tr>\n",
       "      <th>4</th>\n",
       "      <td>10 Years</td>\n",
       "      <td>(How to Live) As Ghosts</td>\n",
       "      <td>2017</td>\n",
       "    </tr>\n",
       "    <tr>\n",
       "      <th>5</th>\n",
       "      <td>3 Doors Down</td>\n",
       "      <td>The Better Life</td>\n",
       "      <td>2000</td>\n",
       "    </tr>\n",
       "  </tbody>\n",
       "</table>\n",
       "</div>"
      ],
      "text/plain": [
       "                Artist                    Album  Year\n",
       "1  \"Weird Al\" Yankovic        Dare to be Stupid  1985\n",
       "2  \"Weird Al\" Yankovic               Alapalooza  2003\n",
       "3  \"Weird Al\" Yankovic            Mandatory Fun  2014\n",
       "4             10 Years  (How to Live) As Ghosts  2017\n",
       "5         3 Doors Down          The Better Life  2000"
      ]
     },
     "execution_count": 124,
     "metadata": {},
     "output_type": "execute_result"
    }
   ],
   "source": [
    "data.head()"
   ]
  },
  {
   "cell_type": "code",
   "execution_count": 83,
   "id": "eec95424",
   "metadata": {},
   "outputs": [
    {
     "ename": "SyntaxError",
     "evalue": "invalid syntax (Temp/ipykernel_14772/896506775.py, line 1)",
     "output_type": "error",
     "traceback": [
      "\u001b[1;36m  File \u001b[1;32m\"C:\\Users\\Owner\\AppData\\Local\\Temp/ipykernel_14772/896506775.py\"\u001b[1;36m, line \u001b[1;32m1\u001b[0m\n\u001b[1;33m    data.index==44.unique()\u001b[0m\n\u001b[1;37m                   ^\u001b[0m\n\u001b[1;31mSyntaxError\u001b[0m\u001b[1;31m:\u001b[0m invalid syntax\n"
     ]
    }
   ],
   "source": [
    "#filtering by index\n",
    "data.index==44"
   ]
  },
  {
   "cell_type": "code",
   "execution_count": 125,
   "id": "1957cebc",
   "metadata": {},
   "outputs": [
    {
     "data": {
      "text/plain": [
       "Artist    Beyond Repair\n",
       "Album     Things Change\n",
       "Year                  0\n",
       "Name: 44, dtype: object"
      ]
     },
     "execution_count": 125,
     "metadata": {},
     "output_type": "execute_result"
    }
   ],
   "source": [
    "data.loc[44]"
   ]
  },
  {
   "cell_type": "code",
   "execution_count": null,
   "id": "723af404",
   "metadata": {},
   "outputs": [],
   "source": []
  }
 ],
 "metadata": {
  "kernelspec": {
   "display_name": "Python 3 (ipykernel)",
   "language": "python",
   "name": "python3"
  },
  "language_info": {
   "codemirror_mode": {
    "name": "ipython",
    "version": 3
   },
   "file_extension": ".py",
   "mimetype": "text/x-python",
   "name": "python",
   "nbconvert_exporter": "python",
   "pygments_lexer": "ipython3",
   "version": "3.9.7"
  }
 },
 "nbformat": 4,
 "nbformat_minor": 5
}
