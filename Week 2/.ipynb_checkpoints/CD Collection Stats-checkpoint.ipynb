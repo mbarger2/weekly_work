{
 "cells": [
  {
   "cell_type": "code",
   "execution_count": 1,
   "id": "752721a6",
   "metadata": {},
   "outputs": [],
   "source": [
    "import numpy as np\n",
    "import pandas as pd"
   ]
  },
  {
   "cell_type": "code",
   "execution_count": 26,
   "id": "5452c978",
   "metadata": {},
   "outputs": [],
   "source": [
    "pd.set_option('display.max_columns',100)\n",
    "pd.set_option('display.max_rows',None)"
   ]
  },
  {
   "cell_type": "code",
   "execution_count": 2,
   "id": "6f27305d",
   "metadata": {},
   "outputs": [],
   "source": [
    "data = pd.read_excel('C:/Users/Owner/Documents/CDS.xlsx')"
   ]
  },
  {
   "cell_type": "code",
   "execution_count": 3,
   "id": "426d41d0",
   "metadata": {},
   "outputs": [
    {
     "data": {
      "text/html": [
       "<div>\n",
       "<style scoped>\n",
       "    .dataframe tbody tr th:only-of-type {\n",
       "        vertical-align: middle;\n",
       "    }\n",
       "\n",
       "    .dataframe tbody tr th {\n",
       "        vertical-align: top;\n",
       "    }\n",
       "\n",
       "    .dataframe thead th {\n",
       "        text-align: right;\n",
       "    }\n",
       "</style>\n",
       "<table border=\"1\" class=\"dataframe\">\n",
       "  <thead>\n",
       "    <tr style=\"text-align: right;\">\n",
       "      <th></th>\n",
       "      <th>Unnamed: 0</th>\n",
       "      <th>Artist</th>\n",
       "      <th>Album</th>\n",
       "      <th>Year</th>\n",
       "    </tr>\n",
       "  </thead>\n",
       "  <tbody>\n",
       "    <tr>\n",
       "      <th>0</th>\n",
       "      <td>NaN</td>\n",
       "      <td>NaN</td>\n",
       "      <td>NaN</td>\n",
       "      <td>NaN</td>\n",
       "    </tr>\n",
       "    <tr>\n",
       "      <th>1</th>\n",
       "      <td>NaN</td>\n",
       "      <td>\"Weird Al\" Yankovic</td>\n",
       "      <td>Dare to be Stupid</td>\n",
       "      <td>1985.0</td>\n",
       "    </tr>\n",
       "    <tr>\n",
       "      <th>2</th>\n",
       "      <td>NaN</td>\n",
       "      <td>\"Weird Al\" Yankovic</td>\n",
       "      <td>Alapalooza</td>\n",
       "      <td>2003.0</td>\n",
       "    </tr>\n",
       "    <tr>\n",
       "      <th>3</th>\n",
       "      <td>NaN</td>\n",
       "      <td>\"Weird Al\" Yankovic</td>\n",
       "      <td>Mandatory Fun</td>\n",
       "      <td>2014.0</td>\n",
       "    </tr>\n",
       "    <tr>\n",
       "      <th>4</th>\n",
       "      <td>NaN</td>\n",
       "      <td>10 Years</td>\n",
       "      <td>(How to Live) As Ghosts</td>\n",
       "      <td>2017.0</td>\n",
       "    </tr>\n",
       "  </tbody>\n",
       "</table>\n",
       "</div>"
      ],
      "text/plain": [
       "   Unnamed: 0               Artist                    Album    Year\n",
       "0         NaN                  NaN                      NaN     NaN\n",
       "1         NaN  \"Weird Al\" Yankovic        Dare to be Stupid  1985.0\n",
       "2         NaN  \"Weird Al\" Yankovic               Alapalooza  2003.0\n",
       "3         NaN  \"Weird Al\" Yankovic            Mandatory Fun  2014.0\n",
       "4         NaN             10 Years  (How to Live) As Ghosts  2017.0"
      ]
     },
     "execution_count": 3,
     "metadata": {},
     "output_type": "execute_result"
    }
   ],
   "source": [
    "data.head()"
   ]
  },
  {
   "cell_type": "code",
   "execution_count": 4,
   "id": "ba130175",
   "metadata": {},
   "outputs": [],
   "source": [
    "data.drop(['Unnamed: 0'],axis=1,inplace=True)"
   ]
  },
  {
   "cell_type": "code",
   "execution_count": 5,
   "id": "f109d383",
   "metadata": {},
   "outputs": [
    {
     "data": {
      "text/html": [
       "<div>\n",
       "<style scoped>\n",
       "    .dataframe tbody tr th:only-of-type {\n",
       "        vertical-align: middle;\n",
       "    }\n",
       "\n",
       "    .dataframe tbody tr th {\n",
       "        vertical-align: top;\n",
       "    }\n",
       "\n",
       "    .dataframe thead th {\n",
       "        text-align: right;\n",
       "    }\n",
       "</style>\n",
       "<table border=\"1\" class=\"dataframe\">\n",
       "  <thead>\n",
       "    <tr style=\"text-align: right;\">\n",
       "      <th></th>\n",
       "      <th>Artist</th>\n",
       "      <th>Album</th>\n",
       "      <th>Year</th>\n",
       "    </tr>\n",
       "  </thead>\n",
       "  <tbody>\n",
       "    <tr>\n",
       "      <th>0</th>\n",
       "      <td>NaN</td>\n",
       "      <td>NaN</td>\n",
       "      <td>NaN</td>\n",
       "    </tr>\n",
       "    <tr>\n",
       "      <th>1</th>\n",
       "      <td>\"Weird Al\" Yankovic</td>\n",
       "      <td>Dare to be Stupid</td>\n",
       "      <td>1985.0</td>\n",
       "    </tr>\n",
       "    <tr>\n",
       "      <th>2</th>\n",
       "      <td>\"Weird Al\" Yankovic</td>\n",
       "      <td>Alapalooza</td>\n",
       "      <td>2003.0</td>\n",
       "    </tr>\n",
       "    <tr>\n",
       "      <th>3</th>\n",
       "      <td>\"Weird Al\" Yankovic</td>\n",
       "      <td>Mandatory Fun</td>\n",
       "      <td>2014.0</td>\n",
       "    </tr>\n",
       "    <tr>\n",
       "      <th>4</th>\n",
       "      <td>10 Years</td>\n",
       "      <td>(How to Live) As Ghosts</td>\n",
       "      <td>2017.0</td>\n",
       "    </tr>\n",
       "  </tbody>\n",
       "</table>\n",
       "</div>"
      ],
      "text/plain": [
       "                Artist                    Album    Year\n",
       "0                  NaN                      NaN     NaN\n",
       "1  \"Weird Al\" Yankovic        Dare to be Stupid  1985.0\n",
       "2  \"Weird Al\" Yankovic               Alapalooza  2003.0\n",
       "3  \"Weird Al\" Yankovic            Mandatory Fun  2014.0\n",
       "4             10 Years  (How to Live) As Ghosts  2017.0"
      ]
     },
     "execution_count": 5,
     "metadata": {},
     "output_type": "execute_result"
    }
   ],
   "source": [
    "data.head()"
   ]
  },
  {
   "cell_type": "code",
   "execution_count": 6,
   "id": "d04a094b",
   "metadata": {},
   "outputs": [],
   "source": [
    "data=data.T"
   ]
  },
  {
   "cell_type": "code",
   "execution_count": 7,
   "id": "9340b832",
   "metadata": {},
   "outputs": [
    {
     "data": {
      "text/html": [
       "<div>\n",
       "<style scoped>\n",
       "    .dataframe tbody tr th:only-of-type {\n",
       "        vertical-align: middle;\n",
       "    }\n",
       "\n",
       "    .dataframe tbody tr th {\n",
       "        vertical-align: top;\n",
       "    }\n",
       "\n",
       "    .dataframe thead th {\n",
       "        text-align: right;\n",
       "    }\n",
       "</style>\n",
       "<table border=\"1\" class=\"dataframe\">\n",
       "  <thead>\n",
       "    <tr style=\"text-align: right;\">\n",
       "      <th></th>\n",
       "      <th>0</th>\n",
       "      <th>1</th>\n",
       "      <th>2</th>\n",
       "      <th>3</th>\n",
       "      <th>4</th>\n",
       "      <th>5</th>\n",
       "      <th>6</th>\n",
       "      <th>7</th>\n",
       "      <th>8</th>\n",
       "      <th>9</th>\n",
       "      <th>...</th>\n",
       "      <th>282</th>\n",
       "      <th>283</th>\n",
       "      <th>284</th>\n",
       "      <th>285</th>\n",
       "      <th>286</th>\n",
       "      <th>287</th>\n",
       "      <th>288</th>\n",
       "      <th>289</th>\n",
       "      <th>290</th>\n",
       "      <th>291</th>\n",
       "    </tr>\n",
       "  </thead>\n",
       "  <tbody>\n",
       "    <tr>\n",
       "      <th>Artist</th>\n",
       "      <td>NaN</td>\n",
       "      <td>\"Weird Al\" Yankovic</td>\n",
       "      <td>\"Weird Al\" Yankovic</td>\n",
       "      <td>\"Weird Al\" Yankovic</td>\n",
       "      <td>10 Years</td>\n",
       "      <td>3 Doors Down</td>\n",
       "      <td>3 Doors Down</td>\n",
       "      <td>3 Doors Down</td>\n",
       "      <td>5 Seconds of Summer</td>\n",
       "      <td>A Day to Remember</td>\n",
       "      <td>...</td>\n",
       "      <td>Various Artists</td>\n",
       "      <td>Various Artists</td>\n",
       "      <td>Various Artists</td>\n",
       "      <td>Various Artists</td>\n",
       "      <td>Vo-Kal</td>\n",
       "      <td>We Came as Romans</td>\n",
       "      <td>We Came as Romans</td>\n",
       "      <td>We Came as Romans</td>\n",
       "      <td>We Came as Romans</td>\n",
       "      <td>Weezer</td>\n",
       "    </tr>\n",
       "    <tr>\n",
       "      <th>Album</th>\n",
       "      <td>NaN</td>\n",
       "      <td>Dare to be Stupid</td>\n",
       "      <td>Alapalooza</td>\n",
       "      <td>Mandatory Fun</td>\n",
       "      <td>(How to Live) As Ghosts</td>\n",
       "      <td>The Better Life</td>\n",
       "      <td>Away From The Sun</td>\n",
       "      <td>Away From the Sun</td>\n",
       "      <td>Five</td>\n",
       "      <td>What Separates You From Me</td>\n",
       "      <td>...</td>\n",
       "      <td>The Best Of: Taste of Chaos Disc 2</td>\n",
       "      <td>Go Ahead Punk… Make My Day</td>\n",
       "      <td>Daredevil: The Album</td>\n",
       "      <td>Rock the Beat</td>\n",
       "      <td>VK!</td>\n",
       "      <td>Understanding What We've Grown to be</td>\n",
       "      <td>Tracing Back Roots</td>\n",
       "      <td>We Came as Romans</td>\n",
       "      <td>Cold Like War</td>\n",
       "      <td>The Blue Album</td>\n",
       "    </tr>\n",
       "    <tr>\n",
       "      <th>Year</th>\n",
       "      <td>NaN</td>\n",
       "      <td>1985.0</td>\n",
       "      <td>2003.0</td>\n",
       "      <td>2014.0</td>\n",
       "      <td>2017.0</td>\n",
       "      <td>2000.0</td>\n",
       "      <td>2002.0</td>\n",
       "      <td>2002.0</td>\n",
       "      <td>2014.0</td>\n",
       "      <td>2010.0</td>\n",
       "      <td>...</td>\n",
       "      <td>2006.0</td>\n",
       "      <td>1996.0</td>\n",
       "      <td>2006.0</td>\n",
       "      <td>1995.0</td>\n",
       "      <td>2018.0</td>\n",
       "      <td>2011.0</td>\n",
       "      <td>2013.0</td>\n",
       "      <td>2015.0</td>\n",
       "      <td>2017.0</td>\n",
       "      <td>1994.0</td>\n",
       "    </tr>\n",
       "  </tbody>\n",
       "</table>\n",
       "<p>3 rows × 292 columns</p>\n",
       "</div>"
      ],
      "text/plain": [
       "        0                    1                    2                    3    \\\n",
       "Artist  NaN  \"Weird Al\" Yankovic  \"Weird Al\" Yankovic  \"Weird Al\" Yankovic   \n",
       "Album   NaN    Dare to be Stupid           Alapalooza        Mandatory Fun   \n",
       "Year    NaN               1985.0               2003.0               2014.0   \n",
       "\n",
       "                            4                5                  6    \\\n",
       "Artist                 10 Years     3 Doors Down       3 Doors Down   \n",
       "Album   (How to Live) As Ghosts  The Better Life  Away From The Sun   \n",
       "Year                     2017.0           2000.0             2002.0   \n",
       "\n",
       "                      7                    8                           9    \\\n",
       "Artist       3 Doors Down  5 Seconds of Summer           A Day to Remember   \n",
       "Album   Away From the Sun                 Five  What Separates You From Me   \n",
       "Year               2002.0               2014.0                      2010.0   \n",
       "\n",
       "        ...                                 282                         283  \\\n",
       "Artist  ...                     Various Artists             Various Artists   \n",
       "Album   ...  The Best Of: Taste of Chaos Disc 2  Go Ahead Punk… Make My Day   \n",
       "Year    ...                              2006.0                      1996.0   \n",
       "\n",
       "                         284              285     286  \\\n",
       "Artist       Various Artists  Various Artists  Vo-Kal   \n",
       "Album   Daredevil: The Album    Rock the Beat     VK!   \n",
       "Year                  2006.0           1995.0  2018.0   \n",
       "\n",
       "                                         287                 288  \\\n",
       "Artist                     We Came as Romans   We Came as Romans   \n",
       "Album   Understanding What We've Grown to be  Tracing Back Roots   \n",
       "Year                                  2011.0              2013.0   \n",
       "\n",
       "                      289                290             291  \n",
       "Artist  We Came as Romans  We Came as Romans          Weezer  \n",
       "Album   We Came as Romans      Cold Like War  The Blue Album  \n",
       "Year               2015.0             2017.0          1994.0  \n",
       "\n",
       "[3 rows x 292 columns]"
      ]
     },
     "execution_count": 7,
     "metadata": {},
     "output_type": "execute_result"
    }
   ],
   "source": [
    "data.head()"
   ]
  },
  {
   "cell_type": "code",
   "execution_count": 8,
   "id": "4dfbc2ae",
   "metadata": {},
   "outputs": [],
   "source": [
    "data.drop(0,axis=1,inplace=True)"
   ]
  },
  {
   "cell_type": "code",
   "execution_count": 9,
   "id": "7018e9ef",
   "metadata": {},
   "outputs": [
    {
     "data": {
      "text/html": [
       "<div>\n",
       "<style scoped>\n",
       "    .dataframe tbody tr th:only-of-type {\n",
       "        vertical-align: middle;\n",
       "    }\n",
       "\n",
       "    .dataframe tbody tr th {\n",
       "        vertical-align: top;\n",
       "    }\n",
       "\n",
       "    .dataframe thead th {\n",
       "        text-align: right;\n",
       "    }\n",
       "</style>\n",
       "<table border=\"1\" class=\"dataframe\">\n",
       "  <thead>\n",
       "    <tr style=\"text-align: right;\">\n",
       "      <th></th>\n",
       "      <th>Artist</th>\n",
       "      <th>Album</th>\n",
       "      <th>Year</th>\n",
       "    </tr>\n",
       "  </thead>\n",
       "  <tbody>\n",
       "    <tr>\n",
       "      <th>1</th>\n",
       "      <td>\"Weird Al\" Yankovic</td>\n",
       "      <td>Dare to be Stupid</td>\n",
       "      <td>1985.0</td>\n",
       "    </tr>\n",
       "    <tr>\n",
       "      <th>2</th>\n",
       "      <td>\"Weird Al\" Yankovic</td>\n",
       "      <td>Alapalooza</td>\n",
       "      <td>2003.0</td>\n",
       "    </tr>\n",
       "    <tr>\n",
       "      <th>3</th>\n",
       "      <td>\"Weird Al\" Yankovic</td>\n",
       "      <td>Mandatory Fun</td>\n",
       "      <td>2014.0</td>\n",
       "    </tr>\n",
       "    <tr>\n",
       "      <th>4</th>\n",
       "      <td>10 Years</td>\n",
       "      <td>(How to Live) As Ghosts</td>\n",
       "      <td>2017.0</td>\n",
       "    </tr>\n",
       "    <tr>\n",
       "      <th>5</th>\n",
       "      <td>3 Doors Down</td>\n",
       "      <td>The Better Life</td>\n",
       "      <td>2000.0</td>\n",
       "    </tr>\n",
       "  </tbody>\n",
       "</table>\n",
       "</div>"
      ],
      "text/plain": [
       "                Artist                    Album    Year\n",
       "1  \"Weird Al\" Yankovic        Dare to be Stupid  1985.0\n",
       "2  \"Weird Al\" Yankovic               Alapalooza  2003.0\n",
       "3  \"Weird Al\" Yankovic            Mandatory Fun  2014.0\n",
       "4             10 Years  (How to Live) As Ghosts  2017.0\n",
       "5         3 Doors Down          The Better Life  2000.0"
      ]
     },
     "execution_count": 9,
     "metadata": {},
     "output_type": "execute_result"
    }
   ],
   "source": [
    "data=data.T\n",
    "data.head()"
   ]
  },
  {
   "cell_type": "code",
   "execution_count": 10,
   "id": "91b4e439",
   "metadata": {},
   "outputs": [
    {
     "data": {
      "text/plain": [
       "1"
      ]
     },
     "execution_count": 10,
     "metadata": {},
     "output_type": "execute_result"
    }
   ],
   "source": [
    "data['Year'].isna().sum()"
   ]
  },
  {
   "cell_type": "code",
   "execution_count": 11,
   "id": "789e25f4",
   "metadata": {},
   "outputs": [
    {
     "data": {
      "text/html": [
       "<div>\n",
       "<style scoped>\n",
       "    .dataframe tbody tr th:only-of-type {\n",
       "        vertical-align: middle;\n",
       "    }\n",
       "\n",
       "    .dataframe tbody tr th {\n",
       "        vertical-align: top;\n",
       "    }\n",
       "\n",
       "    .dataframe thead th {\n",
       "        text-align: right;\n",
       "    }\n",
       "</style>\n",
       "<table border=\"1\" class=\"dataframe\">\n",
       "  <thead>\n",
       "    <tr style=\"text-align: right;\">\n",
       "      <th></th>\n",
       "      <th>Artist</th>\n",
       "      <th>Album</th>\n",
       "      <th>Year</th>\n",
       "    </tr>\n",
       "  </thead>\n",
       "  <tbody>\n",
       "    <tr>\n",
       "      <th>287</th>\n",
       "      <td>We Came as Romans</td>\n",
       "      <td>Understanding What We've Grown to be</td>\n",
       "      <td>2011.0</td>\n",
       "    </tr>\n",
       "    <tr>\n",
       "      <th>288</th>\n",
       "      <td>We Came as Romans</td>\n",
       "      <td>Tracing Back Roots</td>\n",
       "      <td>2013.0</td>\n",
       "    </tr>\n",
       "    <tr>\n",
       "      <th>289</th>\n",
       "      <td>We Came as Romans</td>\n",
       "      <td>We Came as Romans</td>\n",
       "      <td>2015.0</td>\n",
       "    </tr>\n",
       "    <tr>\n",
       "      <th>290</th>\n",
       "      <td>We Came as Romans</td>\n",
       "      <td>Cold Like War</td>\n",
       "      <td>2017.0</td>\n",
       "    </tr>\n",
       "    <tr>\n",
       "      <th>291</th>\n",
       "      <td>Weezer</td>\n",
       "      <td>The Blue Album</td>\n",
       "      <td>1994.0</td>\n",
       "    </tr>\n",
       "  </tbody>\n",
       "</table>\n",
       "</div>"
      ],
      "text/plain": [
       "                Artist                                 Album    Year\n",
       "287  We Came as Romans  Understanding What We've Grown to be  2011.0\n",
       "288  We Came as Romans                    Tracing Back Roots  2013.0\n",
       "289  We Came as Romans                     We Came as Romans  2015.0\n",
       "290  We Came as Romans                         Cold Like War  2017.0\n",
       "291             Weezer                        The Blue Album  1994.0"
      ]
     },
     "execution_count": 11,
     "metadata": {},
     "output_type": "execute_result"
    }
   ],
   "source": [
    "data.tail()"
   ]
  },
  {
   "cell_type": "code",
   "execution_count": 12,
   "id": "b4f668eb",
   "metadata": {},
   "outputs": [
    {
     "data": {
      "text/html": [
       "<div>\n",
       "<style scoped>\n",
       "    .dataframe tbody tr th:only-of-type {\n",
       "        vertical-align: middle;\n",
       "    }\n",
       "\n",
       "    .dataframe tbody tr th {\n",
       "        vertical-align: top;\n",
       "    }\n",
       "\n",
       "    .dataframe thead th {\n",
       "        text-align: right;\n",
       "    }\n",
       "</style>\n",
       "<table border=\"1\" class=\"dataframe\">\n",
       "  <thead>\n",
       "    <tr style=\"text-align: right;\">\n",
       "      <th></th>\n",
       "      <th>Artist</th>\n",
       "      <th>Album</th>\n",
       "      <th>Year</th>\n",
       "    </tr>\n",
       "  </thead>\n",
       "  <tbody>\n",
       "    <tr>\n",
       "      <th>1</th>\n",
       "      <td>\"Weird Al\" Yankovic</td>\n",
       "      <td>Dare to be Stupid</td>\n",
       "      <td>1985.0</td>\n",
       "    </tr>\n",
       "    <tr>\n",
       "      <th>2</th>\n",
       "      <td>\"Weird Al\" Yankovic</td>\n",
       "      <td>Alapalooza</td>\n",
       "      <td>2003.0</td>\n",
       "    </tr>\n",
       "    <tr>\n",
       "      <th>3</th>\n",
       "      <td>\"Weird Al\" Yankovic</td>\n",
       "      <td>Mandatory Fun</td>\n",
       "      <td>2014.0</td>\n",
       "    </tr>\n",
       "    <tr>\n",
       "      <th>4</th>\n",
       "      <td>10 Years</td>\n",
       "      <td>(How to Live) As Ghosts</td>\n",
       "      <td>2017.0</td>\n",
       "    </tr>\n",
       "    <tr>\n",
       "      <th>5</th>\n",
       "      <td>3 Doors Down</td>\n",
       "      <td>The Better Life</td>\n",
       "      <td>2000.0</td>\n",
       "    </tr>\n",
       "  </tbody>\n",
       "</table>\n",
       "</div>"
      ],
      "text/plain": [
       "                Artist                    Album    Year\n",
       "1  \"Weird Al\" Yankovic        Dare to be Stupid  1985.0\n",
       "2  \"Weird Al\" Yankovic               Alapalooza  2003.0\n",
       "3  \"Weird Al\" Yankovic            Mandatory Fun  2014.0\n",
       "4             10 Years  (How to Live) As Ghosts  2017.0\n",
       "5         3 Doors Down          The Better Life  2000.0"
      ]
     },
     "execution_count": 12,
     "metadata": {},
     "output_type": "execute_result"
    }
   ],
   "source": [
    "data.head()"
   ]
  },
  {
   "cell_type": "code",
   "execution_count": 13,
   "id": "44e2208b",
   "metadata": {},
   "outputs": [
    {
     "data": {
      "text/html": [
       "<div>\n",
       "<style scoped>\n",
       "    .dataframe tbody tr th:only-of-type {\n",
       "        vertical-align: middle;\n",
       "    }\n",
       "\n",
       "    .dataframe tbody tr th {\n",
       "        vertical-align: top;\n",
       "    }\n",
       "\n",
       "    .dataframe thead th {\n",
       "        text-align: right;\n",
       "    }\n",
       "</style>\n",
       "<table border=\"1\" class=\"dataframe\">\n",
       "  <thead>\n",
       "    <tr style=\"text-align: right;\">\n",
       "      <th></th>\n",
       "      <th>Artist</th>\n",
       "      <th>Album</th>\n",
       "      <th>Year</th>\n",
       "    </tr>\n",
       "  </thead>\n",
       "  <tbody>\n",
       "    <tr>\n",
       "      <th>44</th>\n",
       "      <td>Beyond Repair</td>\n",
       "      <td>Things Change</td>\n",
       "      <td>NaN</td>\n",
       "    </tr>\n",
       "  </tbody>\n",
       "</table>\n",
       "</div>"
      ],
      "text/plain": [
       "           Artist          Album Year\n",
       "44  Beyond Repair  Things Change  NaN"
      ]
     },
     "execution_count": 13,
     "metadata": {},
     "output_type": "execute_result"
    }
   ],
   "source": [
    "data[data['Year'].isna()]"
   ]
  },
  {
   "cell_type": "code",
   "execution_count": 14,
   "id": "bfa7deb7",
   "metadata": {},
   "outputs": [],
   "source": [
    "data['Year']=data['Year'].replace(np.nan,0)"
   ]
  },
  {
   "cell_type": "code",
   "execution_count": 15,
   "id": "7b8ade41",
   "metadata": {},
   "outputs": [
    {
     "data": {
      "text/html": [
       "<div>\n",
       "<style scoped>\n",
       "    .dataframe tbody tr th:only-of-type {\n",
       "        vertical-align: middle;\n",
       "    }\n",
       "\n",
       "    .dataframe tbody tr th {\n",
       "        vertical-align: top;\n",
       "    }\n",
       "\n",
       "    .dataframe thead th {\n",
       "        text-align: right;\n",
       "    }\n",
       "</style>\n",
       "<table border=\"1\" class=\"dataframe\">\n",
       "  <thead>\n",
       "    <tr style=\"text-align: right;\">\n",
       "      <th></th>\n",
       "      <th>Artist</th>\n",
       "      <th>Album</th>\n",
       "      <th>Year</th>\n",
       "    </tr>\n",
       "  </thead>\n",
       "  <tbody>\n",
       "    <tr>\n",
       "      <th>1</th>\n",
       "      <td>\"Weird Al\" Yankovic</td>\n",
       "      <td>Dare to be Stupid</td>\n",
       "      <td>1985.0</td>\n",
       "    </tr>\n",
       "    <tr>\n",
       "      <th>2</th>\n",
       "      <td>\"Weird Al\" Yankovic</td>\n",
       "      <td>Alapalooza</td>\n",
       "      <td>2003.0</td>\n",
       "    </tr>\n",
       "    <tr>\n",
       "      <th>3</th>\n",
       "      <td>\"Weird Al\" Yankovic</td>\n",
       "      <td>Mandatory Fun</td>\n",
       "      <td>2014.0</td>\n",
       "    </tr>\n",
       "    <tr>\n",
       "      <th>4</th>\n",
       "      <td>10 Years</td>\n",
       "      <td>(How to Live) As Ghosts</td>\n",
       "      <td>2017.0</td>\n",
       "    </tr>\n",
       "    <tr>\n",
       "      <th>5</th>\n",
       "      <td>3 Doors Down</td>\n",
       "      <td>The Better Life</td>\n",
       "      <td>2000.0</td>\n",
       "    </tr>\n",
       "    <tr>\n",
       "      <th>...</th>\n",
       "      <td>...</td>\n",
       "      <td>...</td>\n",
       "      <td>...</td>\n",
       "    </tr>\n",
       "    <tr>\n",
       "      <th>287</th>\n",
       "      <td>We Came as Romans</td>\n",
       "      <td>Understanding What We've Grown to be</td>\n",
       "      <td>2011.0</td>\n",
       "    </tr>\n",
       "    <tr>\n",
       "      <th>288</th>\n",
       "      <td>We Came as Romans</td>\n",
       "      <td>Tracing Back Roots</td>\n",
       "      <td>2013.0</td>\n",
       "    </tr>\n",
       "    <tr>\n",
       "      <th>289</th>\n",
       "      <td>We Came as Romans</td>\n",
       "      <td>We Came as Romans</td>\n",
       "      <td>2015.0</td>\n",
       "    </tr>\n",
       "    <tr>\n",
       "      <th>290</th>\n",
       "      <td>We Came as Romans</td>\n",
       "      <td>Cold Like War</td>\n",
       "      <td>2017.0</td>\n",
       "    </tr>\n",
       "    <tr>\n",
       "      <th>291</th>\n",
       "      <td>Weezer</td>\n",
       "      <td>The Blue Album</td>\n",
       "      <td>1994.0</td>\n",
       "    </tr>\n",
       "  </tbody>\n",
       "</table>\n",
       "<p>291 rows × 3 columns</p>\n",
       "</div>"
      ],
      "text/plain": [
       "                  Artist                                 Album    Year\n",
       "1    \"Weird Al\" Yankovic                     Dare to be Stupid  1985.0\n",
       "2    \"Weird Al\" Yankovic                            Alapalooza  2003.0\n",
       "3    \"Weird Al\" Yankovic                         Mandatory Fun  2014.0\n",
       "4               10 Years               (How to Live) As Ghosts  2017.0\n",
       "5           3 Doors Down                       The Better Life  2000.0\n",
       "..                   ...                                   ...     ...\n",
       "287    We Came as Romans  Understanding What We've Grown to be  2011.0\n",
       "288    We Came as Romans                    Tracing Back Roots  2013.0\n",
       "289    We Came as Romans                     We Came as Romans  2015.0\n",
       "290    We Came as Romans                         Cold Like War  2017.0\n",
       "291               Weezer                        The Blue Album  1994.0\n",
       "\n",
       "[291 rows x 3 columns]"
      ]
     },
     "execution_count": 15,
     "metadata": {},
     "output_type": "execute_result"
    }
   ],
   "source": [
    "data"
   ]
  },
  {
   "cell_type": "code",
   "execution_count": 16,
   "id": "4b3be843",
   "metadata": {},
   "outputs": [
    {
     "data": {
      "text/html": [
       "<div>\n",
       "<style scoped>\n",
       "    .dataframe tbody tr th:only-of-type {\n",
       "        vertical-align: middle;\n",
       "    }\n",
       "\n",
       "    .dataframe tbody tr th {\n",
       "        vertical-align: top;\n",
       "    }\n",
       "\n",
       "    .dataframe thead th {\n",
       "        text-align: right;\n",
       "    }\n",
       "</style>\n",
       "<table border=\"1\" class=\"dataframe\">\n",
       "  <thead>\n",
       "    <tr style=\"text-align: right;\">\n",
       "      <th></th>\n",
       "      <th>Artist</th>\n",
       "      <th>Album</th>\n",
       "      <th>Year</th>\n",
       "    </tr>\n",
       "  </thead>\n",
       "  <tbody>\n",
       "    <tr>\n",
       "      <th>44</th>\n",
       "      <td>Beyond Repair</td>\n",
       "      <td>Things Change</td>\n",
       "      <td>0.0</td>\n",
       "    </tr>\n",
       "  </tbody>\n",
       "</table>\n",
       "</div>"
      ],
      "text/plain": [
       "           Artist          Album  Year\n",
       "44  Beyond Repair  Things Change   0.0"
      ]
     },
     "execution_count": 16,
     "metadata": {},
     "output_type": "execute_result"
    }
   ],
   "source": [
    "data[data['Artist']=='Beyond Repair']"
   ]
  },
  {
   "cell_type": "code",
   "execution_count": 17,
   "id": "92b11a84",
   "metadata": {
    "scrolled": true
   },
   "outputs": [],
   "source": [
    "data['Year']=list(map(lambda x: int(round(x,0)),data['Year']))"
   ]
  },
  {
   "cell_type": "code",
   "execution_count": 18,
   "id": "26bf93ad",
   "metadata": {},
   "outputs": [
    {
     "data": {
      "text/plain": [
       "Artist    0\n",
       "Album     0\n",
       "Year      0\n",
       "dtype: int64"
      ]
     },
     "execution_count": 18,
     "metadata": {},
     "output_type": "execute_result"
    }
   ],
   "source": [
    "data.isna().sum()"
   ]
  },
  {
   "cell_type": "code",
   "execution_count": 19,
   "id": "daa2cd07",
   "metadata": {},
   "outputs": [
    {
     "data": {
      "text/html": [
       "<div>\n",
       "<style scoped>\n",
       "    .dataframe tbody tr th:only-of-type {\n",
       "        vertical-align: middle;\n",
       "    }\n",
       "\n",
       "    .dataframe tbody tr th {\n",
       "        vertical-align: top;\n",
       "    }\n",
       "\n",
       "    .dataframe thead th {\n",
       "        text-align: right;\n",
       "    }\n",
       "</style>\n",
       "<table border=\"1\" class=\"dataframe\">\n",
       "  <thead>\n",
       "    <tr style=\"text-align: right;\">\n",
       "      <th></th>\n",
       "      <th>Artist</th>\n",
       "      <th>Album</th>\n",
       "      <th>Year</th>\n",
       "    </tr>\n",
       "  </thead>\n",
       "  <tbody>\n",
       "    <tr>\n",
       "      <th>1</th>\n",
       "      <td>\"Weird Al\" Yankovic</td>\n",
       "      <td>Dare to be Stupid</td>\n",
       "      <td>1985</td>\n",
       "    </tr>\n",
       "    <tr>\n",
       "      <th>2</th>\n",
       "      <td>\"Weird Al\" Yankovic</td>\n",
       "      <td>Alapalooza</td>\n",
       "      <td>2003</td>\n",
       "    </tr>\n",
       "    <tr>\n",
       "      <th>3</th>\n",
       "      <td>\"Weird Al\" Yankovic</td>\n",
       "      <td>Mandatory Fun</td>\n",
       "      <td>2014</td>\n",
       "    </tr>\n",
       "    <tr>\n",
       "      <th>4</th>\n",
       "      <td>10 Years</td>\n",
       "      <td>(How to Live) As Ghosts</td>\n",
       "      <td>2017</td>\n",
       "    </tr>\n",
       "    <tr>\n",
       "      <th>5</th>\n",
       "      <td>3 Doors Down</td>\n",
       "      <td>The Better Life</td>\n",
       "      <td>2000</td>\n",
       "    </tr>\n",
       "  </tbody>\n",
       "</table>\n",
       "</div>"
      ],
      "text/plain": [
       "                Artist                    Album  Year\n",
       "1  \"Weird Al\" Yankovic        Dare to be Stupid  1985\n",
       "2  \"Weird Al\" Yankovic               Alapalooza  2003\n",
       "3  \"Weird Al\" Yankovic            Mandatory Fun  2014\n",
       "4             10 Years  (How to Live) As Ghosts  2017\n",
       "5         3 Doors Down          The Better Life  2000"
      ]
     },
     "execution_count": 19,
     "metadata": {},
     "output_type": "execute_result"
    }
   ],
   "source": [
    "data.head()"
   ]
  },
  {
   "cell_type": "code",
   "execution_count": 21,
   "id": "1957cebc",
   "metadata": {},
   "outputs": [
    {
     "data": {
      "text/plain": [
       "Artist    Beyond Repair\n",
       "Album     Things Change\n",
       "Year                  0\n",
       "Name: 44, dtype: object"
      ]
     },
     "execution_count": 21,
     "metadata": {},
     "output_type": "execute_result"
    }
   ],
   "source": [
    "data.loc[44]"
   ]
  },
  {
   "cell_type": "code",
   "execution_count": 22,
   "id": "723af404",
   "metadata": {},
   "outputs": [
    {
     "data": {
      "text/plain": [
       "38"
      ]
     },
     "execution_count": 22,
     "metadata": {},
     "output_type": "execute_result"
    }
   ],
   "source": [
    "data['Year'].nunique()"
   ]
  },
  {
   "cell_type": "code",
   "execution_count": 23,
   "id": "0ef43cc5",
   "metadata": {},
   "outputs": [
    {
     "data": {
      "text/plain": [
       "array([1985, 2003, 2014, 2017, 2000, 2002, 2010, 2013, 2018, 2005, 2012,\n",
       "       1995, 2008, 2011, 1994, 2001, 1998, 2015, 2006, 2007, 2004,    0,\n",
       "       1970, 1973, 1999, 1993, 1996, 2016, 1997, 1992, 2009, 2019, 1990,\n",
       "       1977, 1991, 1981, 1989, 1964], dtype=int64)"
      ]
     },
     "execution_count": 23,
     "metadata": {},
     "output_type": "execute_result"
    }
   ],
   "source": [
    "data['Year'].unique()"
   ]
  },
  {
   "cell_type": "code",
   "execution_count": 24,
   "id": "6ec716a3",
   "metadata": {},
   "outputs": [
    {
     "data": {
      "text/plain": [
       "177"
      ]
     },
     "execution_count": 24,
     "metadata": {},
     "output_type": "execute_result"
    }
   ],
   "source": [
    "data['Artist'].nunique()"
   ]
  },
  {
   "cell_type": "code",
   "execution_count": 27,
   "id": "b4e2691e",
   "metadata": {},
   "outputs": [
    {
     "data": {
      "text/plain": [
       "Senses Fail                             8\n",
       "Nickelback                              7\n",
       "Lamb of God                             7\n",
       "Various Artists                         6\n",
       "DevilDriver                             5\n",
       "New Found Glory                         5\n",
       "We Came as Romans                       4\n",
       "Mudvayne                                4\n",
       "Brand New                               4\n",
       "Blink 182                               3\n",
       "Slipknot                                3\n",
       "Puddle of Mudd                          3\n",
       "Sum 41                                  3\n",
       "\"Weird Al\" Yankovic                     3\n",
       "Stone Temple Pilots                     3\n",
       "Rush                                    3\n",
       "Butthole Surfers                        3\n",
       "Chimaira                                3\n",
       "Drowning Pool                           3\n",
       "Crossfade                               3\n",
       "Alkaline Trio                           3\n",
       "3 Doors Down                            3\n",
       "A Perfect Circle                        3\n",
       "Acacia Strain                           3\n",
       "Alesana                                 3\n",
       "Incubus                                 3\n",
       "Hatebreed                               3\n",
       "Matchbox 20                             2\n",
       "Cute Is What We Aim For                 2\n",
       "Set Your Goals                          2\n",
       "Linkin Park                             2\n",
       "Seether                                 2\n",
       "Eighteen Visions                        2\n",
       "Mark Chesnutt                           2\n",
       "Godsmack                                2\n",
       "Evanescence                             2\n",
       "Relient K                               2\n",
       "Fear Factory                            2\n",
       "Metallica                               2\n",
       "Queen                                   2\n",
       "Motionless in White                     2\n",
       "For Today                               2\n",
       "Philip Wesley Yates                     2\n",
       "Parkway Drive                           2\n",
       "Hatesphere                              2\n",
       "God Forbid                              2\n",
       "Nonpoint                                2\n",
       "Lifehouse                               2\n",
       "Trapt                                   2\n",
       "The Used                                2\n",
       "Throwdown                               2\n",
       "Attack Attack!                          2\n",
       "Angel Blake                             2\n",
       "Soundtrack                              2\n",
       "Trust Company                           2\n",
       "Bring Me The Horizon                    2\n",
       "Avenged Sevenfold                       2\n",
       "Soundgarden                             2\n",
       "Black Sabbath                           2\n",
       "System of a Down                        2\n",
       "Cake                                    2\n",
       "Candlebox                               2\n",
       "A Day to Remember                       2\n",
       "Bloodsimple                             2\n",
       "The Fold                                1\n",
       "The Final Burden                        1\n",
       "Nine Inch Nails                         1\n",
       "Newsted                                 1\n",
       "Soapbox Arson                           1\n",
       "Threat Signal                           1\n",
       "My Chemical Romance                     1\n",
       "Much The Same                           1\n",
       "The Cure                                1\n",
       "Meat Loaf                               1\n",
       "Twelve Gauge Valentine                  1\n",
       "Maroon 5                                1\n",
       "Underoath                               1\n",
       "Lit                                     1\n",
       "Vo-Kal                                  1\n",
       "No Doubt                                1\n",
       "Pierce The Veil                         1\n",
       "Of Mice & Men                           1\n",
       "The Bled                                1\n",
       "Simon & Garfunkel                       1\n",
       "Limp Bizkit                             1\n",
       "Seven Mary Three                        1\n",
       "Sepultura                               1\n",
       "Soil                                    1\n",
       "Semisonic                               1\n",
       "Sematic                                 1\n",
       "Seal                                    1\n",
       "Savage Garden                           1\n",
       "Saosin                                  1\n",
       "Spin Doctors                            1\n",
       "Saliva                                  1\n",
       "SpineShank                              1\n",
       "Spongebob Squarepants                   1\n",
       "Rollins Band                            1\n",
       "Red                                     1\n",
       "Stutterfly                              1\n",
       "Recession                               1\n",
       "Social Distortion                       1\n",
       "Taking Back Sunday                      1\n",
       "Taproot                                 1\n",
       "Silverstein                             1\n",
       "Hanson                                  1\n",
       "Kid Rock                                1\n",
       "Burn The Priest                         1\n",
       "Bloodlined Calligraphy                  1\n",
       "Bob Marley & The Wailers                1\n",
       "Born From Pain                          1\n",
       "Bowling For Soup                        1\n",
       "Brand New Sin                           1\n",
       "Breaking Benjamin                       1\n",
       "Bush                                    1\n",
       "Beyond Repair                           1\n",
       "Chunk! No, Captain Chunk!               1\n",
       "Cold                                    1\n",
       "Creed                                   1\n",
       "Crowbar                                 1\n",
       "Damageplan                              1\n",
       "Daughtry                                1\n",
       "Blessthefall                            1\n",
       "Better Than Ezra                        1\n",
       "Dead Weight                             1\n",
       "Architect                               1\n",
       "5 Seconds of Summer                     1\n",
       "A Perfect Murder                        1\n",
       "Alanis Morissette                       1\n",
       "Alice in Chains                         1\n",
       "Alien Ant Farm                          1\n",
       "All That Remains                        1\n",
       "As I Lay Dying                          1\n",
       "Becoming The Archetype                  1\n",
       "At Half Mast                            1\n",
       "Atreyu                                  1\n",
       "Avril Lavigne                           1\n",
       "Bagheera                                1\n",
       "Bayside                                 1\n",
       "Beautiful Skin                          1\n",
       "Dead Poetic                             1\n",
       "Default                                 1\n",
       "Jungle Rot                              1\n",
       "Hellyeah                                1\n",
       "George Thorogood & The Destroyers       1\n",
       "Gin Blossoms                            1\n",
       "Godhead                                 1\n",
       "Green Day                               1\n",
       "10 Years                                1\n",
       "Hawthorne Heights                       1\n",
       "Hevein                                  1\n",
       "Front Line Assembly                     1\n",
       "Hootie & The Blowfish                   1\n",
       "In This Moment                          1\n",
       "International Superheroes of Harcore    1\n",
       "Jack's Mannequin                        1\n",
       "Johnny Cash                             1\n",
       "Journey                                 1\n",
       "George Strait                           1\n",
       "Found Dead Hanging                      1\n",
       "Demon Hunter                            1\n",
       "Escape The Fate                         1\n",
       "Diecast                                 1\n",
       "Dinosaur Jr.                            1\n",
       "Dire Straits                            1\n",
       "Dry Kill Logic                          1\n",
       "Dryline                                 1\n",
       "Eminem                                  1\n",
       "Everclear                               1\n",
       "Foreigner                               1\n",
       "Fall Out Boy                            1\n",
       "Falling in Reverse                      1\n",
       "Fire From The Gods                      1\n",
       "Fit For an Autopsy                      1\n",
       "Five Finger Death Punch                 1\n",
       "Flyleaf                                 1\n",
       "Weezer                                  1\n",
       "Name: Artist, dtype: int64"
      ]
     },
     "execution_count": 27,
     "metadata": {},
     "output_type": "execute_result"
    }
   ],
   "source": [
    "data['Artist'].value_counts()"
   ]
  },
  {
   "cell_type": "code",
   "execution_count": 29,
   "id": "b444a079",
   "metadata": {},
   "outputs": [],
   "source": [
    "cdct=list(data['Artist'].value_counts())"
   ]
  },
  {
   "cell_type": "code",
   "execution_count": null,
   "id": "a42fd288",
   "metadata": {},
   "outputs": [],
   "source": [
    "#create dictionary of artist to cds owned of artist to apply to new column in original table\n"
   ]
  },
  {
   "cell_type": "code",
   "execution_count": 31,
   "id": "16ef4267",
   "metadata": {},
   "outputs": [
    {
     "data": {
      "text/plain": [
       "177"
      ]
     },
     "execution_count": 31,
     "metadata": {},
     "output_type": "execute_result"
    }
   ],
   "source": [
    "len(cdct)"
   ]
  },
  {
   "cell_type": "code",
   "execution_count": 28,
   "id": "22f5becf",
   "metadata": {},
   "outputs": [
    {
     "ename": "AttributeError",
     "evalue": "'str' object has no attribute 'value_counts'",
     "output_type": "error",
     "traceback": [
      "\u001b[1;31m---------------------------------------------------------------------------\u001b[0m",
      "\u001b[1;31mAttributeError\u001b[0m                            Traceback (most recent call last)",
      "\u001b[1;32m~\\AppData\\Local\\Temp/ipykernel_19316/841172694.py\u001b[0m in \u001b[0;36m<module>\u001b[1;34m\u001b[0m\n\u001b[1;32m----> 1\u001b[1;33m \u001b[0mdata\u001b[0m\u001b[1;33m[\u001b[0m\u001b[1;34m'Total CDs'\u001b[0m\u001b[1;33m]\u001b[0m\u001b[1;33m=\u001b[0m\u001b[0mlist\u001b[0m\u001b[1;33m(\u001b[0m\u001b[0mmap\u001b[0m\u001b[1;33m(\u001b[0m\u001b[1;32mlambda\u001b[0m \u001b[0mx\u001b[0m\u001b[1;33m:\u001b[0m \u001b[0mx\u001b[0m\u001b[1;33m.\u001b[0m\u001b[0mvalue_counts\u001b[0m\u001b[1;33m(\u001b[0m\u001b[1;33m)\u001b[0m\u001b[1;33m,\u001b[0m\u001b[0mdata\u001b[0m\u001b[1;33m[\u001b[0m\u001b[1;34m'Artist'\u001b[0m\u001b[1;33m]\u001b[0m\u001b[1;33m)\u001b[0m\u001b[1;33m)\u001b[0m\u001b[1;33m\u001b[0m\u001b[1;33m\u001b[0m\u001b[0m\n\u001b[0m",
      "\u001b[1;32m~\\AppData\\Local\\Temp/ipykernel_19316/841172694.py\u001b[0m in \u001b[0;36m<lambda>\u001b[1;34m(x)\u001b[0m\n\u001b[1;32m----> 1\u001b[1;33m \u001b[0mdata\u001b[0m\u001b[1;33m[\u001b[0m\u001b[1;34m'Total CDs'\u001b[0m\u001b[1;33m]\u001b[0m\u001b[1;33m=\u001b[0m\u001b[0mlist\u001b[0m\u001b[1;33m(\u001b[0m\u001b[0mmap\u001b[0m\u001b[1;33m(\u001b[0m\u001b[1;32mlambda\u001b[0m \u001b[0mx\u001b[0m\u001b[1;33m:\u001b[0m \u001b[0mx\u001b[0m\u001b[1;33m.\u001b[0m\u001b[0mvalue_counts\u001b[0m\u001b[1;33m(\u001b[0m\u001b[1;33m)\u001b[0m\u001b[1;33m,\u001b[0m\u001b[0mdata\u001b[0m\u001b[1;33m[\u001b[0m\u001b[1;34m'Artist'\u001b[0m\u001b[1;33m]\u001b[0m\u001b[1;33m)\u001b[0m\u001b[1;33m)\u001b[0m\u001b[1;33m\u001b[0m\u001b[1;33m\u001b[0m\u001b[0m\n\u001b[0m",
      "\u001b[1;31mAttributeError\u001b[0m: 'str' object has no attribute 'value_counts'"
     ]
    }
   ],
   "source": [
    "data['Total CDs']=list(map(lambda x: x.value_counts(),data['Artist']))"
   ]
  },
  {
   "cell_type": "code",
   "execution_count": null,
   "id": "a2d1e1c0",
   "metadata": {},
   "outputs": [],
   "source": []
  }
 ],
 "metadata": {
  "kernelspec": {
   "display_name": "Python 3 (ipykernel)",
   "language": "python",
   "name": "python3"
  },
  "language_info": {
   "codemirror_mode": {
    "name": "ipython",
    "version": 3
   },
   "file_extension": ".py",
   "mimetype": "text/x-python",
   "name": "python",
   "nbconvert_exporter": "python",
   "pygments_lexer": "ipython3",
   "version": "3.9.7"
  }
 },
 "nbformat": 4,
 "nbformat_minor": 5
}
